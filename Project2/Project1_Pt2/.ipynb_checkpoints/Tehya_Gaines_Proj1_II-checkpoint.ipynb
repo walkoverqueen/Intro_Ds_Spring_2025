{
 "cells": [
  {
   "cell_type": "code",
   "execution_count": 3,
   "id": "ae02dd45",
   "metadata": {},
   "outputs": [],
   "source": [
    "#import libraries\n",
    "import numpy as np\n",
    "import pandas as pd"
   ]
  },
  {
   "cell_type": "markdown",
   "id": "08689d55",
   "metadata": {},
   "source": [
    "## Task 1: Numpy Basics\n",
    "------"
   ]
  },
  {
   "cell_type": "code",
   "execution_count": 21,
   "id": "8dd875fe",
   "metadata": {},
   "outputs": [
    {
     "name": "stdout",
     "output_type": "stream",
     "text": [
      "1D array (integers from 1 10 20):\n",
      "[ 1  2  3  4  5  6  7  8  9 10 11 12 13 14 15 16 17 18 19 20]\n",
      "\n",
      "2D array (5x4, filled with random numbers)\n",
      "[[ 1 41 56 95]\n",
      " [28 44  6 89]\n",
      " [ 6 88 32 84]\n",
      " [50 47 18 99]\n",
      " [35 75 78 25]]\n"
     ]
    }
   ],
   "source": [
    "#1.1 NumPy Array Creation\n",
    "\n",
    "oned = np.arange(1, 21)\n",
    "twod = np.random.randint(1,101, size=(5,4)) #create an array of ramdom numbers from 1-100\n",
    "\n",
    "#print values\n",
    "print(\"1D array (integers from 1 10 20):\")\n",
    "print(oned)\n",
    "print(\"\\n2D array (5x4, filled with random numbers)\")\n",
    "print(twod)"
   ]
  },
  {
   "cell_type": "code",
   "execution_count": 28,
   "id": "cc8fcd29",
   "metadata": {},
   "outputs": [
    {
     "name": "stdout",
     "output_type": "stream",
     "text": [
      "Even numbers from 1D array: \n",
      "[ 2  4  6  8 10 12 14 16 18 20]\n",
      "\n",
      "Second and Fourth rows from 2D array: \n",
      "[[28 44  6 89]\n",
      " [50 47 18 99]]\n"
     ]
    }
   ],
   "source": [
    "#1.2 Array Indexing & Slicing\n",
    "\n",
    "even_oned = oned[oned % 2==0] #extract even numbers from the 1D array\n",
    "select_twod = twod[[1,3], :] #select the second and fourth rows from the 2D array\n",
    "\n",
    "#print values\n",
    "print(\"Even numbers from 1D array: \")\n",
    "print(even_oned)\n",
    "print(\"\\nSecond and Fourth rows from 2D array: \")\n",
    "print(select_twod)"
   ]
  },
  {
   "cell_type": "code",
   "execution_count": 32,
   "id": "6b6a080d",
   "metadata": {},
   "outputs": [
    {
     "name": "stdout",
     "output_type": "stream",
     "text": [
      "Original Array:\n",
      "[ 10  20  30  40  50  60  70  80  90 100]\n",
      "\n",
      "Array Squared:\n",
      "[  100   400   900  1600  2500  3600  4900  6400  8100 10000]\n",
      "\n",
      "Array Square Root:\n",
      "[ 3.16227766  4.47213595  5.47722558  6.32455532  7.07106781  7.74596669\n",
      "  8.36660027  8.94427191  9.48683298 10.        ]\n"
     ]
    }
   ],
   "source": [
    "#1.3 Mathematical Operations\n",
    "array = np.arange(10,101, 10) #create array w/ numbers 1-10 that skip by 10\n",
    "array_square = np.square(array) #create array squared\n",
    "array_sqrt = np.sqrt(array) #square root the array \n",
    "\n",
    "#print values\n",
    "print(\"Original Array:\")\n",
    "print(array)\n",
    "\n",
    "print(\"\\nArray Squared:\")\n",
    "print(array_square)\n",
    "\n",
    "print(\"\\nArray Square Root:\")\n",
    "print(array_sqrt)"
   ]
  },
  {
   "cell_type": "code",
   "execution_count": 42,
   "id": "dbae7a24",
   "metadata": {},
   "outputs": [
    {
     "name": "stdout",
     "output_type": "stream",
     "text": [
      "Original Array:\n",
      "[[ 9 35 23]\n",
      " [41 10 38]\n",
      " [16 32  9]]\n",
      "\n",
      "Array Mean Value:\n",
      "23.666666666666668\n",
      "\n",
      "Array Median Value:\n",
      "23.0\n",
      "\n",
      "Array Standard Deviation:\n",
      "12.382783747337806\n"
     ]
    }
   ],
   "source": [
    "#1.4 Statistical Operations\n",
    "stat_array = np.random.randint(1,51, size=(3,3)) #make array of random integers 1-50\n",
    "mean_array = np.mean(stat_array) #find mean of array values\n",
    "medi_array = np.median(stat_array) #find median of array values\n",
    "std_array= np.std(stat_array) #find  standard mediation of array values\n",
    "\n",
    "#print values\n",
    "print(\"Original Array:\")\n",
    "print(stat_array)\n",
    "\n",
    "print(\"\\nArray Mean Value:\")\n",
    "print(mean_array)\n",
    "\n",
    "print(\"\\nArray Median Value:\")\n",
    "print(medi_array)\n",
    "\n",
    "print(\"\\nArray Standard Deviation:\")\n",
    "print(std_array)"
   ]
  },
  {
   "cell_type": "markdown",
   "id": "ff79313a",
   "metadata": {},
   "source": [
    "## Task 2: Pandas Basics\n",
    "---------"
   ]
  },
  {
   "cell_type": "markdown",
   "id": "1ee48878",
   "metadata": {},
   "source": [
    "### 2.1 Data Loading & Overview"
   ]
  },
  {
   "cell_type": "code",
   "execution_count": 61,
   "id": "47662969",
   "metadata": {
    "scrolled": true
   },
   "outputs": [],
   "source": [
    "df = pd.read_csv(\"project1_part2_data.csv\") #load data set"
   ]
  },
  {
   "cell_type": "code",
   "execution_count": 62,
   "id": "e19525ac",
   "metadata": {},
   "outputs": [
    {
     "name": "stdout",
     "output_type": "stream",
     "text": [
      "   ID           Name   Age   Salary  Department    Position  \\\n",
      "0   1  Alice Johnson  49.0  46910.0  Operations  Consultant   \n",
      "1   2  Michael Smith  28.0  40206.0          IT     Manager   \n",
      "2   3  Emma Williams  30.0  63419.0       Sales     Analyst   \n",
      "3   4    David Brown  29.0  90636.0          HR   Executive   \n",
      "4   5   Olivia Jones  33.0      NaN   Marketing  Consultant   \n",
      "\n",
      "   Work Experience (Years) Education Level  \n",
      "0                       13             PhD  \n",
      "1                        9       Associate  \n",
      "2                       15             PhD  \n",
      "3                       13      Bachelor's  \n",
      "4                        1         Diploma  \n"
     ]
    }
   ],
   "source": [
    "print(df.head()) #print first 5 rows"
   ]
  },
  {
   "cell_type": "code",
   "execution_count": 65,
   "id": "6e636c79",
   "metadata": {},
   "outputs": [
    {
     "name": "stdout",
     "output_type": "stream",
     "text": [
      "<bound method DataFrame.info of     ID               Name   Age    Salary  Department     Position  \\\n",
      "0    1      Alice Johnson  49.0   46910.0  Operations   Consultant   \n",
      "1    2      Michael Smith  28.0   40206.0          IT      Manager   \n",
      "2    3      Emma Williams  30.0   63419.0       Sales      Analyst   \n",
      "3    4        David Brown  29.0   90636.0          HR    Executive   \n",
      "4    5       Olivia Jones  33.0       NaN   Marketing   Consultant   \n",
      "5    6       James Garcia  55.0   94268.0     Finance  Coordinator   \n",
      "6    7    Sophia Martinez  54.0   58141.0  Operations      Manager   \n",
      "7    8  Benjamin Anderson  44.0  111910.0   Marketing      Manager   \n",
      "8    9   Charlotte Thomas  45.0   96044.0       Sales    Executive   \n",
      "9   10      Daniel Wilson   NaN  107214.0          HR  Coordinator   \n",
      "10  11      Amelia Taylor  56.0   73827.0  Operations   Consultant   \n",
      "11  12      Matthew Moore  43.0   95820.0     Finance  Coordinator   \n",
      "12  13       Isabella Lee  48.0  102623.0          IT      Manager   \n",
      "13  14       Ethan Harris  56.0  115450.0          HR      Manager   \n",
      "14  15          Mia Clark  22.0   62299.0          HR   Consultant   \n",
      "15  16    Alexander Lewis  56.0   83585.0  Operations    Developer   \n",
      "16  17      Harper Walker  58.0  104044.0     Finance   Consultant   \n",
      "17  18       William Hall  35.0   82557.0       Sales      Manager   \n",
      "18  19       Evelyn Young  24.0   89080.0       Sales   Consultant   \n",
      "19  20        Henry Allen  22.0   42693.0          HR      Manager   \n",
      "\n",
      "    Work Experience (Years) Education Level  \n",
      "0                        13             PhD  \n",
      "1                         9       Associate  \n",
      "2                        15             PhD  \n",
      "3                        13      Bachelor's  \n",
      "4                         1         Diploma  \n",
      "5                         7         Diploma  \n",
      "6                         9        Master's  \n",
      "7                        24      Bachelor's  \n",
      "8                         1      Bachelor's  \n",
      "9                        12             PhD  \n",
      "10                        8         Diploma  \n",
      "11                       24             PhD  \n",
      "12                       11      Bachelor's  \n",
      "13                       19       Associate  \n",
      "14                       17      Bachelor's  \n",
      "15                        8       Associate  \n",
      "16                        3       Associate  \n",
      "17                        3      Bachelor's  \n",
      "18                        1             PhD  \n",
      "19                        5        Master's  >\n",
      "       ID   Name    Age  Salary  Department  Position  \\\n",
      "0   False  False  False   False       False     False   \n",
      "1   False  False  False   False       False     False   \n",
      "2   False  False  False   False       False     False   \n",
      "3   False  False  False   False       False     False   \n",
      "4   False  False  False    True       False     False   \n",
      "5   False  False  False   False       False     False   \n",
      "6   False  False  False   False       False     False   \n",
      "7   False  False  False   False       False     False   \n",
      "8   False  False  False   False       False     False   \n",
      "9   False  False   True   False       False     False   \n",
      "10  False  False  False   False       False     False   \n",
      "11  False  False  False   False       False     False   \n",
      "12  False  False  False   False       False     False   \n",
      "13  False  False  False   False       False     False   \n",
      "14  False  False  False   False       False     False   \n",
      "15  False  False  False   False       False     False   \n",
      "16  False  False  False   False       False     False   \n",
      "17  False  False  False   False       False     False   \n",
      "18  False  False  False   False       False     False   \n",
      "19  False  False  False   False       False     False   \n",
      "\n",
      "    Work Experience (Years)  Education Level  \n",
      "0                     False            False  \n",
      "1                     False            False  \n",
      "2                     False            False  \n",
      "3                     False            False  \n",
      "4                     False            False  \n",
      "5                     False            False  \n",
      "6                     False            False  \n",
      "7                     False            False  \n",
      "8                     False            False  \n",
      "9                     False            False  \n",
      "10                    False            False  \n",
      "11                    False            False  \n",
      "12                    False            False  \n",
      "13                    False            False  \n",
      "14                    False            False  \n",
      "15                    False            False  \n",
      "16                    False            False  \n",
      "17                    False            False  \n",
      "18                    False            False  \n",
      "19                    False            False  \n"
     ]
    }
   ],
   "source": [
    "print(df.info) #print dataset info\n",
    "print(df.isnull()) #check for missing values"
   ]
  },
  {
   "cell_type": "code",
   "execution_count": 66,
   "id": "b8d9ae97",
   "metadata": {},
   "outputs": [],
   "source": [
    "df_new = df.copy() #create a copy of the original data frame"
   ]
  },
  {
   "cell_type": "markdown",
   "id": "9c3b85fa",
   "metadata": {},
   "source": [
    "### 2.2 Data Selection & Filtering"
   ]
  },
  {
   "cell_type": "code",
   "execution_count": 76,
   "id": "09b2137d",
   "metadata": {},
   "outputs": [
    {
     "data": {
      "text/html": [
       "<div>\n",
       "<style scoped>\n",
       "    .dataframe tbody tr th:only-of-type {\n",
       "        vertical-align: middle;\n",
       "    }\n",
       "\n",
       "    .dataframe tbody tr th {\n",
       "        vertical-align: top;\n",
       "    }\n",
       "\n",
       "    .dataframe thead th {\n",
       "        text-align: right;\n",
       "    }\n",
       "</style>\n",
       "<table border=\"1\" class=\"dataframe\">\n",
       "  <thead>\n",
       "    <tr style=\"text-align: right;\">\n",
       "      <th></th>\n",
       "      <th>Name</th>\n",
       "      <th>Salary</th>\n",
       "    </tr>\n",
       "  </thead>\n",
       "  <tbody>\n",
       "    <tr>\n",
       "      <th>0</th>\n",
       "      <td>Alice Johnson</td>\n",
       "      <td>46910.0</td>\n",
       "    </tr>\n",
       "    <tr>\n",
       "      <th>1</th>\n",
       "      <td>Michael Smith</td>\n",
       "      <td>40206.0</td>\n",
       "    </tr>\n",
       "    <tr>\n",
       "      <th>2</th>\n",
       "      <td>Emma Williams</td>\n",
       "      <td>63419.0</td>\n",
       "    </tr>\n",
       "    <tr>\n",
       "      <th>3</th>\n",
       "      <td>David Brown</td>\n",
       "      <td>90636.0</td>\n",
       "    </tr>\n",
       "    <tr>\n",
       "      <th>4</th>\n",
       "      <td>Olivia Jones</td>\n",
       "      <td>NaN</td>\n",
       "    </tr>\n",
       "    <tr>\n",
       "      <th>5</th>\n",
       "      <td>James Garcia</td>\n",
       "      <td>94268.0</td>\n",
       "    </tr>\n",
       "    <tr>\n",
       "      <th>6</th>\n",
       "      <td>Sophia Martinez</td>\n",
       "      <td>58141.0</td>\n",
       "    </tr>\n",
       "    <tr>\n",
       "      <th>7</th>\n",
       "      <td>Benjamin Anderson</td>\n",
       "      <td>111910.0</td>\n",
       "    </tr>\n",
       "    <tr>\n",
       "      <th>8</th>\n",
       "      <td>Charlotte Thomas</td>\n",
       "      <td>96044.0</td>\n",
       "    </tr>\n",
       "    <tr>\n",
       "      <th>9</th>\n",
       "      <td>Daniel Wilson</td>\n",
       "      <td>107214.0</td>\n",
       "    </tr>\n",
       "    <tr>\n",
       "      <th>10</th>\n",
       "      <td>Amelia Taylor</td>\n",
       "      <td>73827.0</td>\n",
       "    </tr>\n",
       "    <tr>\n",
       "      <th>11</th>\n",
       "      <td>Matthew Moore</td>\n",
       "      <td>95820.0</td>\n",
       "    </tr>\n",
       "    <tr>\n",
       "      <th>12</th>\n",
       "      <td>Isabella Lee</td>\n",
       "      <td>102623.0</td>\n",
       "    </tr>\n",
       "    <tr>\n",
       "      <th>13</th>\n",
       "      <td>Ethan Harris</td>\n",
       "      <td>115450.0</td>\n",
       "    </tr>\n",
       "    <tr>\n",
       "      <th>14</th>\n",
       "      <td>Mia Clark</td>\n",
       "      <td>62299.0</td>\n",
       "    </tr>\n",
       "    <tr>\n",
       "      <th>15</th>\n",
       "      <td>Alexander Lewis</td>\n",
       "      <td>83585.0</td>\n",
       "    </tr>\n",
       "    <tr>\n",
       "      <th>16</th>\n",
       "      <td>Harper Walker</td>\n",
       "      <td>104044.0</td>\n",
       "    </tr>\n",
       "    <tr>\n",
       "      <th>17</th>\n",
       "      <td>William Hall</td>\n",
       "      <td>82557.0</td>\n",
       "    </tr>\n",
       "    <tr>\n",
       "      <th>18</th>\n",
       "      <td>Evelyn Young</td>\n",
       "      <td>89080.0</td>\n",
       "    </tr>\n",
       "    <tr>\n",
       "      <th>19</th>\n",
       "      <td>Henry Allen</td>\n",
       "      <td>42693.0</td>\n",
       "    </tr>\n",
       "  </tbody>\n",
       "</table>\n",
       "</div>"
      ],
      "text/plain": [
       "                 Name    Salary\n",
       "0       Alice Johnson   46910.0\n",
       "1       Michael Smith   40206.0\n",
       "2       Emma Williams   63419.0\n",
       "3         David Brown   90636.0\n",
       "4        Olivia Jones       NaN\n",
       "5        James Garcia   94268.0\n",
       "6     Sophia Martinez   58141.0\n",
       "7   Benjamin Anderson  111910.0\n",
       "8    Charlotte Thomas   96044.0\n",
       "9       Daniel Wilson  107214.0\n",
       "10      Amelia Taylor   73827.0\n",
       "11      Matthew Moore   95820.0\n",
       "12       Isabella Lee  102623.0\n",
       "13       Ethan Harris  115450.0\n",
       "14          Mia Clark   62299.0\n",
       "15    Alexander Lewis   83585.0\n",
       "16      Harper Walker  104044.0\n",
       "17       William Hall   82557.0\n",
       "18       Evelyn Young   89080.0\n",
       "19        Henry Allen   42693.0"
      ]
     },
     "execution_count": 76,
     "metadata": {},
     "output_type": "execute_result"
    }
   ],
   "source": [
    "df_new[[\"Name\", \"Salary\"]] #extract Name and Salary columns"
   ]
  },
  {
   "cell_type": "code",
   "execution_count": 81,
   "id": "4dc1c2f1",
   "metadata": {},
   "outputs": [
    {
     "data": {
      "text/html": [
       "<div>\n",
       "<style scoped>\n",
       "    .dataframe tbody tr th:only-of-type {\n",
       "        vertical-align: middle;\n",
       "    }\n",
       "\n",
       "    .dataframe tbody tr th {\n",
       "        vertical-align: top;\n",
       "    }\n",
       "\n",
       "    .dataframe thead th {\n",
       "        text-align: right;\n",
       "    }\n",
       "</style>\n",
       "<table border=\"1\" class=\"dataframe\">\n",
       "  <thead>\n",
       "    <tr style=\"text-align: right;\">\n",
       "      <th></th>\n",
       "      <th>Name</th>\n",
       "      <th>Salary</th>\n",
       "    </tr>\n",
       "  </thead>\n",
       "  <tbody>\n",
       "    <tr>\n",
       "      <th>2</th>\n",
       "      <td>Emma Williams</td>\n",
       "      <td>63419.0</td>\n",
       "    </tr>\n",
       "    <tr>\n",
       "      <th>3</th>\n",
       "      <td>David Brown</td>\n",
       "      <td>90636.0</td>\n",
       "    </tr>\n",
       "    <tr>\n",
       "      <th>5</th>\n",
       "      <td>James Garcia</td>\n",
       "      <td>94268.0</td>\n",
       "    </tr>\n",
       "    <tr>\n",
       "      <th>6</th>\n",
       "      <td>Sophia Martinez</td>\n",
       "      <td>58141.0</td>\n",
       "    </tr>\n",
       "    <tr>\n",
       "      <th>7</th>\n",
       "      <td>Benjamin Anderson</td>\n",
       "      <td>111910.0</td>\n",
       "    </tr>\n",
       "    <tr>\n",
       "      <th>8</th>\n",
       "      <td>Charlotte Thomas</td>\n",
       "      <td>96044.0</td>\n",
       "    </tr>\n",
       "    <tr>\n",
       "      <th>9</th>\n",
       "      <td>Daniel Wilson</td>\n",
       "      <td>107214.0</td>\n",
       "    </tr>\n",
       "    <tr>\n",
       "      <th>10</th>\n",
       "      <td>Amelia Taylor</td>\n",
       "      <td>73827.0</td>\n",
       "    </tr>\n",
       "    <tr>\n",
       "      <th>11</th>\n",
       "      <td>Matthew Moore</td>\n",
       "      <td>95820.0</td>\n",
       "    </tr>\n",
       "    <tr>\n",
       "      <th>12</th>\n",
       "      <td>Isabella Lee</td>\n",
       "      <td>102623.0</td>\n",
       "    </tr>\n",
       "    <tr>\n",
       "      <th>13</th>\n",
       "      <td>Ethan Harris</td>\n",
       "      <td>115450.0</td>\n",
       "    </tr>\n",
       "    <tr>\n",
       "      <th>14</th>\n",
       "      <td>Mia Clark</td>\n",
       "      <td>62299.0</td>\n",
       "    </tr>\n",
       "    <tr>\n",
       "      <th>15</th>\n",
       "      <td>Alexander Lewis</td>\n",
       "      <td>83585.0</td>\n",
       "    </tr>\n",
       "    <tr>\n",
       "      <th>16</th>\n",
       "      <td>Harper Walker</td>\n",
       "      <td>104044.0</td>\n",
       "    </tr>\n",
       "    <tr>\n",
       "      <th>17</th>\n",
       "      <td>William Hall</td>\n",
       "      <td>82557.0</td>\n",
       "    </tr>\n",
       "    <tr>\n",
       "      <th>18</th>\n",
       "      <td>Evelyn Young</td>\n",
       "      <td>89080.0</td>\n",
       "    </tr>\n",
       "  </tbody>\n",
       "</table>\n",
       "</div>"
      ],
      "text/plain": [
       "                 Name    Salary\n",
       "2       Emma Williams   63419.0\n",
       "3         David Brown   90636.0\n",
       "5        James Garcia   94268.0\n",
       "6     Sophia Martinez   58141.0\n",
       "7   Benjamin Anderson  111910.0\n",
       "8    Charlotte Thomas   96044.0\n",
       "9       Daniel Wilson  107214.0\n",
       "10      Amelia Taylor   73827.0\n",
       "11      Matthew Moore   95820.0\n",
       "12       Isabella Lee  102623.0\n",
       "13       Ethan Harris  115450.0\n",
       "14          Mia Clark   62299.0\n",
       "15    Alexander Lewis   83585.0\n",
       "16      Harper Walker  104044.0\n",
       "17       William Hall   82557.0\n",
       "18       Evelyn Young   89080.0"
      ]
     },
     "execution_count": 81,
     "metadata": {},
     "output_type": "execute_result"
    }
   ],
   "source": [
    "#filter the employees who make over $50000 \n",
    "df_new.loc[df_new[\"Salary\"] > 50000, [\"Name\", \"Salary\"]]"
   ]
  },
  {
   "cell_type": "markdown",
   "id": "7f1f2059",
   "metadata": {},
   "source": [
    "### 2.3 Data Aggregation\n"
   ]
  },
  {
   "cell_type": "code",
   "execution_count": 71,
   "id": "f196c0af",
   "metadata": {},
   "outputs": [
    {
     "name": "stdout",
     "output_type": "stream",
     "text": [
      "Average Salary:  82143.47368421052\n"
     ]
    }
   ],
   "source": [
    "avg_salary = df_new[\"Salary\"].mean() #find avg salary from column\n",
    "\n",
    "print(\"Average Salary: \", avg_salary) #print avg salary\n"
   ]
  },
  {
   "cell_type": "code",
   "execution_count": 83,
   "id": "cf9f21dc",
   "metadata": {},
   "outputs": [
    {
     "data": {
      "text/plain": [
       "Department\n",
       "HR            5\n",
       "Operations    4\n",
       "Sales         4\n",
       "Finance       3\n",
       "IT            2\n",
       "Marketing     2\n",
       "Name: count, dtype: int64"
      ]
     },
     "execution_count": 83,
     "metadata": {},
     "output_type": "execute_result"
    }
   ],
   "source": [
    "#count the number of employees in each department\n",
    "df_new[\"Department\"].value_counts()"
   ]
  },
  {
   "cell_type": "markdown",
   "id": "ddadda7f",
   "metadata": {},
   "source": [
    "### 2.4 Data Cleaning"
   ]
  },
  {
   "cell_type": "code",
   "execution_count": 89,
   "id": "78ef49b1",
   "metadata": {},
   "outputs": [
    {
     "name": "stdout",
     "output_type": "stream",
     "text": [
      "    ID               Name   Age         Salary  Department     Position  \\\n",
      "0    1      Alice Johnson  49.0   46910.000000  Operations   Consultant   \n",
      "1    2      Michael Smith  28.0   40206.000000          IT      Manager   \n",
      "2    3      Emma Williams  30.0   63419.000000       Sales      Analyst   \n",
      "3    4        David Brown  29.0   90636.000000          HR    Executive   \n",
      "4    5       Olivia Jones  33.0   82143.473684   Marketing   Consultant   \n",
      "5    6       James Garcia  55.0   94268.000000     Finance  Coordinator   \n",
      "6    7    Sophia Martinez  54.0   58141.000000  Operations      Manager   \n",
      "7    8  Benjamin Anderson  44.0  111910.000000   Marketing      Manager   \n",
      "8    9   Charlotte Thomas  45.0   96044.000000       Sales    Executive   \n",
      "9   10      Daniel Wilson   NaN  107214.000000          HR  Coordinator   \n",
      "10  11      Amelia Taylor  56.0   73827.000000  Operations   Consultant   \n",
      "11  12      Matthew Moore  43.0   95820.000000     Finance  Coordinator   \n",
      "12  13       Isabella Lee  48.0  102623.000000          IT      Manager   \n",
      "13  14       Ethan Harris  56.0  115450.000000          HR      Manager   \n",
      "14  15          Mia Clark  22.0   62299.000000          HR   Consultant   \n",
      "15  16    Alexander Lewis  56.0   83585.000000  Operations    Developer   \n",
      "16  17      Harper Walker  58.0  104044.000000     Finance   Consultant   \n",
      "17  18       William Hall  35.0   82557.000000       Sales      Manager   \n",
      "18  19       Evelyn Young  24.0   89080.000000       Sales   Consultant   \n",
      "19  20        Henry Allen  22.0   42693.000000          HR      Manager   \n",
      "\n",
      "    Work Experience (Years) Education Level  \n",
      "0                        13             PhD  \n",
      "1                         9       Associate  \n",
      "2                        15             PhD  \n",
      "3                        13      Bachelor's  \n",
      "4                         1         Diploma  \n",
      "5                         7         Diploma  \n",
      "6                         9        Master's  \n",
      "7                        24      Bachelor's  \n",
      "8                         1      Bachelor's  \n",
      "9                        12             PhD  \n",
      "10                        8         Diploma  \n",
      "11                       24             PhD  \n",
      "12                       11      Bachelor's  \n",
      "13                       19       Associate  \n",
      "14                       17      Bachelor's  \n",
      "15                        8       Associate  \n",
      "16                        3       Associate  \n",
      "17                        3      Bachelor's  \n",
      "18                        1             PhD  \n",
      "19                        5        Master's  \n"
     ]
    }
   ],
   "source": [
    "#replace empty salaries with mean salary\n",
    "df_new[\"Salary\"].fillna((avg_salary), inplace=True) \n",
    "#the only one without the salary was Olivia Jones...\n",
    "\n",
    "print(df_new)"
   ]
  },
  {
   "cell_type": "code",
   "execution_count": 90,
   "id": "5c661041",
   "metadata": {},
   "outputs": [
    {
     "name": "stdout",
     "output_type": "stream",
     "text": [
      "    ID               Name   Age         Salary  Department     Position  \\\n",
      "0    1      Alice Johnson  49.0   46910.000000  Operations   Consultant   \n",
      "1    2      Michael Smith  28.0   40206.000000          IT      Manager   \n",
      "2    3      Emma Williams  30.0   63419.000000       Sales      Analyst   \n",
      "3    4        David Brown  29.0   90636.000000          HR    Executive   \n",
      "4    5       Olivia Jones  33.0   82143.473684   Marketing   Consultant   \n",
      "5    6       James Garcia  55.0   94268.000000     Finance  Coordinator   \n",
      "6    7    Sophia Martinez  54.0   58141.000000  Operations      Manager   \n",
      "7    8  Benjamin Anderson  44.0  111910.000000   Marketing      Manager   \n",
      "8    9   Charlotte Thomas  45.0   96044.000000       Sales    Executive   \n",
      "10  11      Amelia Taylor  56.0   73827.000000  Operations   Consultant   \n",
      "11  12      Matthew Moore  43.0   95820.000000     Finance  Coordinator   \n",
      "12  13       Isabella Lee  48.0  102623.000000          IT      Manager   \n",
      "13  14       Ethan Harris  56.0  115450.000000          HR      Manager   \n",
      "14  15          Mia Clark  22.0   62299.000000          HR   Consultant   \n",
      "15  16    Alexander Lewis  56.0   83585.000000  Operations    Developer   \n",
      "16  17      Harper Walker  58.0  104044.000000     Finance   Consultant   \n",
      "17  18       William Hall  35.0   82557.000000       Sales      Manager   \n",
      "18  19       Evelyn Young  24.0   89080.000000       Sales   Consultant   \n",
      "19  20        Henry Allen  22.0   42693.000000          HR      Manager   \n",
      "\n",
      "    Work Experience (Years) Education Level  \n",
      "0                        13             PhD  \n",
      "1                         9       Associate  \n",
      "2                        15             PhD  \n",
      "3                        13      Bachelor's  \n",
      "4                         1         Diploma  \n",
      "5                         7         Diploma  \n",
      "6                         9        Master's  \n",
      "7                        24      Bachelor's  \n",
      "8                         1      Bachelor's  \n",
      "10                        8         Diploma  \n",
      "11                       24             PhD  \n",
      "12                       11      Bachelor's  \n",
      "13                       19       Associate  \n",
      "14                       17      Bachelor's  \n",
      "15                        8       Associate  \n",
      "16                        3       Associate  \n",
      "17                        3      Bachelor's  \n",
      "18                        1             PhD  \n",
      "19                        5        Master's  \n"
     ]
    }
   ],
   "source": [
    "#drop rows where age is missing\n",
    "df_new.dropna(subset=[\"Age\"], inplace=True)\n",
    "#Daniel Wilson was the onlyone missing age... his row has been removed\n",
    "\n",
    "#print updated dataset\n",
    "print(df_new)\n"
   ]
  },
  {
   "cell_type": "markdown",
   "id": "006a757a",
   "metadata": {},
   "source": [
    "## Task 3: Combined NumPy and Pandas Operations\n",
    "--------"
   ]
  },
  {
   "cell_type": "markdown",
   "id": "c097fe89",
   "metadata": {},
   "source": [
    "### 3.1 Coverting a Column to a Numpy Array"
   ]
  },
  {
   "cell_type": "code",
   "execution_count": 93,
   "id": "1ba77556",
   "metadata": {},
   "outputs": [
    {
     "name": "stdout",
     "output_type": "stream",
     "text": [
      "<bound method IndexOpsMixin.to_numpy of 0      46910.000000\n",
      "1      40206.000000\n",
      "2      63419.000000\n",
      "3      90636.000000\n",
      "4      82143.473684\n",
      "5      94268.000000\n",
      "6      58141.000000\n",
      "7     111910.000000\n",
      "8      96044.000000\n",
      "10     73827.000000\n",
      "11     95820.000000\n",
      "12    102623.000000\n",
      "13    115450.000000\n",
      "14     62299.000000\n",
      "15     83585.000000\n",
      "16    104044.000000\n",
      "17     82557.000000\n",
      "18     89080.000000\n",
      "19     42693.000000\n",
      "Name: Salary, dtype: float64>\n"
     ]
    }
   ],
   "source": [
    "#extract column to an array\n",
    "salary_array = df_new[\"Salary\"].to_numpy\n",
    "\n",
    "print(salary_array)"
   ]
  },
  {
   "cell_type": "code",
   "execution_count": 97,
   "id": "4860a985",
   "metadata": {},
   "outputs": [],
   "source": [
    "#change salary array to panda series\n",
    "salary_array = df_new[\"Salary\"].to_numpy()\n",
    "std_salary = np.std(salary_array) #find standart deviation of the salary"
   ]
  },
  {
   "cell_type": "code",
   "execution_count": null,
   "id": "5c7d7658",
   "metadata": {},
   "outputs": [],
   "source": []
  }
 ],
 "metadata": {
  "kernelspec": {
   "display_name": "Python 3 (ipykernel)",
   "language": "python",
   "name": "python3"
  },
  "language_info": {
   "codemirror_mode": {
    "name": "ipython",
    "version": 3
   },
   "file_extension": ".py",
   "mimetype": "text/x-python",
   "name": "python",
   "nbconvert_exporter": "python",
   "pygments_lexer": "ipython3",
   "version": "3.11.5"
  }
 },
 "nbformat": 4,
 "nbformat_minor": 5
}

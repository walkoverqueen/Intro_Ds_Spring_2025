{
 "cells": [
  {
   "cell_type": "markdown",
   "id": "408e4db2",
   "metadata": {},
   "source": [
    "----\n",
    "### <font color=\"bronze\">Final Project </font> \n",
    " **-- Tehya Gaines**\n",
    " \n",
    "---"
   ]
  },
  {
   "cell_type": "markdown",
   "id": "de89faed",
   "metadata": {},
   "source": [
    "[120 years of Olympic history: athletes and results](https://www.kaggle.com/datasets/heesoo37/120-years-of-olympic-history-athletes-and-results)\n",
    "\n",
    "This is a historical dataset on the modern Olympic Games, including all the games from Athens 1896 to Rio 2016.\n",
    "\n",
    "**Key Columns**\n",
    "* ID - Unique number for each athlete\n",
    "* Name - Athlete's name\n",
    "* Sex - M or F\n",
    "* Age - Integer\n",
    "* Height - In centimeters\n",
    "* Weight - In kilograms\n",
    "* Team - Team name\n",
    "* NOC - National Olympic Committee 3-letter code\n",
    "* Games - Year and season\n",
    "* Year - Integer\n",
    "* Season - Summer or Winter\n",
    "* City - Host city\n",
    "* Sport - Sport\n",
    "* Event - Event\n",
    "* Medal - Gold, Silver, Bronze, or NA\n"
   ]
  },
  {
   "cell_type": "code",
   "execution_count": 2,
   "id": "14e14ffe",
   "metadata": {},
   "outputs": [],
   "source": [
    "# Import the Libraries\n",
    "import pandas as pd\n",
    "import numpy as np\n",
    "import seaborn as sns\n",
    "import matplotlib.pyplot as plt\n",
    "import plotly.express as px"
   ]
  },
  {
   "cell_type": "code",
   "execution_count": 3,
   "id": "cfa738b9",
   "metadata": {
    "scrolled": true
   },
   "outputs": [
    {
     "data": {
      "text/html": [
       "<div>\n",
       "<style scoped>\n",
       "    .dataframe tbody tr th:only-of-type {\n",
       "        vertical-align: middle;\n",
       "    }\n",
       "\n",
       "    .dataframe tbody tr th {\n",
       "        vertical-align: top;\n",
       "    }\n",
       "\n",
       "    .dataframe thead th {\n",
       "        text-align: right;\n",
       "    }\n",
       "</style>\n",
       "<table border=\"1\" class=\"dataframe\">\n",
       "  <thead>\n",
       "    <tr style=\"text-align: right;\">\n",
       "      <th></th>\n",
       "      <th>ID</th>\n",
       "      <th>Name</th>\n",
       "      <th>Sex</th>\n",
       "      <th>Age</th>\n",
       "      <th>Height</th>\n",
       "      <th>Weight</th>\n",
       "      <th>Team</th>\n",
       "      <th>NOC</th>\n",
       "      <th>Games</th>\n",
       "      <th>Year</th>\n",
       "      <th>Season</th>\n",
       "      <th>City</th>\n",
       "      <th>Sport</th>\n",
       "      <th>Event</th>\n",
       "      <th>Medal</th>\n",
       "    </tr>\n",
       "  </thead>\n",
       "  <tbody>\n",
       "    <tr>\n",
       "      <th>0</th>\n",
       "      <td>1</td>\n",
       "      <td>A Dijiang</td>\n",
       "      <td>M</td>\n",
       "      <td>24.0</td>\n",
       "      <td>180.0</td>\n",
       "      <td>80.0</td>\n",
       "      <td>China</td>\n",
       "      <td>CHN</td>\n",
       "      <td>1992 Summer</td>\n",
       "      <td>1992</td>\n",
       "      <td>Summer</td>\n",
       "      <td>Barcelona</td>\n",
       "      <td>Basketball</td>\n",
       "      <td>Basketball Men's Basketball</td>\n",
       "      <td>NaN</td>\n",
       "    </tr>\n",
       "    <tr>\n",
       "      <th>1</th>\n",
       "      <td>2</td>\n",
       "      <td>A Lamusi</td>\n",
       "      <td>M</td>\n",
       "      <td>23.0</td>\n",
       "      <td>170.0</td>\n",
       "      <td>60.0</td>\n",
       "      <td>China</td>\n",
       "      <td>CHN</td>\n",
       "      <td>2012 Summer</td>\n",
       "      <td>2012</td>\n",
       "      <td>Summer</td>\n",
       "      <td>London</td>\n",
       "      <td>Judo</td>\n",
       "      <td>Judo Men's Extra-Lightweight</td>\n",
       "      <td>NaN</td>\n",
       "    </tr>\n",
       "    <tr>\n",
       "      <th>2</th>\n",
       "      <td>3</td>\n",
       "      <td>Gunnar Nielsen Aaby</td>\n",
       "      <td>M</td>\n",
       "      <td>24.0</td>\n",
       "      <td>NaN</td>\n",
       "      <td>NaN</td>\n",
       "      <td>Denmark</td>\n",
       "      <td>DEN</td>\n",
       "      <td>1920 Summer</td>\n",
       "      <td>1920</td>\n",
       "      <td>Summer</td>\n",
       "      <td>Antwerpen</td>\n",
       "      <td>Football</td>\n",
       "      <td>Football Men's Football</td>\n",
       "      <td>NaN</td>\n",
       "    </tr>\n",
       "    <tr>\n",
       "      <th>3</th>\n",
       "      <td>4</td>\n",
       "      <td>Edgar Lindenau Aabye</td>\n",
       "      <td>M</td>\n",
       "      <td>34.0</td>\n",
       "      <td>NaN</td>\n",
       "      <td>NaN</td>\n",
       "      <td>Denmark/Sweden</td>\n",
       "      <td>DEN</td>\n",
       "      <td>1900 Summer</td>\n",
       "      <td>1900</td>\n",
       "      <td>Summer</td>\n",
       "      <td>Paris</td>\n",
       "      <td>Tug-Of-War</td>\n",
       "      <td>Tug-Of-War Men's Tug-Of-War</td>\n",
       "      <td>Gold</td>\n",
       "    </tr>\n",
       "    <tr>\n",
       "      <th>4</th>\n",
       "      <td>5</td>\n",
       "      <td>Christine Jacoba Aaftink</td>\n",
       "      <td>F</td>\n",
       "      <td>21.0</td>\n",
       "      <td>185.0</td>\n",
       "      <td>82.0</td>\n",
       "      <td>Netherlands</td>\n",
       "      <td>NED</td>\n",
       "      <td>1988 Winter</td>\n",
       "      <td>1988</td>\n",
       "      <td>Winter</td>\n",
       "      <td>Calgary</td>\n",
       "      <td>Speed Skating</td>\n",
       "      <td>Speed Skating Women's 500 metres</td>\n",
       "      <td>NaN</td>\n",
       "    </tr>\n",
       "    <tr>\n",
       "      <th>...</th>\n",
       "      <td>...</td>\n",
       "      <td>...</td>\n",
       "      <td>...</td>\n",
       "      <td>...</td>\n",
       "      <td>...</td>\n",
       "      <td>...</td>\n",
       "      <td>...</td>\n",
       "      <td>...</td>\n",
       "      <td>...</td>\n",
       "      <td>...</td>\n",
       "      <td>...</td>\n",
       "      <td>...</td>\n",
       "      <td>...</td>\n",
       "      <td>...</td>\n",
       "      <td>...</td>\n",
       "    </tr>\n",
       "    <tr>\n",
       "      <th>271111</th>\n",
       "      <td>135569</td>\n",
       "      <td>Andrzej ya</td>\n",
       "      <td>M</td>\n",
       "      <td>29.0</td>\n",
       "      <td>179.0</td>\n",
       "      <td>89.0</td>\n",
       "      <td>Poland-1</td>\n",
       "      <td>POL</td>\n",
       "      <td>1976 Winter</td>\n",
       "      <td>1976</td>\n",
       "      <td>Winter</td>\n",
       "      <td>Innsbruck</td>\n",
       "      <td>Luge</td>\n",
       "      <td>Luge Mixed (Men)'s Doubles</td>\n",
       "      <td>NaN</td>\n",
       "    </tr>\n",
       "    <tr>\n",
       "      <th>271112</th>\n",
       "      <td>135570</td>\n",
       "      <td>Piotr ya</td>\n",
       "      <td>M</td>\n",
       "      <td>27.0</td>\n",
       "      <td>176.0</td>\n",
       "      <td>59.0</td>\n",
       "      <td>Poland</td>\n",
       "      <td>POL</td>\n",
       "      <td>2014 Winter</td>\n",
       "      <td>2014</td>\n",
       "      <td>Winter</td>\n",
       "      <td>Sochi</td>\n",
       "      <td>Ski Jumping</td>\n",
       "      <td>Ski Jumping Men's Large Hill, Individual</td>\n",
       "      <td>NaN</td>\n",
       "    </tr>\n",
       "    <tr>\n",
       "      <th>271113</th>\n",
       "      <td>135570</td>\n",
       "      <td>Piotr ya</td>\n",
       "      <td>M</td>\n",
       "      <td>27.0</td>\n",
       "      <td>176.0</td>\n",
       "      <td>59.0</td>\n",
       "      <td>Poland</td>\n",
       "      <td>POL</td>\n",
       "      <td>2014 Winter</td>\n",
       "      <td>2014</td>\n",
       "      <td>Winter</td>\n",
       "      <td>Sochi</td>\n",
       "      <td>Ski Jumping</td>\n",
       "      <td>Ski Jumping Men's Large Hill, Team</td>\n",
       "      <td>NaN</td>\n",
       "    </tr>\n",
       "    <tr>\n",
       "      <th>271114</th>\n",
       "      <td>135571</td>\n",
       "      <td>Tomasz Ireneusz ya</td>\n",
       "      <td>M</td>\n",
       "      <td>30.0</td>\n",
       "      <td>185.0</td>\n",
       "      <td>96.0</td>\n",
       "      <td>Poland</td>\n",
       "      <td>POL</td>\n",
       "      <td>1998 Winter</td>\n",
       "      <td>1998</td>\n",
       "      <td>Winter</td>\n",
       "      <td>Nagano</td>\n",
       "      <td>Bobsleigh</td>\n",
       "      <td>Bobsleigh Men's Four</td>\n",
       "      <td>NaN</td>\n",
       "    </tr>\n",
       "    <tr>\n",
       "      <th>271115</th>\n",
       "      <td>135571</td>\n",
       "      <td>Tomasz Ireneusz ya</td>\n",
       "      <td>M</td>\n",
       "      <td>34.0</td>\n",
       "      <td>185.0</td>\n",
       "      <td>96.0</td>\n",
       "      <td>Poland</td>\n",
       "      <td>POL</td>\n",
       "      <td>2002 Winter</td>\n",
       "      <td>2002</td>\n",
       "      <td>Winter</td>\n",
       "      <td>Salt Lake City</td>\n",
       "      <td>Bobsleigh</td>\n",
       "      <td>Bobsleigh Men's Four</td>\n",
       "      <td>NaN</td>\n",
       "    </tr>\n",
       "  </tbody>\n",
       "</table>\n",
       "<p>271116 rows × 15 columns</p>\n",
       "</div>"
      ],
      "text/plain": [
       "            ID                      Name Sex   Age  Height  Weight  \\\n",
       "0            1                 A Dijiang   M  24.0   180.0    80.0   \n",
       "1            2                  A Lamusi   M  23.0   170.0    60.0   \n",
       "2            3       Gunnar Nielsen Aaby   M  24.0     NaN     NaN   \n",
       "3            4      Edgar Lindenau Aabye   M  34.0     NaN     NaN   \n",
       "4            5  Christine Jacoba Aaftink   F  21.0   185.0    82.0   \n",
       "...        ...                       ...  ..   ...     ...     ...   \n",
       "271111  135569                Andrzej ya   M  29.0   179.0    89.0   \n",
       "271112  135570                  Piotr ya   M  27.0   176.0    59.0   \n",
       "271113  135570                  Piotr ya   M  27.0   176.0    59.0   \n",
       "271114  135571        Tomasz Ireneusz ya   M  30.0   185.0    96.0   \n",
       "271115  135571        Tomasz Ireneusz ya   M  34.0   185.0    96.0   \n",
       "\n",
       "                  Team  NOC        Games  Year  Season            City  \\\n",
       "0                China  CHN  1992 Summer  1992  Summer       Barcelona   \n",
       "1                China  CHN  2012 Summer  2012  Summer          London   \n",
       "2              Denmark  DEN  1920 Summer  1920  Summer       Antwerpen   \n",
       "3       Denmark/Sweden  DEN  1900 Summer  1900  Summer           Paris   \n",
       "4          Netherlands  NED  1988 Winter  1988  Winter         Calgary   \n",
       "...                ...  ...          ...   ...     ...             ...   \n",
       "271111        Poland-1  POL  1976 Winter  1976  Winter       Innsbruck   \n",
       "271112          Poland  POL  2014 Winter  2014  Winter           Sochi   \n",
       "271113          Poland  POL  2014 Winter  2014  Winter           Sochi   \n",
       "271114          Poland  POL  1998 Winter  1998  Winter          Nagano   \n",
       "271115          Poland  POL  2002 Winter  2002  Winter  Salt Lake City   \n",
       "\n",
       "                Sport                                     Event Medal  \n",
       "0          Basketball               Basketball Men's Basketball   NaN  \n",
       "1                Judo              Judo Men's Extra-Lightweight   NaN  \n",
       "2            Football                   Football Men's Football   NaN  \n",
       "3          Tug-Of-War               Tug-Of-War Men's Tug-Of-War  Gold  \n",
       "4       Speed Skating          Speed Skating Women's 500 metres   NaN  \n",
       "...               ...                                       ...   ...  \n",
       "271111           Luge                Luge Mixed (Men)'s Doubles   NaN  \n",
       "271112    Ski Jumping  Ski Jumping Men's Large Hill, Individual   NaN  \n",
       "271113    Ski Jumping        Ski Jumping Men's Large Hill, Team   NaN  \n",
       "271114      Bobsleigh                      Bobsleigh Men's Four   NaN  \n",
       "271115      Bobsleigh                      Bobsleigh Men's Four   NaN  \n",
       "\n",
       "[271116 rows x 15 columns]"
      ]
     },
     "execution_count": 3,
     "metadata": {},
     "output_type": "execute_result"
    }
   ],
   "source": [
    "df = pd.read_csv('athlete_events.csv')\n",
    "df"
   ]
  },
  {
   "cell_type": "markdown",
   "id": "56c86659",
   "metadata": {},
   "source": [
    "---\n",
    "### **Data Understanding and Preparation**\n",
    "#### **Checking Basic Information**\n",
    "---\n",
    "##### **Preview the data:** Display the first 4 rows of the data"
   ]
  },
  {
   "cell_type": "code",
   "execution_count": 4,
   "id": "6b68627b",
   "metadata": {},
   "outputs": [
    {
     "name": "stdout",
     "output_type": "stream",
     "text": [
      "   ID                  Name Sex   Age  Height  Weight            Team  NOC  \\\n",
      "0   1             A Dijiang   M  24.0   180.0    80.0           China  CHN   \n",
      "1   2              A Lamusi   M  23.0   170.0    60.0           China  CHN   \n",
      "2   3   Gunnar Nielsen Aaby   M  24.0     NaN     NaN         Denmark  DEN   \n",
      "3   4  Edgar Lindenau Aabye   M  34.0     NaN     NaN  Denmark/Sweden  DEN   \n",
      "\n",
      "         Games  Year  Season       City       Sport  \\\n",
      "0  1992 Summer  1992  Summer  Barcelona  Basketball   \n",
      "1  2012 Summer  2012  Summer     London        Judo   \n",
      "2  1920 Summer  1920  Summer  Antwerpen    Football   \n",
      "3  1900 Summer  1900  Summer      Paris  Tug-Of-War   \n",
      "\n",
      "                          Event Medal  \n",
      "0   Basketball Men's Basketball   NaN  \n",
      "1  Judo Men's Extra-Lightweight   NaN  \n",
      "2       Football Men's Football   NaN  \n",
      "3   Tug-Of-War Men's Tug-Of-War  Gold  \n"
     ]
    }
   ],
   "source": [
    "print(df.head(4))"
   ]
  },
  {
   "cell_type": "code",
   "execution_count": 5,
   "id": "8c35de23",
   "metadata": {},
   "outputs": [
    {
     "name": "stdout",
     "output_type": "stream",
     "text": [
      "            ID                Name Sex   Age  Height  Weight    Team  NOC  \\\n",
      "271112  135570            Piotr ya   M  27.0   176.0    59.0  Poland  POL   \n",
      "271113  135570            Piotr ya   M  27.0   176.0    59.0  Poland  POL   \n",
      "271114  135571  Tomasz Ireneusz ya   M  30.0   185.0    96.0  Poland  POL   \n",
      "271115  135571  Tomasz Ireneusz ya   M  34.0   185.0    96.0  Poland  POL   \n",
      "\n",
      "              Games  Year  Season            City        Sport  \\\n",
      "271112  2014 Winter  2014  Winter           Sochi  Ski Jumping   \n",
      "271113  2014 Winter  2014  Winter           Sochi  Ski Jumping   \n",
      "271114  1998 Winter  1998  Winter          Nagano    Bobsleigh   \n",
      "271115  2002 Winter  2002  Winter  Salt Lake City    Bobsleigh   \n",
      "\n",
      "                                           Event Medal  \n",
      "271112  Ski Jumping Men's Large Hill, Individual   NaN  \n",
      "271113        Ski Jumping Men's Large Hill, Team   NaN  \n",
      "271114                      Bobsleigh Men's Four   NaN  \n",
      "271115                      Bobsleigh Men's Four   NaN  \n"
     ]
    }
   ],
   "source": [
    "print(df.tail(4))"
   ]
  },
  {
   "cell_type": "markdown",
   "id": "5a959b50",
   "metadata": {},
   "source": [
    "---\n",
    "##### **Get dataset summary:** Display the General information of the data"
   ]
  },
  {
   "cell_type": "code",
   "execution_count": 6,
   "id": "148494eb",
   "metadata": {},
   "outputs": [
    {
     "name": "stdout",
     "output_type": "stream",
     "text": [
      "<class 'pandas.core.frame.DataFrame'>\n",
      "RangeIndex: 271116 entries, 0 to 271115\n",
      "Data columns (total 15 columns):\n",
      " #   Column  Non-Null Count   Dtype  \n",
      "---  ------  --------------   -----  \n",
      " 0   ID      271116 non-null  int64  \n",
      " 1   Name    271116 non-null  object \n",
      " 2   Sex     271116 non-null  object \n",
      " 3   Age     261642 non-null  float64\n",
      " 4   Height  210945 non-null  float64\n",
      " 5   Weight  208241 non-null  float64\n",
      " 6   Team    271116 non-null  object \n",
      " 7   NOC     271116 non-null  object \n",
      " 8   Games   271116 non-null  object \n",
      " 9   Year    271116 non-null  int64  \n",
      " 10  Season  271116 non-null  object \n",
      " 11  City    271116 non-null  object \n",
      " 12  Sport   271116 non-null  object \n",
      " 13  Event   271116 non-null  object \n",
      " 14  Medal   39783 non-null   object \n",
      "dtypes: float64(3), int64(2), object(10)\n",
      "memory usage: 31.0+ MB\n",
      "None\n"
     ]
    }
   ],
   "source": [
    "print(df.info())"
   ]
  },
  {
   "cell_type": "markdown",
   "id": "42a66641",
   "metadata": {},
   "source": [
    "---\n",
    "##### **Get dataset summary:** Display the summary statistics for numerical columns"
   ]
  },
  {
   "cell_type": "code",
   "execution_count": 7,
   "id": "c7830e7e",
   "metadata": {
    "scrolled": false
   },
   "outputs": [
    {
     "name": "stdout",
     "output_type": "stream",
     "text": [
      "                  ID            Age         Height         Weight  \\\n",
      "count  271116.000000  261642.000000  210945.000000  208241.000000   \n",
      "mean    68248.954396      25.556898     175.338970      70.702393   \n",
      "std     39022.286345       6.393561      10.518462      14.348020   \n",
      "min         1.000000      10.000000     127.000000      25.000000   \n",
      "25%     34643.000000      21.000000     168.000000      60.000000   \n",
      "50%     68205.000000      24.000000     175.000000      70.000000   \n",
      "75%    102097.250000      28.000000     183.000000      79.000000   \n",
      "max    135571.000000      97.000000     226.000000     214.000000   \n",
      "\n",
      "                Year  \n",
      "count  271116.000000  \n",
      "mean     1978.378480  \n",
      "std        29.877632  \n",
      "min      1896.000000  \n",
      "25%      1960.000000  \n",
      "50%      1988.000000  \n",
      "75%      2002.000000  \n",
      "max      2016.000000  \n"
     ]
    }
   ],
   "source": [
    "print(df.describe())"
   ]
  },
  {
   "cell_type": "markdown",
   "id": "9890d436",
   "metadata": {},
   "source": [
    "---\n",
    "##### **Get column names:** Display only the column names of the data"
   ]
  },
  {
   "cell_type": "code",
   "execution_count": 8,
   "id": "03b2fec9",
   "metadata": {},
   "outputs": [
    {
     "data": {
      "text/plain": [
       "Index(['ID', 'Name', 'Sex', 'Age', 'Height', 'Weight', 'Team', 'NOC', 'Games',\n",
       "       'Year', 'Season', 'City', 'Sport', 'Event', 'Medal'],\n",
       "      dtype='object')"
      ]
     },
     "execution_count": 8,
     "metadata": {},
     "output_type": "execute_result"
    }
   ],
   "source": [
    "df.columns"
   ]
  },
  {
   "cell_type": "markdown",
   "id": "bc1c634e",
   "metadata": {},
   "source": [
    "---\n",
    "##### **Get number of rows and columns:**\n"
   ]
  },
  {
   "cell_type": "code",
   "execution_count": 9,
   "id": "a4463f73",
   "metadata": {},
   "outputs": [
    {
     "data": {
      "text/plain": [
       "(271116, 15)"
      ]
     },
     "execution_count": 9,
     "metadata": {},
     "output_type": "execute_result"
    }
   ],
   "source": [
    "df.shape"
   ]
  },
  {
   "cell_type": "markdown",
   "id": "6f131d1e",
   "metadata": {},
   "source": [
    "---\n",
    "#### **Identifying missing Values**"
   ]
  },
  {
   "cell_type": "code",
   "execution_count": 10,
   "id": "4faf0b4c",
   "metadata": {},
   "outputs": [
    {
     "data": {
      "text/html": [
       "<div>\n",
       "<style scoped>\n",
       "    .dataframe tbody tr th:only-of-type {\n",
       "        vertical-align: middle;\n",
       "    }\n",
       "\n",
       "    .dataframe tbody tr th {\n",
       "        vertical-align: top;\n",
       "    }\n",
       "\n",
       "    .dataframe thead th {\n",
       "        text-align: right;\n",
       "    }\n",
       "</style>\n",
       "<table border=\"1\" class=\"dataframe\">\n",
       "  <thead>\n",
       "    <tr style=\"text-align: right;\">\n",
       "      <th></th>\n",
       "      <th>ID</th>\n",
       "      <th>Name</th>\n",
       "      <th>Sex</th>\n",
       "      <th>Age</th>\n",
       "      <th>Height</th>\n",
       "      <th>Weight</th>\n",
       "      <th>Team</th>\n",
       "      <th>NOC</th>\n",
       "      <th>Games</th>\n",
       "      <th>Year</th>\n",
       "      <th>Season</th>\n",
       "      <th>City</th>\n",
       "      <th>Sport</th>\n",
       "      <th>Event</th>\n",
       "      <th>Medal</th>\n",
       "    </tr>\n",
       "  </thead>\n",
       "  <tbody>\n",
       "    <tr>\n",
       "      <th>0</th>\n",
       "      <td>False</td>\n",
       "      <td>False</td>\n",
       "      <td>False</td>\n",
       "      <td>False</td>\n",
       "      <td>False</td>\n",
       "      <td>False</td>\n",
       "      <td>False</td>\n",
       "      <td>False</td>\n",
       "      <td>False</td>\n",
       "      <td>False</td>\n",
       "      <td>False</td>\n",
       "      <td>False</td>\n",
       "      <td>False</td>\n",
       "      <td>False</td>\n",
       "      <td>True</td>\n",
       "    </tr>\n",
       "    <tr>\n",
       "      <th>1</th>\n",
       "      <td>False</td>\n",
       "      <td>False</td>\n",
       "      <td>False</td>\n",
       "      <td>False</td>\n",
       "      <td>False</td>\n",
       "      <td>False</td>\n",
       "      <td>False</td>\n",
       "      <td>False</td>\n",
       "      <td>False</td>\n",
       "      <td>False</td>\n",
       "      <td>False</td>\n",
       "      <td>False</td>\n",
       "      <td>False</td>\n",
       "      <td>False</td>\n",
       "      <td>True</td>\n",
       "    </tr>\n",
       "    <tr>\n",
       "      <th>2</th>\n",
       "      <td>False</td>\n",
       "      <td>False</td>\n",
       "      <td>False</td>\n",
       "      <td>False</td>\n",
       "      <td>True</td>\n",
       "      <td>True</td>\n",
       "      <td>False</td>\n",
       "      <td>False</td>\n",
       "      <td>False</td>\n",
       "      <td>False</td>\n",
       "      <td>False</td>\n",
       "      <td>False</td>\n",
       "      <td>False</td>\n",
       "      <td>False</td>\n",
       "      <td>True</td>\n",
       "    </tr>\n",
       "    <tr>\n",
       "      <th>3</th>\n",
       "      <td>False</td>\n",
       "      <td>False</td>\n",
       "      <td>False</td>\n",
       "      <td>False</td>\n",
       "      <td>True</td>\n",
       "      <td>True</td>\n",
       "      <td>False</td>\n",
       "      <td>False</td>\n",
       "      <td>False</td>\n",
       "      <td>False</td>\n",
       "      <td>False</td>\n",
       "      <td>False</td>\n",
       "      <td>False</td>\n",
       "      <td>False</td>\n",
       "      <td>False</td>\n",
       "    </tr>\n",
       "    <tr>\n",
       "      <th>4</th>\n",
       "      <td>False</td>\n",
       "      <td>False</td>\n",
       "      <td>False</td>\n",
       "      <td>False</td>\n",
       "      <td>False</td>\n",
       "      <td>False</td>\n",
       "      <td>False</td>\n",
       "      <td>False</td>\n",
       "      <td>False</td>\n",
       "      <td>False</td>\n",
       "      <td>False</td>\n",
       "      <td>False</td>\n",
       "      <td>False</td>\n",
       "      <td>False</td>\n",
       "      <td>True</td>\n",
       "    </tr>\n",
       "    <tr>\n",
       "      <th>...</th>\n",
       "      <td>...</td>\n",
       "      <td>...</td>\n",
       "      <td>...</td>\n",
       "      <td>...</td>\n",
       "      <td>...</td>\n",
       "      <td>...</td>\n",
       "      <td>...</td>\n",
       "      <td>...</td>\n",
       "      <td>...</td>\n",
       "      <td>...</td>\n",
       "      <td>...</td>\n",
       "      <td>...</td>\n",
       "      <td>...</td>\n",
       "      <td>...</td>\n",
       "      <td>...</td>\n",
       "    </tr>\n",
       "    <tr>\n",
       "      <th>271111</th>\n",
       "      <td>False</td>\n",
       "      <td>False</td>\n",
       "      <td>False</td>\n",
       "      <td>False</td>\n",
       "      <td>False</td>\n",
       "      <td>False</td>\n",
       "      <td>False</td>\n",
       "      <td>False</td>\n",
       "      <td>False</td>\n",
       "      <td>False</td>\n",
       "      <td>False</td>\n",
       "      <td>False</td>\n",
       "      <td>False</td>\n",
       "      <td>False</td>\n",
       "      <td>True</td>\n",
       "    </tr>\n",
       "    <tr>\n",
       "      <th>271112</th>\n",
       "      <td>False</td>\n",
       "      <td>False</td>\n",
       "      <td>False</td>\n",
       "      <td>False</td>\n",
       "      <td>False</td>\n",
       "      <td>False</td>\n",
       "      <td>False</td>\n",
       "      <td>False</td>\n",
       "      <td>False</td>\n",
       "      <td>False</td>\n",
       "      <td>False</td>\n",
       "      <td>False</td>\n",
       "      <td>False</td>\n",
       "      <td>False</td>\n",
       "      <td>True</td>\n",
       "    </tr>\n",
       "    <tr>\n",
       "      <th>271113</th>\n",
       "      <td>False</td>\n",
       "      <td>False</td>\n",
       "      <td>False</td>\n",
       "      <td>False</td>\n",
       "      <td>False</td>\n",
       "      <td>False</td>\n",
       "      <td>False</td>\n",
       "      <td>False</td>\n",
       "      <td>False</td>\n",
       "      <td>False</td>\n",
       "      <td>False</td>\n",
       "      <td>False</td>\n",
       "      <td>False</td>\n",
       "      <td>False</td>\n",
       "      <td>True</td>\n",
       "    </tr>\n",
       "    <tr>\n",
       "      <th>271114</th>\n",
       "      <td>False</td>\n",
       "      <td>False</td>\n",
       "      <td>False</td>\n",
       "      <td>False</td>\n",
       "      <td>False</td>\n",
       "      <td>False</td>\n",
       "      <td>False</td>\n",
       "      <td>False</td>\n",
       "      <td>False</td>\n",
       "      <td>False</td>\n",
       "      <td>False</td>\n",
       "      <td>False</td>\n",
       "      <td>False</td>\n",
       "      <td>False</td>\n",
       "      <td>True</td>\n",
       "    </tr>\n",
       "    <tr>\n",
       "      <th>271115</th>\n",
       "      <td>False</td>\n",
       "      <td>False</td>\n",
       "      <td>False</td>\n",
       "      <td>False</td>\n",
       "      <td>False</td>\n",
       "      <td>False</td>\n",
       "      <td>False</td>\n",
       "      <td>False</td>\n",
       "      <td>False</td>\n",
       "      <td>False</td>\n",
       "      <td>False</td>\n",
       "      <td>False</td>\n",
       "      <td>False</td>\n",
       "      <td>False</td>\n",
       "      <td>True</td>\n",
       "    </tr>\n",
       "  </tbody>\n",
       "</table>\n",
       "<p>271116 rows × 15 columns</p>\n",
       "</div>"
      ],
      "text/plain": [
       "           ID   Name    Sex    Age  Height  Weight   Team    NOC  Games  \\\n",
       "0       False  False  False  False   False   False  False  False  False   \n",
       "1       False  False  False  False   False   False  False  False  False   \n",
       "2       False  False  False  False    True    True  False  False  False   \n",
       "3       False  False  False  False    True    True  False  False  False   \n",
       "4       False  False  False  False   False   False  False  False  False   \n",
       "...       ...    ...    ...    ...     ...     ...    ...    ...    ...   \n",
       "271111  False  False  False  False   False   False  False  False  False   \n",
       "271112  False  False  False  False   False   False  False  False  False   \n",
       "271113  False  False  False  False   False   False  False  False  False   \n",
       "271114  False  False  False  False   False   False  False  False  False   \n",
       "271115  False  False  False  False   False   False  False  False  False   \n",
       "\n",
       "         Year  Season   City  Sport  Event  Medal  \n",
       "0       False   False  False  False  False   True  \n",
       "1       False   False  False  False  False   True  \n",
       "2       False   False  False  False  False   True  \n",
       "3       False   False  False  False  False  False  \n",
       "4       False   False  False  False  False   True  \n",
       "...       ...     ...    ...    ...    ...    ...  \n",
       "271111  False   False  False  False  False   True  \n",
       "271112  False   False  False  False  False   True  \n",
       "271113  False   False  False  False  False   True  \n",
       "271114  False   False  False  False  False   True  \n",
       "271115  False   False  False  False  False   True  \n",
       "\n",
       "[271116 rows x 15 columns]"
      ]
     },
     "execution_count": 10,
     "metadata": {},
     "output_type": "execute_result"
    }
   ],
   "source": [
    "df.isnull()"
   ]
  },
  {
   "cell_type": "markdown",
   "id": "cef08d98",
   "metadata": {},
   "source": [
    "---\n",
    "#### **Replace missing values with the mean**"
   ]
  },
  {
   "cell_type": "code",
   "execution_count": 11,
   "id": "4039f60c",
   "metadata": {},
   "outputs": [
    {
     "data": {
      "text/html": [
       "<div>\n",
       "<style scoped>\n",
       "    .dataframe tbody tr th:only-of-type {\n",
       "        vertical-align: middle;\n",
       "    }\n",
       "\n",
       "    .dataframe tbody tr th {\n",
       "        vertical-align: top;\n",
       "    }\n",
       "\n",
       "    .dataframe thead th {\n",
       "        text-align: right;\n",
       "    }\n",
       "</style>\n",
       "<table border=\"1\" class=\"dataframe\">\n",
       "  <thead>\n",
       "    <tr style=\"text-align: right;\">\n",
       "      <th></th>\n",
       "      <th>ID</th>\n",
       "      <th>Name</th>\n",
       "      <th>Sex</th>\n",
       "      <th>Age</th>\n",
       "      <th>Height</th>\n",
       "      <th>Weight</th>\n",
       "      <th>Team</th>\n",
       "      <th>NOC</th>\n",
       "      <th>Games</th>\n",
       "      <th>Year</th>\n",
       "      <th>Season</th>\n",
       "      <th>City</th>\n",
       "      <th>Sport</th>\n",
       "      <th>Event</th>\n",
       "      <th>Medal</th>\n",
       "    </tr>\n",
       "  </thead>\n",
       "  <tbody>\n",
       "    <tr>\n",
       "      <th>0</th>\n",
       "      <td>1</td>\n",
       "      <td>A Dijiang</td>\n",
       "      <td>M</td>\n",
       "      <td>24.0</td>\n",
       "      <td>180.00000</td>\n",
       "      <td>80.000000</td>\n",
       "      <td>China</td>\n",
       "      <td>CHN</td>\n",
       "      <td>1992 Summer</td>\n",
       "      <td>1992</td>\n",
       "      <td>Summer</td>\n",
       "      <td>Barcelona</td>\n",
       "      <td>Basketball</td>\n",
       "      <td>Basketball Men's Basketball</td>\n",
       "      <td>NaN</td>\n",
       "    </tr>\n",
       "    <tr>\n",
       "      <th>1</th>\n",
       "      <td>2</td>\n",
       "      <td>A Lamusi</td>\n",
       "      <td>M</td>\n",
       "      <td>23.0</td>\n",
       "      <td>170.00000</td>\n",
       "      <td>60.000000</td>\n",
       "      <td>China</td>\n",
       "      <td>CHN</td>\n",
       "      <td>2012 Summer</td>\n",
       "      <td>2012</td>\n",
       "      <td>Summer</td>\n",
       "      <td>London</td>\n",
       "      <td>Judo</td>\n",
       "      <td>Judo Men's Extra-Lightweight</td>\n",
       "      <td>NaN</td>\n",
       "    </tr>\n",
       "    <tr>\n",
       "      <th>2</th>\n",
       "      <td>3</td>\n",
       "      <td>Gunnar Nielsen Aaby</td>\n",
       "      <td>M</td>\n",
       "      <td>24.0</td>\n",
       "      <td>175.33897</td>\n",
       "      <td>70.702393</td>\n",
       "      <td>Denmark</td>\n",
       "      <td>DEN</td>\n",
       "      <td>1920 Summer</td>\n",
       "      <td>1920</td>\n",
       "      <td>Summer</td>\n",
       "      <td>Antwerpen</td>\n",
       "      <td>Football</td>\n",
       "      <td>Football Men's Football</td>\n",
       "      <td>NaN</td>\n",
       "    </tr>\n",
       "    <tr>\n",
       "      <th>3</th>\n",
       "      <td>4</td>\n",
       "      <td>Edgar Lindenau Aabye</td>\n",
       "      <td>M</td>\n",
       "      <td>34.0</td>\n",
       "      <td>175.33897</td>\n",
       "      <td>70.702393</td>\n",
       "      <td>Denmark/Sweden</td>\n",
       "      <td>DEN</td>\n",
       "      <td>1900 Summer</td>\n",
       "      <td>1900</td>\n",
       "      <td>Summer</td>\n",
       "      <td>Paris</td>\n",
       "      <td>Tug-Of-War</td>\n",
       "      <td>Tug-Of-War Men's Tug-Of-War</td>\n",
       "      <td>Gold</td>\n",
       "    </tr>\n",
       "    <tr>\n",
       "      <th>4</th>\n",
       "      <td>5</td>\n",
       "      <td>Christine Jacoba Aaftink</td>\n",
       "      <td>F</td>\n",
       "      <td>21.0</td>\n",
       "      <td>185.00000</td>\n",
       "      <td>82.000000</td>\n",
       "      <td>Netherlands</td>\n",
       "      <td>NED</td>\n",
       "      <td>1988 Winter</td>\n",
       "      <td>1988</td>\n",
       "      <td>Winter</td>\n",
       "      <td>Calgary</td>\n",
       "      <td>Speed Skating</td>\n",
       "      <td>Speed Skating Women's 500 metres</td>\n",
       "      <td>NaN</td>\n",
       "    </tr>\n",
       "    <tr>\n",
       "      <th>...</th>\n",
       "      <td>...</td>\n",
       "      <td>...</td>\n",
       "      <td>...</td>\n",
       "      <td>...</td>\n",
       "      <td>...</td>\n",
       "      <td>...</td>\n",
       "      <td>...</td>\n",
       "      <td>...</td>\n",
       "      <td>...</td>\n",
       "      <td>...</td>\n",
       "      <td>...</td>\n",
       "      <td>...</td>\n",
       "      <td>...</td>\n",
       "      <td>...</td>\n",
       "      <td>...</td>\n",
       "    </tr>\n",
       "    <tr>\n",
       "      <th>271111</th>\n",
       "      <td>135569</td>\n",
       "      <td>Andrzej ya</td>\n",
       "      <td>M</td>\n",
       "      <td>29.0</td>\n",
       "      <td>179.00000</td>\n",
       "      <td>89.000000</td>\n",
       "      <td>Poland-1</td>\n",
       "      <td>POL</td>\n",
       "      <td>1976 Winter</td>\n",
       "      <td>1976</td>\n",
       "      <td>Winter</td>\n",
       "      <td>Innsbruck</td>\n",
       "      <td>Luge</td>\n",
       "      <td>Luge Mixed (Men)'s Doubles</td>\n",
       "      <td>NaN</td>\n",
       "    </tr>\n",
       "    <tr>\n",
       "      <th>271112</th>\n",
       "      <td>135570</td>\n",
       "      <td>Piotr ya</td>\n",
       "      <td>M</td>\n",
       "      <td>27.0</td>\n",
       "      <td>176.00000</td>\n",
       "      <td>59.000000</td>\n",
       "      <td>Poland</td>\n",
       "      <td>POL</td>\n",
       "      <td>2014 Winter</td>\n",
       "      <td>2014</td>\n",
       "      <td>Winter</td>\n",
       "      <td>Sochi</td>\n",
       "      <td>Ski Jumping</td>\n",
       "      <td>Ski Jumping Men's Large Hill, Individual</td>\n",
       "      <td>NaN</td>\n",
       "    </tr>\n",
       "    <tr>\n",
       "      <th>271113</th>\n",
       "      <td>135570</td>\n",
       "      <td>Piotr ya</td>\n",
       "      <td>M</td>\n",
       "      <td>27.0</td>\n",
       "      <td>176.00000</td>\n",
       "      <td>59.000000</td>\n",
       "      <td>Poland</td>\n",
       "      <td>POL</td>\n",
       "      <td>2014 Winter</td>\n",
       "      <td>2014</td>\n",
       "      <td>Winter</td>\n",
       "      <td>Sochi</td>\n",
       "      <td>Ski Jumping</td>\n",
       "      <td>Ski Jumping Men's Large Hill, Team</td>\n",
       "      <td>NaN</td>\n",
       "    </tr>\n",
       "    <tr>\n",
       "      <th>271114</th>\n",
       "      <td>135571</td>\n",
       "      <td>Tomasz Ireneusz ya</td>\n",
       "      <td>M</td>\n",
       "      <td>30.0</td>\n",
       "      <td>185.00000</td>\n",
       "      <td>96.000000</td>\n",
       "      <td>Poland</td>\n",
       "      <td>POL</td>\n",
       "      <td>1998 Winter</td>\n",
       "      <td>1998</td>\n",
       "      <td>Winter</td>\n",
       "      <td>Nagano</td>\n",
       "      <td>Bobsleigh</td>\n",
       "      <td>Bobsleigh Men's Four</td>\n",
       "      <td>NaN</td>\n",
       "    </tr>\n",
       "    <tr>\n",
       "      <th>271115</th>\n",
       "      <td>135571</td>\n",
       "      <td>Tomasz Ireneusz ya</td>\n",
       "      <td>M</td>\n",
       "      <td>34.0</td>\n",
       "      <td>185.00000</td>\n",
       "      <td>96.000000</td>\n",
       "      <td>Poland</td>\n",
       "      <td>POL</td>\n",
       "      <td>2002 Winter</td>\n",
       "      <td>2002</td>\n",
       "      <td>Winter</td>\n",
       "      <td>Salt Lake City</td>\n",
       "      <td>Bobsleigh</td>\n",
       "      <td>Bobsleigh Men's Four</td>\n",
       "      <td>NaN</td>\n",
       "    </tr>\n",
       "  </tbody>\n",
       "</table>\n",
       "<p>271116 rows × 15 columns</p>\n",
       "</div>"
      ],
      "text/plain": [
       "            ID                      Name Sex   Age     Height     Weight  \\\n",
       "0            1                 A Dijiang   M  24.0  180.00000  80.000000   \n",
       "1            2                  A Lamusi   M  23.0  170.00000  60.000000   \n",
       "2            3       Gunnar Nielsen Aaby   M  24.0  175.33897  70.702393   \n",
       "3            4      Edgar Lindenau Aabye   M  34.0  175.33897  70.702393   \n",
       "4            5  Christine Jacoba Aaftink   F  21.0  185.00000  82.000000   \n",
       "...        ...                       ...  ..   ...        ...        ...   \n",
       "271111  135569                Andrzej ya   M  29.0  179.00000  89.000000   \n",
       "271112  135570                  Piotr ya   M  27.0  176.00000  59.000000   \n",
       "271113  135570                  Piotr ya   M  27.0  176.00000  59.000000   \n",
       "271114  135571        Tomasz Ireneusz ya   M  30.0  185.00000  96.000000   \n",
       "271115  135571        Tomasz Ireneusz ya   M  34.0  185.00000  96.000000   \n",
       "\n",
       "                  Team  NOC        Games  Year  Season            City  \\\n",
       "0                China  CHN  1992 Summer  1992  Summer       Barcelona   \n",
       "1                China  CHN  2012 Summer  2012  Summer          London   \n",
       "2              Denmark  DEN  1920 Summer  1920  Summer       Antwerpen   \n",
       "3       Denmark/Sweden  DEN  1900 Summer  1900  Summer           Paris   \n",
       "4          Netherlands  NED  1988 Winter  1988  Winter         Calgary   \n",
       "...                ...  ...          ...   ...     ...             ...   \n",
       "271111        Poland-1  POL  1976 Winter  1976  Winter       Innsbruck   \n",
       "271112          Poland  POL  2014 Winter  2014  Winter           Sochi   \n",
       "271113          Poland  POL  2014 Winter  2014  Winter           Sochi   \n",
       "271114          Poland  POL  1998 Winter  1998  Winter          Nagano   \n",
       "271115          Poland  POL  2002 Winter  2002  Winter  Salt Lake City   \n",
       "\n",
       "                Sport                                     Event Medal  \n",
       "0          Basketball               Basketball Men's Basketball   NaN  \n",
       "1                Judo              Judo Men's Extra-Lightweight   NaN  \n",
       "2            Football                   Football Men's Football   NaN  \n",
       "3          Tug-Of-War               Tug-Of-War Men's Tug-Of-War  Gold  \n",
       "4       Speed Skating          Speed Skating Women's 500 metres   NaN  \n",
       "...               ...                                       ...   ...  \n",
       "271111           Luge                Luge Mixed (Men)'s Doubles   NaN  \n",
       "271112    Ski Jumping  Ski Jumping Men's Large Hill, Individual   NaN  \n",
       "271113    Ski Jumping        Ski Jumping Men's Large Hill, Team   NaN  \n",
       "271114      Bobsleigh                      Bobsleigh Men's Four   NaN  \n",
       "271115      Bobsleigh                      Bobsleigh Men's Four   NaN  \n",
       "\n",
       "[271116 rows x 15 columns]"
      ]
     },
     "execution_count": 11,
     "metadata": {},
     "output_type": "execute_result"
    }
   ],
   "source": [
    "df.fillna(df.mean(numeric_only=True), inplace=True)\n",
    "df"
   ]
  },
  {
   "cell_type": "code",
   "execution_count": 12,
   "id": "3819b004",
   "metadata": {},
   "outputs": [
    {
     "data": {
      "text/html": [
       "<div>\n",
       "<style scoped>\n",
       "    .dataframe tbody tr th:only-of-type {\n",
       "        vertical-align: middle;\n",
       "    }\n",
       "\n",
       "    .dataframe tbody tr th {\n",
       "        vertical-align: top;\n",
       "    }\n",
       "\n",
       "    .dataframe thead th {\n",
       "        text-align: right;\n",
       "    }\n",
       "</style>\n",
       "<table border=\"1\" class=\"dataframe\">\n",
       "  <thead>\n",
       "    <tr style=\"text-align: right;\">\n",
       "      <th></th>\n",
       "      <th>ID</th>\n",
       "      <th>Name</th>\n",
       "      <th>Sex</th>\n",
       "      <th>Age</th>\n",
       "      <th>Height</th>\n",
       "      <th>Weight</th>\n",
       "      <th>Team</th>\n",
       "      <th>NOC</th>\n",
       "      <th>Games</th>\n",
       "      <th>Year</th>\n",
       "      <th>Season</th>\n",
       "      <th>City</th>\n",
       "      <th>Sport</th>\n",
       "      <th>Event</th>\n",
       "      <th>Medal</th>\n",
       "    </tr>\n",
       "  </thead>\n",
       "  <tbody>\n",
       "    <tr>\n",
       "      <th>0</th>\n",
       "      <td>False</td>\n",
       "      <td>False</td>\n",
       "      <td>False</td>\n",
       "      <td>False</td>\n",
       "      <td>False</td>\n",
       "      <td>False</td>\n",
       "      <td>False</td>\n",
       "      <td>False</td>\n",
       "      <td>False</td>\n",
       "      <td>False</td>\n",
       "      <td>False</td>\n",
       "      <td>False</td>\n",
       "      <td>False</td>\n",
       "      <td>False</td>\n",
       "      <td>True</td>\n",
       "    </tr>\n",
       "    <tr>\n",
       "      <th>1</th>\n",
       "      <td>False</td>\n",
       "      <td>False</td>\n",
       "      <td>False</td>\n",
       "      <td>False</td>\n",
       "      <td>False</td>\n",
       "      <td>False</td>\n",
       "      <td>False</td>\n",
       "      <td>False</td>\n",
       "      <td>False</td>\n",
       "      <td>False</td>\n",
       "      <td>False</td>\n",
       "      <td>False</td>\n",
       "      <td>False</td>\n",
       "      <td>False</td>\n",
       "      <td>True</td>\n",
       "    </tr>\n",
       "    <tr>\n",
       "      <th>2</th>\n",
       "      <td>False</td>\n",
       "      <td>False</td>\n",
       "      <td>False</td>\n",
       "      <td>False</td>\n",
       "      <td>False</td>\n",
       "      <td>False</td>\n",
       "      <td>False</td>\n",
       "      <td>False</td>\n",
       "      <td>False</td>\n",
       "      <td>False</td>\n",
       "      <td>False</td>\n",
       "      <td>False</td>\n",
       "      <td>False</td>\n",
       "      <td>False</td>\n",
       "      <td>True</td>\n",
       "    </tr>\n",
       "    <tr>\n",
       "      <th>3</th>\n",
       "      <td>False</td>\n",
       "      <td>False</td>\n",
       "      <td>False</td>\n",
       "      <td>False</td>\n",
       "      <td>False</td>\n",
       "      <td>False</td>\n",
       "      <td>False</td>\n",
       "      <td>False</td>\n",
       "      <td>False</td>\n",
       "      <td>False</td>\n",
       "      <td>False</td>\n",
       "      <td>False</td>\n",
       "      <td>False</td>\n",
       "      <td>False</td>\n",
       "      <td>False</td>\n",
       "    </tr>\n",
       "    <tr>\n",
       "      <th>4</th>\n",
       "      <td>False</td>\n",
       "      <td>False</td>\n",
       "      <td>False</td>\n",
       "      <td>False</td>\n",
       "      <td>False</td>\n",
       "      <td>False</td>\n",
       "      <td>False</td>\n",
       "      <td>False</td>\n",
       "      <td>False</td>\n",
       "      <td>False</td>\n",
       "      <td>False</td>\n",
       "      <td>False</td>\n",
       "      <td>False</td>\n",
       "      <td>False</td>\n",
       "      <td>True</td>\n",
       "    </tr>\n",
       "    <tr>\n",
       "      <th>...</th>\n",
       "      <td>...</td>\n",
       "      <td>...</td>\n",
       "      <td>...</td>\n",
       "      <td>...</td>\n",
       "      <td>...</td>\n",
       "      <td>...</td>\n",
       "      <td>...</td>\n",
       "      <td>...</td>\n",
       "      <td>...</td>\n",
       "      <td>...</td>\n",
       "      <td>...</td>\n",
       "      <td>...</td>\n",
       "      <td>...</td>\n",
       "      <td>...</td>\n",
       "      <td>...</td>\n",
       "    </tr>\n",
       "    <tr>\n",
       "      <th>271111</th>\n",
       "      <td>False</td>\n",
       "      <td>False</td>\n",
       "      <td>False</td>\n",
       "      <td>False</td>\n",
       "      <td>False</td>\n",
       "      <td>False</td>\n",
       "      <td>False</td>\n",
       "      <td>False</td>\n",
       "      <td>False</td>\n",
       "      <td>False</td>\n",
       "      <td>False</td>\n",
       "      <td>False</td>\n",
       "      <td>False</td>\n",
       "      <td>False</td>\n",
       "      <td>True</td>\n",
       "    </tr>\n",
       "    <tr>\n",
       "      <th>271112</th>\n",
       "      <td>False</td>\n",
       "      <td>False</td>\n",
       "      <td>False</td>\n",
       "      <td>False</td>\n",
       "      <td>False</td>\n",
       "      <td>False</td>\n",
       "      <td>False</td>\n",
       "      <td>False</td>\n",
       "      <td>False</td>\n",
       "      <td>False</td>\n",
       "      <td>False</td>\n",
       "      <td>False</td>\n",
       "      <td>False</td>\n",
       "      <td>False</td>\n",
       "      <td>True</td>\n",
       "    </tr>\n",
       "    <tr>\n",
       "      <th>271113</th>\n",
       "      <td>False</td>\n",
       "      <td>False</td>\n",
       "      <td>False</td>\n",
       "      <td>False</td>\n",
       "      <td>False</td>\n",
       "      <td>False</td>\n",
       "      <td>False</td>\n",
       "      <td>False</td>\n",
       "      <td>False</td>\n",
       "      <td>False</td>\n",
       "      <td>False</td>\n",
       "      <td>False</td>\n",
       "      <td>False</td>\n",
       "      <td>False</td>\n",
       "      <td>True</td>\n",
       "    </tr>\n",
       "    <tr>\n",
       "      <th>271114</th>\n",
       "      <td>False</td>\n",
       "      <td>False</td>\n",
       "      <td>False</td>\n",
       "      <td>False</td>\n",
       "      <td>False</td>\n",
       "      <td>False</td>\n",
       "      <td>False</td>\n",
       "      <td>False</td>\n",
       "      <td>False</td>\n",
       "      <td>False</td>\n",
       "      <td>False</td>\n",
       "      <td>False</td>\n",
       "      <td>False</td>\n",
       "      <td>False</td>\n",
       "      <td>True</td>\n",
       "    </tr>\n",
       "    <tr>\n",
       "      <th>271115</th>\n",
       "      <td>False</td>\n",
       "      <td>False</td>\n",
       "      <td>False</td>\n",
       "      <td>False</td>\n",
       "      <td>False</td>\n",
       "      <td>False</td>\n",
       "      <td>False</td>\n",
       "      <td>False</td>\n",
       "      <td>False</td>\n",
       "      <td>False</td>\n",
       "      <td>False</td>\n",
       "      <td>False</td>\n",
       "      <td>False</td>\n",
       "      <td>False</td>\n",
       "      <td>True</td>\n",
       "    </tr>\n",
       "  </tbody>\n",
       "</table>\n",
       "<p>271116 rows × 15 columns</p>\n",
       "</div>"
      ],
      "text/plain": [
       "           ID   Name    Sex    Age  Height  Weight   Team    NOC  Games  \\\n",
       "0       False  False  False  False   False   False  False  False  False   \n",
       "1       False  False  False  False   False   False  False  False  False   \n",
       "2       False  False  False  False   False   False  False  False  False   \n",
       "3       False  False  False  False   False   False  False  False  False   \n",
       "4       False  False  False  False   False   False  False  False  False   \n",
       "...       ...    ...    ...    ...     ...     ...    ...    ...    ...   \n",
       "271111  False  False  False  False   False   False  False  False  False   \n",
       "271112  False  False  False  False   False   False  False  False  False   \n",
       "271113  False  False  False  False   False   False  False  False  False   \n",
       "271114  False  False  False  False   False   False  False  False  False   \n",
       "271115  False  False  False  False   False   False  False  False  False   \n",
       "\n",
       "         Year  Season   City  Sport  Event  Medal  \n",
       "0       False   False  False  False  False   True  \n",
       "1       False   False  False  False  False   True  \n",
       "2       False   False  False  False  False   True  \n",
       "3       False   False  False  False  False  False  \n",
       "4       False   False  False  False  False   True  \n",
       "...       ...     ...    ...    ...    ...    ...  \n",
       "271111  False   False  False  False  False   True  \n",
       "271112  False   False  False  False  False   True  \n",
       "271113  False   False  False  False  False   True  \n",
       "271114  False   False  False  False  False   True  \n",
       "271115  False   False  False  False  False   True  \n",
       "\n",
       "[271116 rows x 15 columns]"
      ]
     },
     "execution_count": 12,
     "metadata": {},
     "output_type": "execute_result"
    }
   ],
   "source": [
    "#cheching for missing values again\n",
    "df.isnull()"
   ]
  },
  {
   "cell_type": "markdown",
   "id": "3427d114",
   "metadata": {},
   "source": [
    "----\n",
    "**Examining Numerical & Categorical Data**"
   ]
  },
  {
   "cell_type": "code",
   "execution_count": 13,
   "id": "14114b9b",
   "metadata": {},
   "outputs": [
    {
     "name": "stdout",
     "output_type": "stream",
     "text": [
      "Sex\n",
      "F    23.743259\n",
      "M    26.244387\n",
      "Name: Age, dtype: float64\n"
     ]
    }
   ],
   "source": [
    "#whats the avg age of an olympian?\n",
    "avg_age_sex = df.groupby('Sex')['Age'].mean()\n",
    "print(avg_age_sex)"
   ]
  },
  {
   "cell_type": "code",
   "execution_count": 16,
   "id": "79d77ed0",
   "metadata": {},
   "outputs": [
    {
     "data": {
      "image/png": "[encoded data removed]",
      "text/plain": [
       "<Figure size 1500x600 with 1 Axes>"
      ]
     },
     "metadata": {},
     "output_type": "display_data"
    }
   ],
   "source": [
    "# groupby year, sex, and age\n",
    "avg_age_trend = df.groupby(['Year', 'Sex'])['Age'].mean().unstack()\n",
    "\n",
    "# create the bar plot\n",
    "avg_age_trend.plot(kind='bar', figsize=(15, 6))\n",
    "\n",
    "#plot lables\n",
    "plt.title('Average Age of Olympians')\n",
    "plt.xlabel('Year')\n",
    "plt.ylabel('Average Age')\n",
    "plt.legend(title='Sex')\n",
    "plt.tight_layout()\n",
    "\n",
    "#show plot\n",
    "plt.savefig('avg_age_sex.jpg')\n",
    "plt.show()\n"
   ]
  },
  {
   "cell_type": "code",
   "execution_count": 30,
   "id": "b996b48c",
   "metadata": {
    "scrolled": true
   },
   "outputs": [
    {
     "name": "stdout",
     "output_type": "stream",
     "text": [
      "            ID                                     Name Sex   Age  Height  \\\n",
      "44365    22877                            Emma C. Cooke   F  55.0     NaN   \n",
      "44366    22877                            Emma C. Cooke   F  55.0     NaN   \n",
      "99506    50366           Matilda \"Lida\" Howell (Scott-)   F  44.0     NaN   \n",
      "99507    50366           Matilda \"Lida\" Howell (Scott-)   F  44.0     NaN   \n",
      "99508    50366           Matilda \"Lida\" Howell (Scott-)   F  44.0     NaN   \n",
      "190950   95906  Lida Peyton \"Eliza\" Pollock (McMillen-)   F  63.0     NaN   \n",
      "190951   95906  Lida Peyton \"Eliza\" Pollock (McMillen-)   F  63.0     NaN   \n",
      "190952   95906  Lida Peyton \"Eliza\" Pollock (McMillen-)   F  63.0     NaN   \n",
      "237131  118921        Leonora Josephine \"Leonie\" Taylor   F   NaN     NaN   \n",
      "237132  118921        Leonora Josephine \"Leonie\" Taylor   F   NaN     NaN   \n",
      "237133  118921        Leonora Josephine \"Leonie\" Taylor   F   NaN     NaN   \n",
      "237134  118922         Mabel Caroline Taylor (-Brummel)   F  24.0     NaN   \n",
      "237135  118922         Mabel Caroline Taylor (-Brummel)   F  24.0     NaN   \n",
      "262863  131533                 Emily Woodruff (Smiley-)   F  58.0     NaN   \n",
      "262864  131533                 Emily Woodruff (Smiley-)   F  58.0     NaN   \n",
      "262865  131533                 Emily Woodruff (Smiley-)   F  58.0     NaN   \n",
      "\n",
      "        Weight                Team  NOC        Games  Year  Season       City  \\\n",
      "44365      NaN       United States  USA  1904 Summer  1904  Summer  St. Louis   \n",
      "44366      NaN       United States  USA  1904 Summer  1904  Summer  St. Louis   \n",
      "99506      NaN       United States  USA  1904 Summer  1904  Summer  St. Louis   \n",
      "99507      NaN       United States  USA  1904 Summer  1904  Summer  St. Louis   \n",
      "99508      NaN  Cincinnati Archers  USA  1904 Summer  1904  Summer  St. Louis   \n",
      "190950     NaN       United States  USA  1904 Summer  1904  Summer  St. Louis   \n",
      "190951     NaN       United States  USA  1904 Summer  1904  Summer  St. Louis   \n",
      "190952     NaN  Cincinnati Archers  USA  1904 Summer  1904  Summer  St. Louis   \n",
      "237131     NaN       United States  USA  1904 Summer  1904  Summer  St. Louis   \n",
      "237132     NaN       United States  USA  1904 Summer  1904  Summer  St. Louis   \n",
      "237133     NaN  Cincinnati Archers  USA  1904 Summer  1904  Summer  St. Louis   \n",
      "237134     NaN       United States  USA  1904 Summer  1904  Summer  St. Louis   \n",
      "237135     NaN       United States  USA  1904 Summer  1904  Summer  St. Louis   \n",
      "262863     NaN       United States  USA  1904 Summer  1904  Summer  St. Louis   \n",
      "262864     NaN       United States  USA  1904 Summer  1904  Summer  St. Louis   \n",
      "262865     NaN  Cincinnati Archers  USA  1904 Summer  1904  Summer  St. Louis   \n",
      "\n",
      "          Sport                                  Event   Medal  \n",
      "44365   Archery  Archery Women's Double Columbia Round  Silver  \n",
      "44366   Archery  Archery Women's Double National Round  Silver  \n",
      "99506   Archery  Archery Women's Double Columbia Round    Gold  \n",
      "99507   Archery  Archery Women's Double National Round    Gold  \n",
      "99508   Archery             Archery Women's Team Round    Gold  \n",
      "190950  Archery  Archery Women's Double Columbia Round  Bronze  \n",
      "190951  Archery  Archery Women's Double National Round  Bronze  \n",
      "190952  Archery             Archery Women's Team Round    Gold  \n",
      "237131  Archery  Archery Women's Double Columbia Round     NaN  \n",
      "237132  Archery  Archery Women's Double National Round     NaN  \n",
      "237133  Archery             Archery Women's Team Round    Gold  \n",
      "237134  Archery  Archery Women's Double Columbia Round     NaN  \n",
      "237135  Archery  Archery Women's Double National Round     NaN  \n",
      "262863  Archery  Archery Women's Double Columbia Round     NaN  \n",
      "262864  Archery  Archery Women's Double National Round     NaN  \n",
      "262865  Archery             Archery Women's Team Round    Gold  \n"
     ]
    }
   ],
   "source": [
    "#lets see what the outlier is in 1904\n",
    "#pulling all female athletes from 1904\n",
    "female_athletes_1904 = df[(df['Year'] == 1904) & (df['Sex'] == 'F')]\n",
    "\n",
    "# View the result\n",
    "print(female_athletes_1904)"
   ]
  },
  {
   "cell_type": "markdown",
   "id": "1c906569",
   "metadata": {},
   "source": [
    "* This explains the outlier in female age avg in 1904"
   ]
  },
  {
   "cell_type": "code",
   "execution_count": 17,
   "id": "e88d3245",
   "metadata": {},
   "outputs": [
    {
     "data": {
      "image/png": "[encoded data removed]",
      "text/plain": [
       "<Figure size 1000x600 with 1 Axes>"
      ]
     },
     "metadata": {},
     "output_type": "display_data"
    },
    {
     "name": "stdout",
     "output_type": "stream",
     "text": [
      "Medal          Gold  Silver  Bronze\n",
      "Team                               \n",
      "China           308     325     268\n",
      "Russia          366     351     393\n",
      "United States  2474    1512    1233\n"
     ]
    }
   ],
   "source": [
    "#drop rows without medals or teams\n",
    "df_medals = df.dropna(subset=['Medal', 'Team'])\n",
    "\n",
    "#filter for usa russia and china\n",
    "df_filtered = df_medals[df_medals['Team'].isin(['United States', 'China', 'Russia'])]\n",
    "\n",
    "#count by team and medals\n",
    "medal_counts = df_filtered.groupby(['Team', 'Medal']).size().unstack(fill_value=0)\n",
    "\n",
    "#reorder medal count\n",
    "medal_counts = medal_counts[['Gold', 'Silver', 'Bronze']]\n",
    "\n",
    "\n",
    "#plot details\n",
    "medal_counts.plot(kind='bar', figsize=(10, 6), \n",
    "                  color=['#FFD700', '#C0C0C0', '#CD7F32'])\n",
    "plt.title('Medal Counts for USA, China, and Russia')\n",
    "plt.xlabel('Country')\n",
    "plt.ylabel('Number of Medals')\n",
    "plt.legend(title='Medal Type')\n",
    "plt.tight_layout()\n",
    "\n",
    "\n",
    "plt.savefig('medal_count_usachinarussia.png', dpi=300)\n",
    "plt.show()\n",
    "print(medal_counts)"
   ]
  },
  {
   "cell_type": "code",
   "execution_count": 25,
   "id": "b121a086",
   "metadata": {},
   "outputs": [
    {
     "name": "stdout",
     "output_type": "stream",
     "text": [
      "[\"Basketball Men's Basketball\" \"Judo Men's Extra-Lightweight\"\n",
      " \"Football Men's Football\" \"Tug-Of-War Men's Tug-Of-War\"\n",
      " \"Speed Skating Women's 500 metres\" \"Speed Skating Women's 1,000 metres\"\n",
      " \"Cross Country Skiing Men's 10 kilometres\"\n",
      " \"Cross Country Skiing Men's 50 kilometres\"\n",
      " \"Cross Country Skiing Men's 10/15 kilometres Pursuit\"\n",
      " \"Cross Country Skiing Men's 4 x 10 kilometres Relay\"\n",
      " \"Cross Country Skiing Men's 30 kilometres\" \"Athletics Women's 100 metres\"\n",
      " \"Athletics Women's 4 x 100 metres Relay\" \"Ice Hockey Men's Ice Hockey\"\n",
      " \"Swimming Men's 400 metres Freestyle\" \"Badminton Men's Singles\"\n",
      " \"Sailing Women's Windsurfer\" \"Biathlon Women's 7.5 kilometres Sprint\"\n",
      " \"Swimming Men's 200 metres Breaststroke\"\n",
      " \"Swimming Men's 400 metres Breaststroke\"\n",
      " \"Gymnastics Men's Individual All-Around\"\n",
      " \"Gymnastics Men's Team All-Around\" \"Gymnastics Men's Floor Exercise\"\n",
      " \"Gymnastics Men's Horse Vault\" \"Gymnastics Men's Parallel Bars\"\n",
      " \"Gymnastics Men's Horizontal Bar\" \"Gymnastics Men's Rings\"\n",
      " \"Gymnastics Men's Pommelled Horse\" \"Athletics Men's Shot Put\"\n",
      " 'Art Competitions Mixed Sculpturing, Unknown Event'\n",
      " \"Alpine Skiing Men's Downhill\" \"Alpine Skiing Men's Super G\"\n",
      " \"Alpine Skiing Men's Giant Slalom\" \"Alpine Skiing Men's Slalom\"\n",
      " \"Alpine Skiing Men's Combined\" \"Handball Women's Handball\"\n",
      " \"Weightlifting Women's Super-Heavyweight\"\n",
      " \"Wrestling Men's Light-Heavyweight, Greco-Roman\"\n",
      " \"Speed Skating Men's 500 metres\" \"Speed Skating Men's 1,500 metres\"\n",
      " \"Gymnastics Men's Team All-Around, Free System\" \"Luge Women's Singles\"\n",
      " \"Water Polo Men's Water Polo\" 'Sailing Mixed Three Person Keelboat'\n",
      " \"Hockey Women's Hockey\" \"Rowing Men's Lightweight Double Sculls\"\n",
      " \"Athletics Men's Pole Vault\" \"Athletics Men's High Jump\"\n",
      " \"Sailing Men's Two Person Dinghy\" \"Athletics Men's 1,500 metres\"\n",
      " \"Bobsleigh Men's Four\" \"Swimming Men's 100 metres Butterfly\"\n",
      " \"Swimming Men's 200 metres Butterfly\"\n",
      " \"Swimming Men's 4 x 100 metres Medley Relay\" \"Football Women's Football\"\n",
      " \"Fencing Men's Foil, Individual\" \"Fencing Men's epee, Individual\"\n",
      " \"Fencing Men's epee, Team\" \"Speed Skating Men's 5,000 metres\"\n",
      " \"Speed Skating Men's 10,000 metres\" 'Sailing Mixed 8 metres'\n",
      " 'Equestrianism Mixed Jumping, Individual'\n",
      " \"Cross Country Skiing Men's 15 kilometres\"\n",
      " \"Shooting Men's Small-Bore Rifle, Prone, 50 metres\"\n",
      " \"Shooting Men's Rapid-Fire Pistol, 25 metres\" \"Shooting Men's Trap\"\n",
      " \"Athletics Men's 4 x 100 metres Relay\" \"Athletics Men's Long Jump\"\n",
      " \"Boxing Men's Light-Welterweight\" \"Athletics Women's Javelin Throw\"\n",
      " \"Wrestling Men's Heavyweight, Freestyle\" \"Taekwondo Men's Flyweight\"\n",
      " \"Boxing Men's Heavyweight\" \"Athletics Men's 5,000 metres\"\n",
      " \"Cycling Men's Road Race, Individual\" \"Cycling Men's Road Race, Team\"\n",
      " \"Weightlifting Men's Lightweight\" \"Weightlifting Men's Middleweight\"\n",
      " \"Rowing Men's Coxless Pairs\" \"Judo Men's Half-Middleweight\"\n",
      " \"Taekwondo Women's Flyweight\" \"Boxing Men's Flyweight\"\n",
      " \"Basketball Women's Basketball\" \"Diving Men's Platform\"\n",
      " \"Canoeing Men's Canadian Doubles, 500 metres\"\n",
      " \"Canoeing Men's Canadian Doubles, 1,000 metres\"\n",
      " \"Canoeing Men's Kayak Fours, 1,000 metres\" \"Handball Men's Handball\"\n",
      " \"Rowing Women's Coxless Pairs\" \"Boxing Men's Middleweight\"\n",
      " \"Judo Men's Lightweight\" \"Boxing Men's Featherweight\"\n",
      " \"Tennis Men's Doubles\" 'Shooting Mixed Skeet'\n",
      " \"Wrestling Men's Featherweight, Freestyle\"\n",
      " 'Sailing Mixed Two Person Heavyweight Dinghy'\n",
      " \"Athletics Women's Shot Put\" \"Rowing Men's Coxed Eights\"\n",
      " \"Cycling Women's Sprint\" \"Cycling Women's 500 metres Time Trial\"\n",
      " \"Athletics Men's 110 metres Hurdles\" 'Shooting Mixed Trap'\n",
      " \"Athletics Women's Marathon\" \"Athletics Men's 100 metres\"\n",
      " \"Fencing Men's Foil, Team\" \"Fencing Men's Sabre, Team\"\n",
      " \"Swimming Men's 100 metres Freestyle\"\n",
      " \"Swimming Men's 4 x 200 metres Freestyle Relay\"\n",
      " \"Boxing Men's Lightweight\" \"Modern Pentathlon Men's Individual\"\n",
      " \"Boxing Men's Welterweight\" \"Rowing Men's Quadruple Sculls\"\n",
      " \"Rowing Men's Double Sculls\" \"Rowing Men's Coxed Pairs\"\n",
      " \"Athletics Men's 400 metres Hurdles\" \"Athletics Men's 400 metres\"\n",
      " \"Athletics Men's Hammer Throw\" \"Weightlifting Men's Featherweight\"\n",
      " \"Athletics Men's 800 metres\" \"Hockey Men's Hockey\"\n",
      " \"Alpine Skiing Women's Slalom\" \"Rowing Women's Single Sculls\"\n",
      " \"Swimming Men's 50 metres Freestyle\"\n",
      " \"Weightlifting Women's Featherweight\" \"Water Polo Women's Water Polo\"\n",
      " \"Figure Skating Men's Singles\" \"Weightlifting Men's Heavyweight\"\n",
      " 'Equestrianism Mixed Three-Day Event, Individual'\n",
      " 'Equestrianism Mixed Three-Day Event, Team' 'Figure Skating Mixed Team'\n",
      " \"Sailing Women's Three Person Keelboat\"\n",
      " \"Cycling Women's Road Race, Individual\" \"Golf Women's Individual\"\n",
      " \"Softball Women's Softball\" \"Archery Women's Individual\"\n",
      " \"Wrestling Men's Heavyweight, Greco-Roman\" \"Volleyball Men's Volleyball\"\n",
      " \"Taekwondo Women's Heavyweight\" \"Synchronized Swimming Women's Duet\"\n",
      " \"Synchronized Swimming Women's Team\" \"Taekwondo Women's Featherweight\"\n",
      " \"Athletics Men's Marathon\" \"Athletics Men's 4 x 400 metres Relay\"\n",
      " \"Athletics Men's 10,000 metres\" \"Athletics Women's 3,000 metres\"\n",
      " \"Diving Women's Platform\" \"Shooting Men's Air Rifle, 10 metres\"\n",
      " \"Athletics Men's 200 metres\" \"Weightlifting Men's Flyweight\"\n",
      " \"Swimming Men's 100 metres Backstroke\"\n",
      " \"Weightlifting Men's Light-Heavyweight\"\n",
      " \"Wrestling Men's Lightweight, Greco-Roman\"\n",
      " \"Fencing Men's Sabre, Individual\"\n",
      " \"Wrestling Men's Super-Heavyweight, Greco-Roman\"\n",
      " \"Shooting Men's Free Pistol, 50 metres\"\n",
      " \"Shooting Men's Air Pistol, 10 metres\" \"Rowing Men's Coxless Fours\"\n",
      " \"Boxing Men's Light-Flyweight\" \"Boxing Men's Super-Heavyweight\"\n",
      " \"Wrestling Men's Flyweight, Greco-Roman\"\n",
      " \"Shooting Women's Air Rifle, 10 metres\"\n",
      " \"Weightlifting Men's Middle-Heavyweight\" \"Athletics Men's Javelin Throw\"\n",
      " \"Volleyball Women's Volleyball\"\n",
      " \"Wrestling Men's Welterweight, Greco-Roman\"\n",
      " \"Wrestling Men's Middleweight, Greco-Roman\"\n",
      " \"Athletics Men's 3,000 metres Steeplechase\"\n",
      " \"Wrestling Men's Middleweight, Freestyle\"\n",
      " \"Swimming Women's 100 metres Backstroke\"\n",
      " \"Swimming Women's 200 metres Backstroke\"\n",
      " \"Swimming Women's 4 x 100 metres Medley Relay\"\n",
      " \"Wrestling Men's Light-Heavyweight, Freestyle\"\n",
      " \"Modern Pentathlon Men's Team\" \"Boxing Men's Bantamweight\"\n",
      " \"Athletics Women's 200 metres\" \"Table Tennis Women's Singles\"\n",
      " \"Table Tennis Women's Doubles\" \"Shooting Men's Skeet\"\n",
      " \"Swimming Women's 50 metres Freestyle\"\n",
      " \"Shooting Men's Small-Bore Rifle, Three Positions, 50 metres\"\n",
      " \"Athletics Men's Triple Jump\" \"Weightlifting Women's Lightweight\"\n",
      " \"Athletics Women's Long Jump\" \"Fencing Women's epee, Individual\"\n",
      " \"Swimming Men's 200 metres Freestyle\"\n",
      " \"Swimming Men's 4 x 100 metres Freestyle Relay\"\n",
      " \"Swimming Men's 200 metres Backstroke\"\n",
      " \"Swimming Men's 200 metres Individual Medley\"\n",
      " \"Swimming Men's 400 metres Individual Medley\" \"Badminton Women's Singles\"\n",
      " \"Boxing Men's Light-Middleweight\" \"Tennis Men's Singles\"\n",
      " \"Wrestling Men's Bantamweight, Freestyle\"\n",
      " \"Wrestling Men's Flyweight, Freestyle\" \"Athletics Women's 5,000 metres\"\n",
      " \"Weightlifting Women's Light-Heavyweight\"\n",
      " \"Weightlifting Women's Heavyweight\" \"Athletics Men's Discus Throw\"\n",
      " \"Taekwondo Men's Featherweight\" \"Taekwondo Men's Welterweight\"\n",
      " \"Judo Men's Heavyweight\" \"Cycling Men's Sprint\" \"Bobsleigh Men's Two\"\n",
      " \"Wrestling Men's Lightweight, Freestyle\" \"Nordic Combined Men's Team\"\n",
      " \"Nordic Combined Men's Individual\" \"Baseball Men's Baseball\"\n",
      " \"Rowing Men's Coxed Fours\" \"Cycling Men's 100 kilometres Team Time Trial\"\n",
      " \"Rhythmic Gymnastics Women's Group\"\n",
      " 'Art Competitions Mixed Architecture, Designs For Town Planning'\n",
      " 'Art Competitions Mixed Architecture, Architectural Designs'\n",
      " \"Gymnastics Women's Individual All-Around\"\n",
      " \"Gymnastics Women's Team All-Around\" \"Gymnastics Women's Floor Exercise\"\n",
      " \"Gymnastics Women's Horse Vault\" \"Gymnastics Women's Uneven Bars\"\n",
      " \"Gymnastics Women's Balance Beam\" \"Diving Women's Springboard\"\n",
      " \"Diving Women's Synchronized Springboard\"\n",
      " \"Athletics Women's 10,000 metres\" 'Sailing Mixed 7 metres'\n",
      " \"Judo Women's Half-Middleweight\" \"Athletics Men's Decathlon\"\n",
      " \"Biathlon Men's 10 kilometres Sprint\" \"Biathlon Men's 20 kilometres\"\n",
      " \"Biathlon Men's 4 x 7.5 kilometres Relay\" \"Freestyle Skiing Men's Moguls\"\n",
      " \"Wrestling Men's Middleweight A, Greco-Roman\"\n",
      " \"Athletics Women's Discus Throw\"\n",
      " \"Swimming Women's 4 x 100 metres Freestyle Relay\"\n",
      " \"Athletics Women's 1,500 metres\" \"Shooting Women's Air Pistol, 10 metres\"\n",
      " \"Shooting Women's Sporting Pistol, 25 metres\"\n",
      " \"Canoeing Men's Kayak Doubles, 500 metres\"\n",
      " \"Canoeing Men's Kayak Singles, 500 metres\"\n",
      " \"Canoeing Men's Kayak Singles, 1,000 metres\"\n",
      " \"Shooting Men's Running Target, 50 metres\"\n",
      " \"Judo Women's Half-Heavyweight\" \"Athletics Women's Pole Vault\"\n",
      " \"Rugby Sevens Women's Rugby Sevens\" \"Table Tennis Men's Team\"\n",
      " 'Figure Skating Mixed Pairs' \"Freestyle Skiing Men's Aerials\"\n",
      " \"Rowing Women's Coxed Eights\" \"Athletics Women's 4 x 400 metres Relay\"\n",
      " \"Alpine Skiing Women's Giant Slalom\" \"Alpine Skiing Women's Super G\"\n",
      " \"Cross Country Skiing Women's 5 kilometres\"\n",
      " \"Cross Country Skiing Women's 10 kilometres\"\n",
      " \"Cross Country Skiing Women's 20 kilometres\"\n",
      " \"Cycling Men's 1,000 metres Time Trial\"\n",
      " \"Cycling Men's Individual Pursuit, 4,000 metres\"\n",
      " \"Wrestling Men's Welterweight, Freestyle\"\n",
      " \"Wrestling Men's Bantamweight, Greco-Roman\"\n",
      " \"Rowing Women's Lightweight Double Sculls\" \"Athletics Women's 800 metres\"\n",
      " \"Rowing Women's Coxed Quadruple Sculls\"\n",
      " \"Biathlon Men's 12.5 kilometres Pursuit\"\n",
      " 'Biathlon Mixed 2 x 6 kilometres and 2 x 7.5 kilometres Relay'\n",
      " \"Rhythmic Gymnastics Women's Individual\"\n",
      " \"Canoeing Men's Kayak Singles, Slalom\" \"Archery Men's Individual\"\n",
      " \"Archery Men's Team\" \"Speed Skating Women's 1,500 metres\"\n",
      " \"Speed Skating Women's Team Pursuit (6 laps)\"\n",
      " \"Cross Country Skiing Men's Sprint\" \"Athletics Women's 400 metres\"\n",
      " \"Figure Skating Women's Singles\" \"Speed Skating Men's 1,000 metres\"\n",
      " \"Trampolining Men's Individual\" \"Beach Volleyball Men's Beach Volleyball\"\n",
      " \"Cycling Women's Mountainbike, Cross-Country\"\n",
      " \"Athletics Men's Javelin Throw, Both Hands\"\n",
      " \"Triathlon Women's Olympic Distance\"\n",
      " \"Gymnastics Women's Team Portable Apparatus\"\n",
      " \"Cycling Men's Mountainbike, Cross-Country\"\n",
      " \"Athletics Women's 400 metres Hurdles\" \"Diving Men's Springboard\"\n",
      " \"Wrestling Men's Featherweight, Greco-Roman\" \"Table Tennis Men's Singles\"\n",
      " 'Art Competitions Mixed Painting'\n",
      " \"Cross Country Skiing Women's 3 x 5 kilometres Relay\"\n",
      " \"Judo Men's Open Class\" \"Rowing Women's Quadruple Sculls\"\n",
      " \"Gymnastics Men's Team All-Around, Swedish System\"\n",
      " \"Nordic Combined Men's Sprint\" \"Athletics Women's Pentathlon\"\n",
      " 'Art Competitions Mixed Painting, Unknown Event'\n",
      " \"Cycling Men's Team Pursuit, 4,000 metres\"\n",
      " \"Weightlifting Women's Middleweight\"\n",
      " \"Swimming Men's 1,500 metres Freestyle\"\n",
      " \"Wrestling Women's Light-Heavyweight, Freestyle\"\n",
      " \"Swimming Women's 100 metres Freestyle\"\n",
      " \"Equestrianism Men's Jumping, Individual\"\n",
      " \"Equestrianism Men's Jumping, Team\"\n",
      " \"Equestrianism Men's Three-Day Event, Individual\"\n",
      " \"Equestrianism Men's Three-Day Event, Team\"\n",
      " \"Alpine Skiing Women's Combined\" \"Athletics Women's High Jump\"\n",
      " \"Ski Jumping Men's Normal Hill, Individual\"\n",
      " \"Canoeing Women's Kayak Fours, 500 metres\"\n",
      " \"Ice Hockey Women's Ice Hockey\" \"Sailing Men's One Person Dinghy\"\n",
      " \"Trampolining Women's Individual\" \"Curling Men's Curling\"\n",
      " 'Art Competitions Mixed Literature' \"Judo Men's Middleweight\"\n",
      " \"Biathlon Women's 15 kilometres\"\n",
      " \"Biathlon Women's 3 x 7.5 kilometres Relay\"\n",
      " \"Biathlon Women's 4 x 7.5 kilometres Relay\" \"Judo Men's Half-Lightweight\"\n",
      " \"Fencing Women's Foil, Team\" \"Swimming Women's 200 metres Butterfly\"\n",
      " \"Swimming Women's 400 metres Individual Medley\" \"Golf Men's Individual\"\n",
      " \"Athletics Men's Standing High Jump\" \"Athletics Men's Standing Long Jump\"\n",
      " \"Athletics Men's 20 kilometres Walk\" \"Swimming Men's 220 yard Freestyle\"\n",
      " \"Swimming Men's 880 yard Freestyle\" \"Swimming Men's One Mile Freestyle\"\n",
      " \"Swimming Men's 4 x 50 Yard Freestyle Relay\"\n",
      " \"Swimming Men's Plunge For Distance\"\n",
      " \"Shooting Men's Free Rifle, Three Positions, 300 metres\"\n",
      " \"Shooting Men's Military Rifle, Three Positions, 300 metres\"\n",
      " \"Shooting Men's Military Rifle, Any Position, 600 metres\"\n",
      " \"Shooting Men's Military Rifle, 200, 400, 500 and 600 metres, Team\"\n",
      " \"Shooting Men's Military Rifle, Prone, 300 metres\"\n",
      " \"Judo Men's Half-Heavyweight\" \"Archery Women's Team\"\n",
      " \"Athletics Men's 50 kilometres Walk\" \"Rowing Women's Double Sculls\"\n",
      " 'Sailing Mixed 6 metres' \"Boxing Men's Light-Heavyweight\"\n",
      " \"Boxing Women's Flyweight\" \"Athletics Women's 100 metres Hurdles\"\n",
      " \"Athletics Men's Discus Throw, Greek Style\" \"Curling Women's Curling\"\n",
      " 'Sailing Mixed One Person Dinghy'\n",
      " \"Wrestling Women's Heavyweight, Freestyle\" 'Badminton Mixed Doubles'\n",
      " \"Fencing Women's Foil, Individual\" 'Sailing Mixed Two Person Keelboat'\n",
      " \"Shooting Men's Military Rifle, 300 metres and 600 metres, Prone, Team\"\n",
      " \"Table Tennis Men's Doubles\" \"Wrestling Men's Light-Flyweight, Freestyle\"\n",
      " \"Wrestling Women's Featherweight, Freestyle\"\n",
      " \"Swimming Women's 200 metres Freestyle\"\n",
      " \"Swimming Women's 400 metres Freestyle\"\n",
      " \"Swimming Women's 200 metres Individual Medley\"\n",
      " \"Sailing Men's Windsurfer\" \"Freestyle Skiing Men's Slopestyle\"\n",
      " \"Shooting Men's Running Target, Single Shot\"\n",
      " \"Shooting Men's Running Target, Double Shot\"\n",
      " \"Rugby Sevens Men's Rugby Sevens\"\n",
      " \"Wrestling Women's Lightweight, Freestyle\"\n",
      " \"Modern Pentathlon Women's Individual\"\n",
      " \"Canoeing Men's Canadian Doubles, Slalom\" \"Judo Women's Half-Lightweight\"\n",
      " \"Diving Women's Plain High\" \"Equestrianism Men's Dressage, Individual\"\n",
      " \"Equestrianism Men's Dressage, Team\"\n",
      " \"Tennis Women's Singles, Covered Courts\" \"Diving Men's Plain High\"\n",
      " 'Shooting Mixed Small-Bore Rifle, Three Positions, 50 metres'\n",
      " 'Shooting Mixed Small-Bore Rifle, Prone, 50 metres'\n",
      " \"Swimming Women's 800 metres Freestyle\"\n",
      " \"Sailing Women's Two Person Dinghy\" \"Alpine Skiing Women's Downhill\"\n",
      " \"Shooting Men's Free Pistol, 50 metres, Team\"\n",
      " \"Shooting Men's Free Rifle, Three Positions, 300 metres, Team\"\n",
      " \"Shooting Men's Military Rifle, Prone, 300 metres, Team\"\n",
      " \"Shooting Men's Military Rifle, Prone, 600 metres, Team\"\n",
      " \"Shooting Men's Military Rifle, Standing, 300 metres, Team\"\n",
      " \"Shooting Men's Free Rifle, Prone, 600 metres\"\n",
      " \"Shooting Men's Free Rifle, 400, 600 and 800 metres, Team\"\n",
      " \"Rowing Men's Single Sculls\" \"Cycling Men's Tandem Sprint, 2,000 metres\"\n",
      " \"Freestyle Skiing Women's Halfpipe\" \"Athletics Women's Heptathlon\"\n",
      " \"Cycling Men's Points Race\" \"Synchronized Swimming Women's Solo\"\n",
      " 'Equestrianism Mixed Dressage, Individual'\n",
      " 'Equestrianism Mixed Dressage, Team'\n",
      " \"Cross Country Skiing Men's 18 kilometres\"\n",
      " \"Swimming Men's 100 metres Breaststroke\"\n",
      " 'Figure Skating Mixed Ice Dancing'\n",
      " 'Shooting Mixed Free Pistol, 50 metres' \"Sailing Women's Skiff\"\n",
      " \"Canoeing Men's Kayak Doubles, 10,000 metres\"\n",
      " \"Triathlon Men's Olympic Distance\" \"Sailing Women's One Person Dinghy\"\n",
      " \"Cross Country Skiing Women's 30 kilometres\"\n",
      " \"Cross Country Skiing Women's 15 km Skiathlon\"\n",
      " \"Rowing Men's 17-Man Naval Rowing Boats\"\n",
      " \"Beach Volleyball Women's Beach Volleyball\"\n",
      " \"Weightlifting Men's Super-Heavyweight\"\n",
      " \"Rowing Men's Lightweight Coxless Fours\"\n",
      " \"Wrestling Men's Light-Flyweight, Greco-Roman\"\n",
      " \"Canoeing Men's Canadian Singles, 1,000 metres\"\n",
      " 'Sailing Mixed 5.5 metres' 'Equestrianism Mixed Jumping, Team'\n",
      " \"Diving Men's Synchronized Platform\" \"Snowboarding Men's Halfpipe\"\n",
      " \"Canoeing Women's Kayak Singles, Slalom\"\n",
      " \"Weightlifting Women's Flyweight\"\n",
      " \"Swimming Women's 100 metres Breaststroke\"\n",
      " \"Swimming Women's 200 metres Breaststroke\"\n",
      " \"Wrestling Men's Middleweight B, Greco-Roman\"\n",
      " \"Athletics Men's Stone Throw\" \"Athletics Men's Javelin Throw, Freestyle\"\n",
      " \"Athletics Men's Pentathlon (Ancient)\"\n",
      " \"Shooting Women's Small-Bore Rifle, Three Positions, 50 metres\"\n",
      " \"Swimming Women's 100 metres Butterfly\"\n",
      " \"Weightlifting Men's Heavyweight I\"\n",
      " \"Athletics Women's 3,000 metres Steeplechase\"\n",
      " \"Athletics Men's Shot Put, Both Hands\"\n",
      " \"Ski Jumping Men's Large Hill, Individual\"\n",
      " \"Ski Jumping Men's Large Hill, Team\" \"Shooting Women's Trap\"\n",
      " \"Badminton Men's Doubles\"\n",
      " \"Swimming Women's 4 x 200 metres Freestyle Relay\"\n",
      " \"Athletics Men's 10 kilometres Walk\"\n",
      " \"Athletics Women's 20 kilometres Walk\"\n",
      " \"Athletics Women's 80 metres Hurdles\"\n",
      " \"Sailing Men's One Person Heavyweight Dinghy\"\n",
      " \"Freestyle Skiing Women's Aerials\"\n",
      " 'Art Competitions Mixed Painting, Paintings'\n",
      " 'Tennis Mixed Doubles, Covered Courts' \"Cycling Men's Madison\"\n",
      " 'Art Competitions Mixed Sculpturing, Statues' \"Rugby Men's Rugby\"\n",
      " \"Weightlifting Men's Heavyweight II\"\n",
      " \"Canoeing Women's Kayak Doubles, 500 metres\"\n",
      " \"Short Track Speed Skating Men's 5,000 metres Relay\"\n",
      " \"Cycling Men's Individual Time Trial\" \"Judo Women's Heavyweight\"\n",
      " \"Canoeing Men's Kayak Doubles, 1,000 metres\"\n",
      " \"Gymnastics Men's Individual All-Around, 5 Events\"\n",
      " \"Wrestling Men's Super-Heavyweight, Freestyle\"\n",
      " \"Biathlon Women's 10 kilometres Pursuit\"\n",
      " \"Biathlon Women's 12.5 kilometres Mass Start\"\n",
      " \"Biathlon Women's 4 x 6 kilometres Relay\" \"Fencing Women's Sabre, Team\"\n",
      " \"Shooting Men's Double Trap\" \"Weightlifting Men's Bantamweight\"\n",
      " \"Taekwondo Men's Heavyweight\" 'Sailing Mixed Windsurfer'\n",
      " \"Taekwondo Women's Welterweight\"\n",
      " 'Shooting Mixed Free Rifle, Three Positions, 300 metres'\n",
      " \"Skeleton Men's Skeleton\" \"Cycling Men's 50 kilometres\"\n",
      " 'Shooting Mixed Rapid-Fire Pistol, 25 metres'\n",
      " \"Cycling Men's 333 metres Time Trial\" \"Cycling Men's 20 kilometres\"\n",
      " \"Canoeing Men's Kayak Singles, 10,000 metres\" 'Sailing Mixed Open'\n",
      " 'Sailing Mixed 1-2 Ton' \"Canoeing Men's Canadian Singles, Slalom\"\n",
      " \"Luge Men's Singles\" \"Luge Mixed (Men)'s Doubles\"\n",
      " 'Sailing Mixed Multihull' \"Badminton Women's Doubles\"\n",
      " \"Speed Skating Women's 3,000 metres\"\n",
      " \"Cross Country Skiing Women's 5/10 kilometres Pursuit\"\n",
      " \"Cross Country Skiing Women's 4 x 5 kilometres Relay\"\n",
      " \"Cross Country Skiing Women's 15 kilometres\"\n",
      " \"Cross Country Skiing Women's 5/5 kilometres Pursuit\"\n",
      " \"Diving Women's Synchronized Platform\" \"Athletics Women's Triple Jump\"\n",
      " \"Skeleton Women's Skeleton\" \"Bobsleigh Men's Four/Five\"\n",
      " 'Art Competitions Mixed Painting, Drawings And Water Colors'\n",
      " \"Shooting Men's Dueling Pistol, 30 metres\" \"Boxing Women's Lightweight\"\n",
      " \"Cycling Women's BMX\" \"Canoeing Men's Kayak Doubles, 200 metres\"\n",
      " \"Fencing Men's Sabre, Masters, Individual\" \"Lacrosse Men's Lacrosse\"\n",
      " \"Canoeing Women's Kayak Singles, 500 metres\"\n",
      " \"Athletics Women's 10 kilometres Walk\" 'Sailing Mixed 12 metres'\n",
      " \"Judo Women's Extra-Lightweight\" \"Diving Men's Synchronized Springboard\"\n",
      " \"Rowing Men's Coxed Fours, Outriggers\" \"Gymnastics Men's Rope Climbing\"\n",
      " 'Sailing Mixed Two Person Dinghy'\n",
      " 'Art Competitions Mixed Architecture, Unknown Event'\n",
      " \"Archery Men's Target Archery, 28 metres, Team\"\n",
      " \"Archery Men's Target Archery, 33 metres, Team\"\n",
      " \"Archery Men's Target Archery, 50 metres, Team\"\n",
      " \"Short Track Speed Skating Women's 3,000 metres Relay\"\n",
      " \"Freestyle Skiing Women's Moguls\"\n",
      " \"Short Track Speed Skating Men's 500 metres\"\n",
      " \"Shooting Men's Running Target, 10 metres\" \"Polo Men's Polo\"\n",
      " \"Rowing Men's Coxed Fours, Inriggers\" \"Cycling Men's BMX\"\n",
      " 'Art Competitions Mixed Sculpturing'\n",
      " \"Athletics Men's Cross-Country, Individual\"\n",
      " \"Athletics Men's Cross-Country, Team\" 'Sailing Mixed 40 metres'\n",
      " \"Cross Country Skiing Men's 10/10 kilometres Pursuit\"\n",
      " \"Ski Jumping Women's Normal Hill, Individual\"\n",
      " \"Short Track Speed Skating Men's 1,000 metres\"\n",
      " \"Short Track Speed Skating Men's 1,500 metres\"\n",
      " \"Gymnastics Men's Club Swinging\" \"Tennis Women's Singles\"\n",
      " 'Tennis Mixed Doubles' \"Tennis Women's Doubles\"\n",
      " \"Judo Women's Middleweight\" \"Judo Women's Lightweight\"\n",
      " \"Cross Country Skiing Men's Team Sprint\" \"Snowboarding Women's Halfpipe\"\n",
      " \"Canoeing Women's Kayak Singles, 200 metres\"\n",
      " \"Canoeing Men's Kayak Relay 4 x 500 metres\"\n",
      " \"Athletics Men's 3,000 metres, Team\"\n",
      " \"Cross Country Skiing Women's Sprint\"\n",
      " \"Shooting Men's Small-Bore Rifle, Prone, 50 and 100 yards\"\n",
      " \"Shooting Men's Small-Bore Rifle, 50 and 100 yards, Team\"\n",
      " \"Shooting Men's Small-Bore Rifle, Disappearing Target, 25 yards\"\n",
      " \"Shooting Men's Small-Bore Rifle, Moving Target, 25 yards\"\n",
      " \"Shooting Men's Military Pistol, Team\" \"Rowing Women's Coxed Fours\"\n",
      " \"Weightlifting Men's Unlimited, One Hand\"\n",
      " \"Canoeing Men's Canadian Singles, 500 metres\"\n",
      " \"Fencing Men's Foil, Masters, Individual\"\n",
      " \"Fencing Men's epee, Masters, Individual\"\n",
      " \"Gymnastics Men's Individual All-Around, Field Sports\"\n",
      " \"Gymnastics Men's Individual All-Around, Apparatus Work\"\n",
      " 'Art Competitions Mixed Music, Compositions For Solo Or Chorus'\n",
      " \"Fencing Women's epee, Team\" \"Swimming Men's 4,000 metres Freestyle\"\n",
      " \"Swimming Men's Underwater Swimming\" 'Sailing Mixed Skiff'\n",
      " \"Shooting Men's Military Rifle, 200/500/600/800/900/1,000 Yards, Team\"\n",
      " \"Shooting Men's Running Target, Single And Double Shot\"\n",
      " \"Shooting Men's Small-Bore Rifle, Any Position, 50 metres\"\n",
      " \"Shooting Men's Small-Bore Rifle, Disappearing Target, 25 metres\"\n",
      " \"Swimming Women's 10 kilometres Open Water\"\n",
      " \"Snowboarding Women's Slopestyle\" \"Snowboarding Men's Giant Slalom\"\n",
      " \"Snowboarding Men's Parallel Giant Slalom\"\n",
      " \"Snowboarding Men's Boardercross\" \"Snowboarding Men's Parallel Slalom\"\n",
      " \"Cycling Men's Team Pursuit, 1,980 yards\" \"Cycling Men's 5,000 metres\"\n",
      " \"Cycling Men's 100 kilometres\" \"Cricket Men's Cricket\"\n",
      " \"Canoeing Men's Canadian Singles, 10,000 metres\"\n",
      " \"Cross Country Skiing Women's Team Sprint\" \"Boxing Women's Middleweight\"\n",
      " \"Sailing Men's Skiff\" \"Athletics Men's Pentathlon\"\n",
      " \"Swimming Men's 1,200 metres Freestyle\" \"Shooting Women's Skeet\"\n",
      " \"Biathlon Men's 15 kilometres Mass Start\"\n",
      " \"Cross Country Skiing Men's 30 km Skiathlon\" \"Cycling Men's 1/4 mile\"\n",
      " \"Cycling Men's 1/2 mile\" \"Cycling Men's 5 mile\" \"Cycling Men's 25 mile\"\n",
      " \"Shooting Men's Small-Bore Rifle, Standing, 50 metres\"\n",
      " \"Shooting Men's Small Bore-Rifle, Standing, 50 metres, Team\"\n",
      " \"Speed Skating Men's Team Pursuit (8 laps)\"\n",
      " \"Shooting Men's Free Rifle, 1,000 Yards\" \"Cycling Women's Team Pursuit\"\n",
      " \"Speed Skating Women's 5,000 metres\" \"Athletics Men's 3,000 metres Walk\"\n",
      " \"Snowboarding Women's Boardercross\"\n",
      " 'Shooting Mixed Running Target, 50 metres' 'Luge Mixed Team Relay'\n",
      " \"Cycling Women's Individual Time Trial\"\n",
      " \"Fencing Women's Sabre, Individual\"\n",
      " \"Fencing Men's Sabre, Individual, Three Hits\"\n",
      " \"Archery Women's Double National Round\" \"Cycling Men's Omnium\"\n",
      " 'Equestrianism Mixed Hacks And Hunter Combined' 'Sailing Mixed 10 metres'\n",
      " \"Shooting Men's Trap, Team\"\n",
      " \"Cycling Women's Individual Pursuit, 3,000 metres\"\n",
      " \"Cycling Women's Points Race\" \"Sailing Men's Two Person Keelboat\"\n",
      " \"Cycling Men's Keirin\" \"Cycling Men's Team Sprint\"\n",
      " \"Athletics Men's 5 mile\"\n",
      " \"Shooting Men's Running Target, Single Shot, Team\"\n",
      " \"Bobsleigh Women's Two\" \"Racquets Men's Singles\" \"Racquets Men's Doubles\"\n",
      " 'Art Competitions Mixed Literature, Lyric Works'\n",
      " 'Motorboating Mixed A-Class (Open)' \"Archery Men's Continental Style\"\n",
      " \"Military Ski Patrol Men's Military Ski Patrol\"\n",
      " 'Art Competitions Mixed Painting, Graphic Arts'\n",
      " \"Wrestling Women's Flyweight, Freestyle\"\n",
      " 'Art Competitions Mixed Literature, Unknown Event'\n",
      " 'Sailing Mixed 0.5-1 Ton' 'Art Competitions Mixed Painting, Applied Arts'\n",
      " 'Croquet Mixed Singles, One Ball' 'Croquet Mixed Doubles'\n",
      " \"Shooting Men's Running Target, Double Shot, Team\"\n",
      " \"Shooting Men's Free Pistol, 50 yards\"\n",
      " \"Shooting Men's Free Pistol, 50 yards, Team\"\n",
      " \"Fencing Men's epee, Masters and Amateurs, Individual\"\n",
      " \"Swimming Men's 10 kilometres Open Water\"\n",
      " 'Art Competitions Mixed Music, Compositions For Orchestra'\n",
      " \"Archery Men's Double York Round\"\n",
      " \"Wrestling Women's Middleweight, Freestyle\"\n",
      " \"Equestrianism Men's Vaulting, Individual\"\n",
      " \"Swimming Men's 4 x 250 metres Freestyle Relay\"\n",
      " \"Freestyle Skiing Women's Slopestyle\" \"Table Tennis Women's Team\"\n",
      " \"Athletics Women's Hammer Throw\"\n",
      " \"Canoeing Men's Kayak Singles, 200 metres\"\n",
      " \"Short Track Speed Skating Women's 500 metres\"\n",
      " \"Shooting Women's Double Trap\" \"Rowing Men's 6-Man Naval Rowing Boats\"\n",
      " 'Art Competitions Mixed Music'\n",
      " \"Shooting Men's Free Rifle, Kneeling, 300 metres\"\n",
      " \"Shooting Men's Free Rifle, Prone, 300 metres\"\n",
      " \"Shooting Men's Free Rifle, Standing, 300 metres\"\n",
      " \"Short Track Speed Skating Women's 1,000 metres\"\n",
      " \"Athletics Men's 3,200 metres Steeplechase\"\n",
      " \"Rowing Women's Coxless Fours\" \"Freestyle Skiing Women's Ski Cross\"\n",
      " \"Freestyle Skiing Men's Ski Cross\" \"Tennis Men's Doubles, Covered Courts\"\n",
      " \"Tennis Men's Singles, Covered Courts\" \"Cycling Men's 25 kilometres\"\n",
      " \"Nordic Combined Men's Normal Hill / 10 km, Individual\"\n",
      " \"Nordic Combined Men's Large Hill / 10 km, Individual\"\n",
      " \"Shooting Men's Military Rifle, 200 metres\"\n",
      " \"Short Track Speed Skating Women's 1,500 metres\"\n",
      " \"Athletics Men's Standing Triple Jump\"\n",
      " \"Rowing Men's Coxed Pairs (1 kilometres)\"\n",
      " \"Shooting Men's Military Pistol, 30 metres\" \"Cycling Women's Keirin\"\n",
      " \"Archery Men's Au Cordon Dore, 50 metres\"\n",
      " \"Swimming Women's 300 metres Freestyle\"\n",
      " \"Snowboarding Women's Giant Slalom\"\n",
      " \"Canoeing Men's Canadian Singles, 200 metres\" 'Sailing Mixed 30 metres'\n",
      " \"Athletics Men's 4,000 metres Steeplechase\"\n",
      " \"Athletics Men's 5,000 metres, Team\" \"Snowboarding Men's Slopestyle\"\n",
      " \"Rowing Men's Coxed Pairs (1 mile)\"\n",
      " 'Art Competitions Mixed Unknown Event' \"Cycling Women's Omnium\"\n",
      " \"Freestyle Skiing Men's Halfpipe\"\n",
      " \"Swimming Men's 200 metres Obstacle Course\"\n",
      " \"Swimming Men's 200 metres Team Swimming\" 'Sailing Mixed 12 foot'\n",
      " 'Art Competitions Mixed Music, Instrumental And Chamber'\n",
      " 'Art Competitions Mixed Music, Vocals'\n",
      " 'Art Competitions Mixed Literature, Dramatic Works'\n",
      " \"Jeu De Paume Men's Singles\" 'Sailing Mixed 10-20 Ton'\n",
      " \"Cycling Men's 1/3 mile\" \"Cycling Men's 1 mile\" \"Cycling Men's 2 mile\"\n",
      " 'Art Competitions Mixed Sculpturing, Medals And Plaques'\n",
      " \"Athletics Men's 1,600 metres Medley Relay\"\n",
      " 'Croquet Mixed Singles, Two Balls'\n",
      " \"Canoeing Men's Folding Kayak Doubles, 10 kilometres\"\n",
      " \"Athletics Men's 60 metres\" \"Snowboarding Women's Parallel Giant Slalom\"\n",
      " 'Sailing Mixed 2-3 Ton' \"Speed Skating Men's Allround\"\n",
      " \"Shooting Men's Military Rifle, Prone, 600 metres\"\n",
      " \"Canoeing Men's Canadian Doubles, 10,000 metres\"\n",
      " \"Snowboarding Women's Parallel Slalom\"\n",
      " \"Shooting Men's Dueling Pistol, 30 metres, Team\"\n",
      " \"Gymnastics Men's Parallel Bars, Teams\"\n",
      " \"Gymnastics Men's Horizontal Bar, Teams\"\n",
      " \"Shooting Men's Small-Bore Rifle, Disappearing Target, 25 metres, Team\"\n",
      " 'Art Competitions Mixed Sculpturing, Medals And Reliefs'\n",
      " \"Athletics Men's 1,500 metres Walk\" \"Athletics Men's 3 mile, Team\"\n",
      " 'Art Competitions Mixed Sculpturing, Medals'\n",
      " \"Shooting Men's Military Rifle, Kneeling Or Standing, 300 metres\"\n",
      " \"Equestrianism Men's Vaulting, Team\"\n",
      " \"Shooting Men's Free Rifle, Any Position, 300 metres\"\n",
      " \"Shooting Men's Military Rifle, 1873-1874 Gras Model, Kneeling Or Standing, 200 metres\"\n",
      " \"Swimming Men's 100 Yard Backstroke\"\n",
      " \"Swimming Men's 440 Yard Breaststroke\"\n",
      " 'Art Competitions Mixed Literature, Epic Works'\n",
      " 'Art Competitions Mixed Architecture' \"Athletics Men's 3,500 metres Walk\"\n",
      " \"Roque Men's Singles\" \"Gymnastics Men's Side Horse\"\n",
      " 'Alpinism Mixed Alpinism' \"Archery Men's Double American Round\"\n",
      " \"Archery Men's Team Round\"\n",
      " \"Archery Men's Target Archery, 33 metres, Individual\"\n",
      " \"Archery Men's Target Archery, 50 metres, Individual\"\n",
      " \"Swimming Men's 1,000 metres Freestyle\" \"Athletics Men's 10 mile Walk\"\n",
      " \"Athletics Men's Discus Throw, Both Hands\" \"Golf Men's Team\"\n",
      " 'Sailing Mixed 0-0.5 Ton' 'Sailing Mixed 20+ Ton'\n",
      " \"Cycling Women's Team Sprint\" \"Weightlifting Men's Unlimited, Two Hands\"\n",
      " \"Shooting Men's Free Pistol, 25 metres\"\n",
      " \"Shooting Men's Military Revolver, 1873-1874 Gras Model, 20 metres\"\n",
      " \"Shooting Men's Military Revolver, 20 metres\"\n",
      " \"Shooting Men's Dueling Pistol Au Vise 20 metres\"\n",
      " \"Shooting Men's Dueling Pistol Au Commandement, 25 metres\"\n",
      " \"Shooting Men's Small-Bore Rifle, Prone, 50 metres, Team\"\n",
      " 'Sailing Mixed 6.5 metres' \"Athletics Men's 200 metres Hurdles\"\n",
      " \"Athletics Men's 56-pound Weight Throw\"\n",
      " 'Equestrianism Mixed Four-In-Hand Competition'\n",
      " \"Athletics Men's 2,500 metres Steeplechase\"\n",
      " 'Art Competitions Mixed Music, Unknown Event'\n",
      " \"Athletics Men's All-Around Championship\"\n",
      " \"Archery Men's Pole Archery, Small Birds, Individual\"\n",
      " \"Archery Men's Pole Archery, Large Birds, Individual\"\n",
      " \"Archery Men's Pole Archery, Small Birds, Team\"\n",
      " \"Archery Men's Pole Archery, Large Birds, Team\"\n",
      " \"Athletics Men's 2,590 metres Steeplechase\"\n",
      " \"Archery Women's Double Columbia Round\" \"Athletics Men's 4 mile, Team\"\n",
      " \"Figure Skating Men's Special Figures\"\n",
      " \"Shooting Men's Military Rifle, Standing, 300 metres\"\n",
      " \"Swimming Men's 50 yard Freestyle\" \"Swimming Men's 100 yard Freestyle\"\n",
      " \"Swimming Men's 440 yard Freestyle\"\n",
      " \"Basque Pelota Men's Two-Man Teams With Cesta\"\n",
      " \"Shooting Men's Trap, Single Shot, 16 metres\"\n",
      " \"Shooting Men's Trap, Double Shot, 14 metres\"\n",
      " 'Equestrianism Mixed Long Jump'\n",
      " \"Canoeing Men's Folding Kayak Singles, 10 kilometres\"\n",
      " \"Shooting Men's Free Pistol, 30 metres\"\n",
      " \"Shooting Men's Military Pistol, 25 metres\"\n",
      " \"Swimming Men's 100 metres Freestyle For Sailors\"\n",
      " \"Archery Men's Sur La Perche a La Herse\" 'Sailing Mixed 3-10 Ton'\n",
      " \"Gymnastics Men's Individual All-Around, 4 Events\"\n",
      " \"Wrestling Men's Unlimited Class, Greco-Roman\"\n",
      " 'Motorboating Mixed B-Class (Under 60 Feet)' 'Motorboating Mixed C-Class'\n",
      " \"Cycling Men's 10,000 metres\"\n",
      " 'Art Competitions Mixed Sculpturing, Reliefs'\n",
      " \"Shooting Men's Muzzle-Loading Pistol, 25 metres\"\n",
      " 'Equestrianism Mixed High Jump'\n",
      " \"Archery Men's Sur La Perche a La Pyramide\"\n",
      " \"Fencing Men's Single Sticks, Individual\" \"Gymnastics Men's Tumbling\"\n",
      " \"Shooting Men's Unknown Event\" 'Sailing Mixed 18 foot'\n",
      " \"Archery Men's Unknown Event\" \"Archery Men's Au Chapelet, 50 metres\"\n",
      " \"Archery Men's Championnat Du Monde\" \"Archery Women's Team Round\"\n",
      " \"Wrestling Men's All-Around, Greco-Roman\" \"Cycling Men's 12-Hours Race\"\n",
      " \"Swimming Men's 500 metres Freestyle\"\n",
      " \"Weightlifting Men's All-Around Dumbbell Contest\"\n",
      " \"Archery Men's Au Chapelet, 33 metres\"\n",
      " \"Archery Men's Au Cordon Dore, 33 metres\"\n",
      " \"Archery Men's Target Archery, 28 metres, Individual\"\n",
      " 'Aeronautics Mixed Aeronautics']\n"
     ]
    }
   ],
   "source": [
    "#display all olympic events\n",
    "print(df['Event'].unique())"
   ]
  },
  {
   "cell_type": "code",
   "execution_count": 26,
   "id": "61adc55e",
   "metadata": {},
   "outputs": [
    {
     "data": {
      "application/vnd.plotly.v1+json": {
       "config": {
        "plotlyServerURL": "https://plot.ly"
       },
       "data": [
        {
         "customdata": [
          [
           "Jo Qesem Ayela Aleh",
           "New Zealand",
           "F",
           "Gold",
           "Sailing Women's Two Person Dinghy"
          ],
          [
           "Jennifer Margaret \"Jenny\" Armstrong",
           "Australia",
           "F",
           "Gold",
           "Sailing Women's Two Person Dinghy"
          ],
          [
           "Sofia Bekatorou (-Kosmatopoulos)",
           "Greece",
           "F",
           "Gold",
           "Sailing Women's Two Person Dinghy"
          ],
          [
           "Saskia Clark",
           "Great Britain",
           "F",
           "Gold",
           "Sailing Women's Two Person Dinghy"
          ],
          [
           "Patricia Guerra Cabrera",
           "Spain",
           "F",
           "Gold",
           "Sailing Women's Two Person Dinghy"
          ],
          [
           "Lynne M. Jewell (-Shore-)",
           "United States",
           "F",
           "Gold",
           "Sailing Women's Two Person Dinghy"
          ],
          [
           "Allison Blair Jolly (-Elliot)",
           "United States",
           "F",
           "Gold",
           "Sailing Women's Two Person Dinghy"
          ],
          [
           "Hannah Louise Mills",
           "Great Britain",
           "F",
           "Gold",
           "Sailing Women's Two Person Dinghy"
          ],
          [
           "Tessa Parkinson",
           "Australia",
           "F",
           "Gold",
           "Sailing Women's Two Person Dinghy"
          ],
          [
           "Olivia Elizabeth \"Polly\" Powrie",
           "New Zealand",
           "F",
           "Gold",
           "Sailing Women's Two Person Dinghy"
          ],
          [
           "Elise Maree Rechichi",
           "Australia",
           "F",
           "Gold",
           "Sailing Women's Two Person Dinghy"
          ],
          [
           "Belinda Josephine Marion Stowell",
           "Australia",
           "F",
           "Gold",
           "Sailing Women's Two Person Dinghy"
          ],
          [
           "Aimilia Tsoulfa",
           "Greece",
           "F",
           "Gold",
           "Sailing Women's Two Person Dinghy"
          ],
          [
           "Begoa Va Dufresne Perea",
           "Spain",
           "F",
           "Gold",
           "Sailing Women's Two Person Dinghy"
          ],
          [
           "Theresa Zabell Lucas",
           "Spain",
           "F",
           "Gold",
           "Sailing Women's Two Person Dinghy"
          ],
          [
           "Theresa Zabell Lucas",
           "Spain",
           "F",
           "Gold",
           "Sailing Women's Two Person Dinghy"
          ]
         ],
         "hovertemplate": "Medal=%{customdata[3]}<br>Olympic Year=%{x}<br>Olympian Age=%{y}<br>Name=%{customdata[0]}<br>Team=%{customdata[1]}<br>Sex=%{customdata[2]}<br>Event=%{customdata[4]}<extra></extra>",
         "legendgroup": "Gold",
         "marker": {
          "color": "#FFD700",
          "symbol": "circle"
         },
         "mode": "markers",
         "name": "Gold",
         "orientation": "v",
         "showlegend": true,
         "type": "scatter",
         "x": [
          2012,
          2000,
          2004,
          2016,
          1992,
          1988,
          1988,
          2016,
          2008,
          2012,
          2008,
          2000,
          2004,
          1996,
          1992,
          1996
         ],
         "xaxis": "x",
         "y": [
          26,
          30,
          26,
          36,
          27,
          28,
          32,
          28,
          21,
          24,
          22,
          29,
          31,
          25,
          27,
          31
         ],
         "yaxis": "y"
        },
        {
         "customdata": [
          [
           "Jo Qesem Ayela Aleh",
           "New Zealand",
           "F",
           "Silver",
           "Sailing Women's Two Person Dinghy"
          ],
          [
           "Sandra Azn Canalda",
           "Spain",
           "F",
           "Silver",
           "Sailing Women's Two Person Dinghy"
          ],
          [
           "Birgitta Kristina Bengtsson",
           "Sweden",
           "F",
           "Silver",
           "Sailing Women's Two Person Dinghy"
          ],
          [
           "Lobke Berkhout",
           "Netherlands",
           "F",
           "Silver",
           "Sailing Women's Two Person Dinghy"
          ],
          [
           "Marcelien Bos-de Koning",
           "Netherlands",
           "F",
           "Silver",
           "Sailing Women's Two Person Dinghy"
          ],
          [
           "Saskia Clark",
           "Great Britain",
           "F",
           "Silver",
           "Sailing Women's Two Person Dinghy"
          ],
          [
           "Leslie Jean Egnot",
           "New Zealand",
           "F",
           "Silver",
           "Sailing Women's Two Person Dinghy"
          ],
          [
           "Sarah \"Pease\" Glaser (Herndon-)",
           "United States",
           "F",
           "Silver",
           "Sailing Women's Two Person Dinghy"
          ],
          [
           "Jennifer J. Fetter \"JJ\" Isler",
           "United States",
           "F",
           "Silver",
           "Sailing Women's Two Person Dinghy"
          ],
          [
           "Yurie Alicia Kinoshita",
           "Japan",
           "F",
           "Silver",
           "Sailing Women's Two Person Dinghy"
          ],
          [
           "Hannah Louise Mills",
           "Great Britain",
           "F",
           "Silver",
           "Sailing Women's Two Person Dinghy"
          ],
          [
           "Olivia Elizabeth \"Polly\" Powrie",
           "New Zealand",
           "F",
           "Silver",
           "Sailing Women's Two Person Dinghy"
          ],
          [
           "Janet Lee \"Jan\" Shearer (-Jones)",
           "New Zealand",
           "F",
           "Silver",
           "Sailing Women's Two Person Dinghy"
          ],
          [
           "Yumiko Shige",
           "Japan",
           "F",
           "Silver",
           "Sailing Women's Two Person Dinghy"
          ],
          [
           "Marit Kjellsdotter Sderstrm (-Nord)",
           "Sweden",
           "F",
           "Silver",
           "Sailing Women's Two Person Dinghy"
          ],
          [
           "Natalia Va Dufresne Perea",
           "Spain",
           "F",
           "Silver",
           "Sailing Women's Two Person Dinghy"
          ]
         ],
         "hovertemplate": "Medal=%{customdata[3]}<br>Olympic Year=%{x}<br>Olympian Age=%{y}<br>Name=%{customdata[0]}<br>Team=%{customdata[1]}<br>Sex=%{customdata[2]}<br>Event=%{customdata[4]}<extra></extra>",
         "legendgroup": "Silver",
         "marker": {
          "color": "#C0C0C0",
          "symbol": "circle"
         },
         "mode": "markers",
         "name": "Silver",
         "orientation": "v",
         "showlegend": true,
         "type": "scatter",
         "x": [
          2016,
          2004,
          1988,
          2008,
          2008,
          2012,
          1992,
          2000,
          2000,
          1996,
          2012,
          2016,
          1992,
          1996,
          1988,
          2004
         ],
         "xaxis": "x",
         "y": [
          30,
          30,
          23,
          27,
          30,
          32,
          29,
          38,
          36,
          29,
          24,
          28,
          34,
          30,
          25,
          31
         ],
         "yaxis": "y"
        },
        {
         "customdata": [
          [
           "Lobke Berkhout",
           "Netherlands",
           "F",
           "Bronze",
           "Sailing Women's Two Person Dinghy"
          ],
          [
           "Iryna Volodymyrivna Chunykhovska",
           "Soviet Union",
           "F",
           "Bronze",
           "Sailing Women's Two Person Dinghy"
          ],
          [
           "Hlne Defrance",
           "France",
           "F",
           "Bronze",
           "Sailing Women's Two Person Dinghy"
          ],
          [
           "Pamela Katherine Healy",
           "United States",
           "F",
           "Bronze",
           "Sailing Women's Two Person Dinghy"
          ],
          [
           "Jennifer J. Fetter \"JJ\" Isler",
           "United States",
           "F",
           "Bronze",
           "Sailing Women's Two Person Dinghy"
          ],
          [
           "Camille Lecointre",
           "France",
           "F",
           "Bronze",
           "Sailing Women's Two Person Dinghy"
          ],
          [
           "Larysa Vitalivna Moskalenko",
           "Soviet Union",
           "F",
           "Bronze",
           "Sailing Women's Two Person Dinghy"
          ],
          [
           "Fernanda Ryff Moreira Oliveira",
           "Brazil",
           "F",
           "Bronze",
           "Sailing Women's Two Person Dinghy"
          ],
          [
           "Olena Ivanivna Pakholchyk",
           "Ukraine",
           "F",
           "Bronze",
           "Sailing Women's Two Person Dinghy"
          ],
          [
           "Olena Ivanivna Pakholchyk",
           "Ukraine",
           "F",
           "Bronze",
           "Sailing Women's Two Person Dinghy"
          ],
          [
           "Isabel Marques Swan",
           "Brazil",
           "F",
           "Bronze",
           "Sailing Women's Two Person Dinghy"
          ],
          [
           "Ruslana Oleksivna Taran",
           "Ukraine",
           "F",
           "Bronze",
           "Sailing Women's Two Person Dinghy"
          ],
          [
           "Ruslana Oleksivna Taran",
           "Ukraine",
           "F",
           "Bronze",
           "Sailing Women's Two Person Dinghy"
          ],
          [
           "Therese Elisabeth Torgersson",
           "Sweden",
           "F",
           "Bronze",
           "Sailing Women's Two Person Dinghy"
          ],
          [
           "Lisa Laetitia Westerhof",
           "Netherlands",
           "F",
           "Bronze",
           "Sailing Women's Two Person Dinghy"
          ],
          [
           "Vendela Elin Birgitta Zachrisson-Santn",
           "Sweden",
           "F",
           "Bronze",
           "Sailing Women's Two Person Dinghy"
          ]
         ],
         "hovertemplate": "Medal=%{customdata[3]}<br>Olympic Year=%{x}<br>Olympian Age=%{y}<br>Name=%{customdata[0]}<br>Team=%{customdata[1]}<br>Sex=%{customdata[2]}<br>Event=%{customdata[4]}<extra></extra>",
         "legendgroup": "Bronze",
         "marker": {
          "color": "#CD7F32",
          "symbol": "circle"
         },
         "mode": "markers",
         "name": "Bronze",
         "orientation": "v",
         "showlegend": true,
         "type": "scatter",
         "x": [
          2012,
          1988,
          2016,
          1992,
          1992,
          2016,
          1988,
          2008,
          1996,
          2000,
          2008,
          1996,
          2000,
          2004,
          2012,
          2004
         ],
         "xaxis": "x",
         "y": [
          31,
          21,
          29,
          29,
          28,
          31,
          25,
          27,
          31,
          35,
          24,
          25,
          29,
          28,
          30,
          26
         ],
         "yaxis": "y"
        }
       ],
       "layout": {
        "legend": {
         "title": {
          "text": "Medal"
         },
         "tracegroupgap": 0
        },
        "template": {
         "data": {
          "bar": [
           {
            "error_x": {
             "color": "#2a3f5f"
            },
            "error_y": {
             "color": "#2a3f5f"
            },
            "marker": {
             "line": {
              "color": "#E5ECF6",
              "width": 0.5
             },
             "pattern": {
              "fillmode": "overlay",
              "size": 10,
              "solidity": 0.2
             }
            },
            "type": "bar"
           }
          ],
          "barpolar": [
           {
            "marker": {
             "line": {
              "color": "#E5ECF6",
              "width": 0.5
             },
             "pattern": {
              "fillmode": "overlay",
              "size": 10,
              "solidity": 0.2
             }
            },
            "type": "barpolar"
           }
          ],
          "carpet": [
           {
            "aaxis": {
             "endlinecolor": "#2a3f5f",
             "gridcolor": "white",
             "linecolor": "white",
             "minorgridcolor": "white",
             "startlinecolor": "#2a3f5f"
            },
            "baxis": {
             "endlinecolor": "#2a3f5f",
             "gridcolor": "white",
             "linecolor": "white",
             "minorgridcolor": "white",
             "startlinecolor": "#2a3f5f"
            },
            "type": "carpet"
           }
          ],
          "choropleth": [
           {
            "colorbar": {
             "outlinewidth": 0,
             "ticks": ""
            },
            "type": "choropleth"
           }
          ],
          "contour": [
           {
            "colorbar": {
             "outlinewidth": 0,
             "ticks": ""
            },
            "colorscale": [
             [
              0,
              "#0d0887"
             ],
             [
              0.1111111111111111,
              "#46039f"
             ],
             [
              0.2222222222222222,
              "#7201a8"
             ],
             [
              0.3333333333333333,
              "#9c179e"
             ],
             [
              0.4444444444444444,
              "#bd3786"
             ],
             [
              0.5555555555555556,
              "#d8576b"
             ],
             [
              0.6666666666666666,
              "#ed7953"
             ],
             [
              0.7777777777777778,
              "#fb9f3a"
             ],
             [
              0.8888888888888888,
              "#fdca26"
             ],
             [
              1,
              "#f0f921"
             ]
            ],
            "type": "contour"
           }
          ],
          "contourcarpet": [
           {
            "colorbar": {
             "outlinewidth": 0,
             "ticks": ""
            },
            "type": "contourcarpet"
           }
          ],
          "heatmap": [
           {
            "colorbar": {
             "outlinewidth": 0,
             "ticks": ""
            },
            "colorscale": [
             [
              0,
              "#0d0887"
             ],
             [
              0.1111111111111111,
              "#46039f"
             ],
             [
              0.2222222222222222,
              "#7201a8"
             ],
             [
              0.3333333333333333,
              "#9c179e"
             ],
             [
              0.4444444444444444,
              "#bd3786"
             ],
             [
              0.5555555555555556,
              "#d8576b"
             ],
             [
              0.6666666666666666,
              "#ed7953"
             ],
             [
              0.7777777777777778,
              "#fb9f3a"
             ],
             [
              0.8888888888888888,
              "#fdca26"
             ],
             [
              1,
              "#f0f921"
             ]
            ],
            "type": "heatmap"
           }
          ],
          "heatmapgl": [
           {
            "colorbar": {
             "outlinewidth": 0,
             "ticks": ""
            },
            "colorscale": [
             [
              0,
              "#0d0887"
             ],
             [
              0.1111111111111111,
              "#46039f"
             ],
             [
              0.2222222222222222,
              "#7201a8"
             ],
             [
              0.3333333333333333,
              "#9c179e"
             ],
             [
              0.4444444444444444,
              "#bd3786"
             ],
             [
              0.5555555555555556,
              "#d8576b"
             ],
             [
              0.6666666666666666,
              "#ed7953"
             ],
             [
              0.7777777777777778,
              "#fb9f3a"
             ],
             [
              0.8888888888888888,
              "#fdca26"
             ],
             [
              1,
              "#f0f921"
             ]
            ],
            "type": "heatmapgl"
           }
          ],
          "histogram": [
           {
            "marker": {
             "pattern": {
              "fillmode": "overlay",
              "size": 10,
              "solidity": 0.2
             }
            },
            "type": "histogram"
           }
          ],
          "histogram2d": [
           {
            "colorbar": {
             "outlinewidth": 0,
             "ticks": ""
            },
            "colorscale": [
             [
              0,
              "#0d0887"
             ],
             [
              0.1111111111111111,
              "#46039f"
             ],
             [
              0.2222222222222222,
              "#7201a8"
             ],
             [
              0.3333333333333333,
              "#9c179e"
             ],
             [
              0.4444444444444444,
              "#bd3786"
             ],
             [
              0.5555555555555556,
              "#d8576b"
             ],
             [
              0.6666666666666666,
              "#ed7953"
             ],
             [
              0.7777777777777778,
              "#fb9f3a"
             ],
             [
              0.8888888888888888,
              "#fdca26"
             ],
             [
              1,
              "#f0f921"
             ]
            ],
            "type": "histogram2d"
           }
          ],
          "histogram2dcontour": [
           {
            "colorbar": {
             "outlinewidth": 0,
             "ticks": ""
            },
            "colorscale": [
             [
              0,
              "#0d0887"
             ],
             [
              0.1111111111111111,
              "#46039f"
             ],
             [
              0.2222222222222222,
              "#7201a8"
             ],
             [
              0.3333333333333333,
              "#9c179e"
             ],
             [
              0.4444444444444444,
              "#bd3786"
             ],
             [
              0.5555555555555556,
              "#d8576b"
             ],
             [
              0.6666666666666666,
              "#ed7953"
             ],
             [
              0.7777777777777778,
              "#fb9f3a"
             ],
             [
              0.8888888888888888,
              "#fdca26"
             ],
             [
              1,
              "#f0f921"
             ]
            ],
            "type": "histogram2dcontour"
           }
          ],
          "mesh3d": [
           {
            "colorbar": {
             "outlinewidth": 0,
             "ticks": ""
            },
            "type": "mesh3d"
           }
          ],
          "parcoords": [
           {
            "line": {
             "colorbar": {
              "outlinewidth": 0,
              "ticks": ""
             }
            },
            "type": "parcoords"
           }
          ],
          "pie": [
           {
            "automargin": true,
            "type": "pie"
           }
          ],
          "scatter": [
           {
            "fillpattern": {
             "fillmode": "overlay",
             "size": 10,
             "solidity": 0.2
            },
            "type": "scatter"
           }
          ],
          "scatter3d": [
           {
            "line": {
             "colorbar": {
              "outlinewidth": 0,
              "ticks": ""
             }
            },
            "marker": {
             "colorbar": {
              "outlinewidth": 0,
              "ticks": ""
             }
            },
            "type": "scatter3d"
           }
          ],
          "scattercarpet": [
           {
            "marker": {
             "colorbar": {
              "outlinewidth": 0,
              "ticks": ""
             }
            },
            "type": "scattercarpet"
           }
          ],
          "scattergeo": [
           {
            "marker": {
             "colorbar": {
              "outlinewidth": 0,
              "ticks": ""
             }
            },
            "type": "scattergeo"
           }
          ],
          "scattergl": [
           {
            "marker": {
             "colorbar": {
              "outlinewidth": 0,
              "ticks": ""
             }
            },
            "type": "scattergl"
           }
          ],
          "scattermapbox": [
           {
            "marker": {
             "colorbar": {
              "outlinewidth": 0,
              "ticks": ""
             }
            },
            "type": "scattermapbox"
           }
          ],
          "scatterpolar": [
           {
            "marker": {
             "colorbar": {
              "outlinewidth": 0,
              "ticks": ""
             }
            },
            "type": "scatterpolar"
           }
          ],
          "scatterpolargl": [
           {
            "marker": {
             "colorbar": {
              "outlinewidth": 0,
              "ticks": ""
             }
            },
            "type": "scatterpolargl"
           }
          ],
          "scatterternary": [
           {
            "marker": {
             "colorbar": {
              "outlinewidth": 0,
              "ticks": ""
             }
            },
            "type": "scatterternary"
           }
          ],
          "surface": [
           {
            "colorbar": {
             "outlinewidth": 0,
             "ticks": ""
            },
            "colorscale": [
             [
              0,
              "#0d0887"
             ],
             [
              0.1111111111111111,
              "#46039f"
             ],
             [
              0.2222222222222222,
              "#7201a8"
             ],
             [
              0.3333333333333333,
              "#9c179e"
             ],
             [
              0.4444444444444444,
              "#bd3786"
             ],
             [
              0.5555555555555556,
              "#d8576b"
             ],
             [
              0.6666666666666666,
              "#ed7953"
             ],
             [
              0.7777777777777778,
              "#fb9f3a"
             ],
             [
              0.8888888888888888,
              "#fdca26"
             ],
             [
              1,
              "#f0f921"
             ]
            ],
            "type": "surface"
           }
          ],
          "table": [
           {
            "cells": {
             "fill": {
              "color": "#EBF0F8"
             },
             "line": {
              "color": "white"
             }
            },
            "header": {
             "fill": {
              "color": "#C8D4E3"
             },
             "line": {
              "color": "white"
             }
            },
            "type": "table"
           }
          ]
         },
         "layout": {
          "annotationdefaults": {
           "arrowcolor": "#2a3f5f",
           "arrowhead": 0,
           "arrowwidth": 1
          },
          "autotypenumbers": "strict",
          "coloraxis": {
           "colorbar": {
            "outlinewidth": 0,
            "ticks": ""
           }
          },
          "colorscale": {
           "diverging": [
            [
             0,
             "#8e0152"
            ],
            [
             0.1,
             "#c51b7d"
            ],
            [
             0.2,
             "#de77ae"
            ],
            [
             0.3,
             "#f1b6da"
            ],
            [
             0.4,
             "#fde0ef"
            ],
            [
             0.5,
             "#f7f7f7"
            ],
            [
             0.6,
             "#e6f5d0"
            ],
            [
             0.7,
             "#b8e186"
            ],
            [
             0.8,
             "#7fbc41"
            ],
            [
             0.9,
             "#4d9221"
            ],
            [
             1,
             "#276419"
            ]
           ],
           "sequential": [
            [
             0,
             "#0d0887"
            ],
            [
             0.1111111111111111,
             "#46039f"
            ],
            [
             0.2222222222222222,
             "#7201a8"
            ],
            [
             0.3333333333333333,
             "#9c179e"
            ],
            [
             0.4444444444444444,
             "#bd3786"
            ],
            [
             0.5555555555555556,
             "#d8576b"
            ],
            [
             0.6666666666666666,
             "#ed7953"
            ],
            [
             0.7777777777777778,
             "#fb9f3a"
            ],
            [
             0.8888888888888888,
             "#fdca26"
            ],
            [
             1,
             "#f0f921"
            ]
           ],
           "sequentialminus": [
            [
             0,
             "#0d0887"
            ],
            [
             0.1111111111111111,
             "#46039f"
            ],
            [
             0.2222222222222222,
             "#7201a8"
            ],
            [
             0.3333333333333333,
             "#9c179e"
            ],
            [
             0.4444444444444444,
             "#bd3786"
            ],
            [
             0.5555555555555556,
             "#d8576b"
            ],
            [
             0.6666666666666666,
             "#ed7953"
            ],
            [
             0.7777777777777778,
             "#fb9f3a"
            ],
            [
             0.8888888888888888,
             "#fdca26"
            ],
            [
             1,
             "#f0f921"
            ]
           ]
          },
          "colorway": [
           "#636efa",
           "#EF553B",
           "#00cc96",
           "#ab63fa",
           "#FFA15A",
           "#19d3f3",
           "#FF6692",
           "#B6E880",
           "#FF97FF",
           "#FECB52"
          ],
          "font": {
           "color": "#2a3f5f"
          },
          "geo": {
           "bgcolor": "white",
           "lakecolor": "white",
           "landcolor": "#E5ECF6",
           "showlakes": true,
           "showland": true,
           "subunitcolor": "white"
          },
          "hoverlabel": {
           "align": "left"
          },
          "hovermode": "closest",
          "mapbox": {
           "style": "light"
          },
          "paper_bgcolor": "white",
          "plot_bgcolor": "#E5ECF6",
          "polar": {
           "angularaxis": {
            "gridcolor": "white",
            "linecolor": "white",
            "ticks": ""
           },
           "bgcolor": "#E5ECF6",
           "radialaxis": {
            "gridcolor": "white",
            "linecolor": "white",
            "ticks": ""
           }
          },
          "scene": {
           "xaxis": {
            "backgroundcolor": "#E5ECF6",
            "gridcolor": "white",
            "gridwidth": 2,
            "linecolor": "white",
            "showbackground": true,
            "ticks": "",
            "zerolinecolor": "white"
           },
           "yaxis": {
            "backgroundcolor": "#E5ECF6",
            "gridcolor": "white",
            "gridwidth": 2,
            "linecolor": "white",
            "showbackground": true,
            "ticks": "",
            "zerolinecolor": "white"
           },
           "zaxis": {
            "backgroundcolor": "#E5ECF6",
            "gridcolor": "white",
            "gridwidth": 2,
            "linecolor": "white",
            "showbackground": true,
            "ticks": "",
            "zerolinecolor": "white"
           }
          },
          "shapedefaults": {
           "line": {
            "color": "#2a3f5f"
           }
          },
          "ternary": {
           "aaxis": {
            "gridcolor": "white",
            "linecolor": "white",
            "ticks": ""
           },
           "baxis": {
            "gridcolor": "white",
            "linecolor": "white",
            "ticks": ""
           },
           "bgcolor": "#E5ECF6",
           "caxis": {
            "gridcolor": "white",
            "linecolor": "white",
            "ticks": ""
           }
          },
          "title": {
           "x": 0.05
          },
          "xaxis": {
           "automargin": true,
           "gridcolor": "white",
           "linecolor": "white",
           "ticks": "",
           "title": {
            "standoff": 15
           },
           "zerolinecolor": "white",
           "zerolinewidth": 2
          },
          "yaxis": {
           "automargin": true,
           "gridcolor": "white",
           "linecolor": "white",
           "ticks": "",
           "title": {
            "standoff": 15
           },
           "zerolinecolor": "white",
           "zerolinewidth": 2
          }
         }
        },
        "title": {
         "text": "Women's Two Person Dinghy"
        },
        "xaxis": {
         "anchor": "y",
         "domain": [
          0,
          1
         ],
         "title": {
          "text": "Olympic Year"
         }
        },
        "yaxis": {
         "anchor": "x",
         "domain": [
          0,
          1
         ],
         "title": {
          "text": "Olympian Age"
         }
        }
       }
      },
      "text/html": [
       "<div>                            <div id=\"db694043-ba23-4a01-ad0a-747cf893ffb0\" class=\"plotly-graph-div\" style=\"height:525px; width:100%;\"></div>            <script type=\"text/javascript\">                require([\"plotly\"], function(Plotly) {                    window.PLOTLYENV=window.PLOTLYENV || {};                                    if (document.getElementById(\"db694043-ba23-4a01-ad0a-747cf893ffb0\")) {                    Plotly.newPlot(                        \"db694043-ba23-4a01-ad0a-747cf893ffb0\",                        [{\"customdata\":[[\"Jo Qesem Ayela Aleh\",\"New Zealand\",\"F\",\"Gold\",\"Sailing Women's Two Person Dinghy\"],[\"Jennifer Margaret \\\"Jenny\\\" Armstrong\",\"Australia\",\"F\",\"Gold\",\"Sailing Women's Two Person Dinghy\"],[\"Sofia Bekatorou (-Kosmatopoulos)\",\"Greece\",\"F\",\"Gold\",\"Sailing Women's Two Person Dinghy\"],[\"Saskia Clark\",\"Great Britain\",\"F\",\"Gold\",\"Sailing Women's Two Person Dinghy\"],[\"Patricia Guerra Cabrera\",\"Spain\",\"F\",\"Gold\",\"Sailing Women's Two Person Dinghy\"],[\"Lynne M. Jewell (-Shore-)\",\"United States\",\"F\",\"Gold\",\"Sailing Women's Two Person Dinghy\"],[\"Allison Blair Jolly (-Elliot)\",\"United States\",\"F\",\"Gold\",\"Sailing Women's Two Person Dinghy\"],[\"Hannah Louise Mills\",\"Great Britain\",\"F\",\"Gold\",\"Sailing Women's Two Person Dinghy\"],[\"Tessa Parkinson\",\"Australia\",\"F\",\"Gold\",\"Sailing Women's Two Person Dinghy\"],[\"Olivia Elizabeth \\\"Polly\\\" Powrie\",\"New Zealand\",\"F\",\"Gold\",\"Sailing Women's Two Person Dinghy\"],[\"Elise Maree Rechichi\",\"Australia\",\"F\",\"Gold\",\"Sailing Women's Two Person Dinghy\"],[\"Belinda Josephine Marion Stowell\",\"Australia\",\"F\",\"Gold\",\"Sailing Women's Two Person Dinghy\"],[\"Aimilia Tsoulfa\",\"Greece\",\"F\",\"Gold\",\"Sailing Women's Two Person Dinghy\"],[\"Begoa Va Dufresne Perea\",\"Spain\",\"F\",\"Gold\",\"Sailing Women's Two Person Dinghy\"],[\"Theresa Zabell Lucas\",\"Spain\",\"F\",\"Gold\",\"Sailing Women's Two Person Dinghy\"],[\"Theresa Zabell Lucas\",\"Spain\",\"F\",\"Gold\",\"Sailing Women's Two Person Dinghy\"]],\"hovertemplate\":\"Medal=%{customdata[3]}<br>Olympic Year=%{x}<br>Olympian Age=%{y}<br>Name=%{customdata[0]}<br>Team=%{customdata[1]}<br>Sex=%{customdata[2]}<br>Event=%{customdata[4]}<extra></extra>\",\"legendgroup\":\"Gold\",\"marker\":{\"color\":\"#FFD700\",\"symbol\":\"circle\"},\"mode\":\"markers\",\"name\":\"Gold\",\"orientation\":\"v\",\"showlegend\":true,\"x\":[2012,2000,2004,2016,1992,1988,1988,2016,2008,2012,2008,2000,2004,1996,1992,1996],\"xaxis\":\"x\",\"y\":[26.0,30.0,26.0,36.0,27.0,28.0,32.0,28.0,21.0,24.0,22.0,29.0,31.0,25.0,27.0,31.0],\"yaxis\":\"y\",\"type\":\"scatter\"},{\"customdata\":[[\"Jo Qesem Ayela Aleh\",\"New Zealand\",\"F\",\"Silver\",\"Sailing Women's Two Person Dinghy\"],[\"Sandra Azn Canalda\",\"Spain\",\"F\",\"Silver\",\"Sailing Women's Two Person Dinghy\"],[\"Birgitta Kristina Bengtsson\",\"Sweden\",\"F\",\"Silver\",\"Sailing Women's Two Person Dinghy\"],[\"Lobke Berkhout\",\"Netherlands\",\"F\",\"Silver\",\"Sailing Women's Two Person Dinghy\"],[\"Marcelien Bos-de Koning\",\"Netherlands\",\"F\",\"Silver\",\"Sailing Women's Two Person Dinghy\"],[\"Saskia Clark\",\"Great Britain\",\"F\",\"Silver\",\"Sailing Women's Two Person Dinghy\"],[\"Leslie Jean Egnot\",\"New Zealand\",\"F\",\"Silver\",\"Sailing Women's Two Person Dinghy\"],[\"Sarah \\\"Pease\\\" Glaser (Herndon-)\",\"United States\",\"F\",\"Silver\",\"Sailing Women's Two Person Dinghy\"],[\"Jennifer J. Fetter \\\"JJ\\\" Isler\",\"United States\",\"F\",\"Silver\",\"Sailing Women's Two Person Dinghy\"],[\"Yurie Alicia Kinoshita\",\"Japan\",\"F\",\"Silver\",\"Sailing Women's Two Person Dinghy\"],[\"Hannah Louise Mills\",\"Great Britain\",\"F\",\"Silver\",\"Sailing Women's Two Person Dinghy\"],[\"Olivia Elizabeth \\\"Polly\\\" Powrie\",\"New Zealand\",\"F\",\"Silver\",\"Sailing Women's Two Person Dinghy\"],[\"Janet Lee \\\"Jan\\\" Shearer (-Jones)\",\"New Zealand\",\"F\",\"Silver\",\"Sailing Women's Two Person Dinghy\"],[\"Yumiko Shige\",\"Japan\",\"F\",\"Silver\",\"Sailing Women's Two Person Dinghy\"],[\"Marit Kjellsdotter Sderstrm (-Nord)\",\"Sweden\",\"F\",\"Silver\",\"Sailing Women's Two Person Dinghy\"],[\"Natalia Va Dufresne Perea\",\"Spain\",\"F\",\"Silver\",\"Sailing Women's Two Person Dinghy\"]],\"hovertemplate\":\"Medal=%{customdata[3]}<br>Olympic Year=%{x}<br>Olympian Age=%{y}<br>Name=%{customdata[0]}<br>Team=%{customdata[1]}<br>Sex=%{customdata[2]}<br>Event=%{customdata[4]}<extra></extra>\",\"legendgroup\":\"Silver\",\"marker\":{\"color\":\"#C0C0C0\",\"symbol\":\"circle\"},\"mode\":\"markers\",\"name\":\"Silver\",\"orientation\":\"v\",\"showlegend\":true,\"x\":[2016,2004,1988,2008,2008,2012,1992,2000,2000,1996,2012,2016,1992,1996,1988,2004],\"xaxis\":\"x\",\"y\":[30.0,30.0,23.0,27.0,30.0,32.0,29.0,38.0,36.0,29.0,24.0,28.0,34.0,30.0,25.0,31.0],\"yaxis\":\"y\",\"type\":\"scatter\"},{\"customdata\":[[\"Lobke Berkhout\",\"Netherlands\",\"F\",\"Bronze\",\"Sailing Women's Two Person Dinghy\"],[\"Iryna Volodymyrivna Chunykhovska\",\"Soviet Union\",\"F\",\"Bronze\",\"Sailing Women's Two Person Dinghy\"],[\"Hlne Defrance\",\"France\",\"F\",\"Bronze\",\"Sailing Women's Two Person Dinghy\"],[\"Pamela Katherine Healy\",\"United States\",\"F\",\"Bronze\",\"Sailing Women's Two Person Dinghy\"],[\"Jennifer J. Fetter \\\"JJ\\\" Isler\",\"United States\",\"F\",\"Bronze\",\"Sailing Women's Two Person Dinghy\"],[\"Camille Lecointre\",\"France\",\"F\",\"Bronze\",\"Sailing Women's Two Person Dinghy\"],[\"Larysa Vitalivna Moskalenko\",\"Soviet Union\",\"F\",\"Bronze\",\"Sailing Women's Two Person Dinghy\"],[\"Fernanda Ryff Moreira Oliveira\",\"Brazil\",\"F\",\"Bronze\",\"Sailing Women's Two Person Dinghy\"],[\"Olena Ivanivna Pakholchyk\",\"Ukraine\",\"F\",\"Bronze\",\"Sailing Women's Two Person Dinghy\"],[\"Olena Ivanivna Pakholchyk\",\"Ukraine\",\"F\",\"Bronze\",\"Sailing Women's Two Person Dinghy\"],[\"Isabel Marques Swan\",\"Brazil\",\"F\",\"Bronze\",\"Sailing Women's Two Person Dinghy\"],[\"Ruslana Oleksivna Taran\",\"Ukraine\",\"F\",\"Bronze\",\"Sailing Women's Two Person Dinghy\"],[\"Ruslana Oleksivna Taran\",\"Ukraine\",\"F\",\"Bronze\",\"Sailing Women's Two Person Dinghy\"],[\"Therese Elisabeth Torgersson\",\"Sweden\",\"F\",\"Bronze\",\"Sailing Women's Two Person Dinghy\"],[\"Lisa Laetitia Westerhof\",\"Netherlands\",\"F\",\"Bronze\",\"Sailing Women's Two Person Dinghy\"],[\"Vendela Elin Birgitta Zachrisson-Santn\",\"Sweden\",\"F\",\"Bronze\",\"Sailing Women's Two Person Dinghy\"]],\"hovertemplate\":\"Medal=%{customdata[3]}<br>Olympic Year=%{x}<br>Olympian Age=%{y}<br>Name=%{customdata[0]}<br>Team=%{customdata[1]}<br>Sex=%{customdata[2]}<br>Event=%{customdata[4]}<extra></extra>\",\"legendgroup\":\"Bronze\",\"marker\":{\"color\":\"#CD7F32\",\"symbol\":\"circle\"},\"mode\":\"markers\",\"name\":\"Bronze\",\"orientation\":\"v\",\"showlegend\":true,\"x\":[2012,1988,2016,1992,1992,2016,1988,2008,1996,2000,2008,1996,2000,2004,2012,2004],\"xaxis\":\"x\",\"y\":[31.0,21.0,29.0,29.0,28.0,31.0,25.0,27.0,31.0,35.0,24.0,25.0,29.0,28.0,30.0,26.0],\"yaxis\":\"y\",\"type\":\"scatter\"}],                        {\"template\":{\"data\":{\"histogram2dcontour\":[{\"type\":\"histogram2dcontour\",\"colorbar\":{\"outlinewidth\":0,\"ticks\":\"\"},\"colorscale\":[[0.0,\"#0d0887\"],[0.1111111111111111,\"#46039f\"],[0.2222222222222222,\"#7201a8\"],[0.3333333333333333,\"#9c179e\"],[0.4444444444444444,\"#bd3786\"],[0.5555555555555556,\"#d8576b\"],[0.6666666666666666,\"#ed7953\"],[0.7777777777777778,\"#fb9f3a\"],[0.8888888888888888,\"#fdca26\"],[1.0,\"#f0f921\"]]}],\"choropleth\":[{\"type\":\"choropleth\",\"colorbar\":{\"outlinewidth\":0,\"ticks\":\"\"}}],\"histogram2d\":[{\"type\":\"histogram2d\",\"colorbar\":{\"outlinewidth\":0,\"ticks\":\"\"},\"colorscale\":[[0.0,\"#0d0887\"],[0.1111111111111111,\"#46039f\"],[0.2222222222222222,\"#7201a8\"],[0.3333333333333333,\"#9c179e\"],[0.4444444444444444,\"#bd3786\"],[0.5555555555555556,\"#d8576b\"],[0.6666666666666666,\"#ed7953\"],[0.7777777777777778,\"#fb9f3a\"],[0.8888888888888888,\"#fdca26\"],[1.0,\"#f0f921\"]]}],\"heatmap\":[{\"type\":\"heatmap\",\"colorbar\":{\"outlinewidth\":0,\"ticks\":\"\"},\"colorscale\":[[0.0,\"#0d0887\"],[0.1111111111111111,\"#46039f\"],[0.2222222222222222,\"#7201a8\"],[0.3333333333333333,\"#9c179e\"],[0.4444444444444444,\"#bd3786\"],[0.5555555555555556,\"#d8576b\"],[0.6666666666666666,\"#ed7953\"],[0.7777777777777778,\"#fb9f3a\"],[0.8888888888888888,\"#fdca26\"],[1.0,\"#f0f921\"]]}],\"heatmapgl\":[{\"type\":\"heatmapgl\",\"colorbar\":{\"outlinewidth\":0,\"ticks\":\"\"},\"colorscale\":[[0.0,\"#0d0887\"],[0.1111111111111111,\"#46039f\"],[0.2222222222222222,\"#7201a8\"],[0.3333333333333333,\"#9c179e\"],[0.4444444444444444,\"#bd3786\"],[0.5555555555555556,\"#d8576b\"],[0.6666666666666666,\"#ed7953\"],[0.7777777777777778,\"#fb9f3a\"],[0.8888888888888888,\"#fdca26\"],[1.0,\"#f0f921\"]]}],\"contourcarpet\":[{\"type\":\"contourcarpet\",\"colorbar\":{\"outlinewidth\":0,\"ticks\":\"\"}}],\"contour\":[{\"type\":\"contour\",\"colorbar\":{\"outlinewidth\":0,\"ticks\":\"\"},\"colorscale\":[[0.0,\"#0d0887\"],[0.1111111111111111,\"#46039f\"],[0.2222222222222222,\"#7201a8\"],[0.3333333333333333,\"#9c179e\"],[0.4444444444444444,\"#bd3786\"],[0.5555555555555556,\"#d8576b\"],[0.6666666666666666,\"#ed7953\"],[0.7777777777777778,\"#fb9f3a\"],[0.8888888888888888,\"#fdca26\"],[1.0,\"#f0f921\"]]}],\"surface\":[{\"type\":\"surface\",\"colorbar\":{\"outlinewidth\":0,\"ticks\":\"\"},\"colorscale\":[[0.0,\"#0d0887\"],[0.1111111111111111,\"#46039f\"],[0.2222222222222222,\"#7201a8\"],[0.3333333333333333,\"#9c179e\"],[0.4444444444444444,\"#bd3786\"],[0.5555555555555556,\"#d8576b\"],[0.6666666666666666,\"#ed7953\"],[0.7777777777777778,\"#fb9f3a\"],[0.8888888888888888,\"#fdca26\"],[1.0,\"#f0f921\"]]}],\"mesh3d\":[{\"type\":\"mesh3d\",\"colorbar\":{\"outlinewidth\":0,\"ticks\":\"\"}}],\"scatter\":[{\"fillpattern\":{\"fillmode\":\"overlay\",\"size\":10,\"solidity\":0.2},\"type\":\"scatter\"}],\"parcoords\":[{\"type\":\"parcoords\",\"line\":{\"colorbar\":{\"outlinewidth\":0,\"ticks\":\"\"}}}],\"scatterpolargl\":[{\"type\":\"scatterpolargl\",\"marker\":{\"colorbar\":{\"outlinewidth\":0,\"ticks\":\"\"}}}],\"bar\":[{\"error_x\":{\"color\":\"#2a3f5f\"},\"error_y\":{\"color\":\"#2a3f5f\"},\"marker\":{\"line\":{\"color\":\"#E5ECF6\",\"width\":0.5},\"pattern\":{\"fillmode\":\"overlay\",\"size\":10,\"solidity\":0.2}},\"type\":\"bar\"}],\"scattergeo\":[{\"type\":\"scattergeo\",\"marker\":{\"colorbar\":{\"outlinewidth\":0,\"ticks\":\"\"}}}],\"scatterpolar\":[{\"type\":\"scatterpolar\",\"marker\":{\"colorbar\":{\"outlinewidth\":0,\"ticks\":\"\"}}}],\"histogram\":[{\"marker\":{\"pattern\":{\"fillmode\":\"overlay\",\"size\":10,\"solidity\":0.2}},\"type\":\"histogram\"}],\"scattergl\":[{\"type\":\"scattergl\",\"marker\":{\"colorbar\":{\"outlinewidth\":0,\"ticks\":\"\"}}}],\"scatter3d\":[{\"type\":\"scatter3d\",\"line\":{\"colorbar\":{\"outlinewidth\":0,\"ticks\":\"\"}},\"marker\":{\"colorbar\":{\"outlinewidth\":0,\"ticks\":\"\"}}}],\"scattermapbox\":[{\"type\":\"scattermapbox\",\"marker\":{\"colorbar\":{\"outlinewidth\":0,\"ticks\":\"\"}}}],\"scatterternary\":[{\"type\":\"scatterternary\",\"marker\":{\"colorbar\":{\"outlinewidth\":0,\"ticks\":\"\"}}}],\"scattercarpet\":[{\"type\":\"scattercarpet\",\"marker\":{\"colorbar\":{\"outlinewidth\":0,\"ticks\":\"\"}}}],\"carpet\":[{\"aaxis\":{\"endlinecolor\":\"#2a3f5f\",\"gridcolor\":\"white\",\"linecolor\":\"white\",\"minorgridcolor\":\"white\",\"startlinecolor\":\"#2a3f5f\"},\"baxis\":{\"endlinecolor\":\"#2a3f5f\",\"gridcolor\":\"white\",\"linecolor\":\"white\",\"minorgridcolor\":\"white\",\"startlinecolor\":\"#2a3f5f\"},\"type\":\"carpet\"}],\"table\":[{\"cells\":{\"fill\":{\"color\":\"#EBF0F8\"},\"line\":{\"color\":\"white\"}},\"header\":{\"fill\":{\"color\":\"#C8D4E3\"},\"line\":{\"color\":\"white\"}},\"type\":\"table\"}],\"barpolar\":[{\"marker\":{\"line\":{\"color\":\"#E5ECF6\",\"width\":0.5},\"pattern\":{\"fillmode\":\"overlay\",\"size\":10,\"solidity\":0.2}},\"type\":\"barpolar\"}],\"pie\":[{\"automargin\":true,\"type\":\"pie\"}]},\"layout\":{\"autotypenumbers\":\"strict\",\"colorway\":[\"#636efa\",\"#EF553B\",\"#00cc96\",\"#ab63fa\",\"#FFA15A\",\"#19d3f3\",\"#FF6692\",\"#B6E880\",\"#FF97FF\",\"#FECB52\"],\"font\":{\"color\":\"#2a3f5f\"},\"hovermode\":\"closest\",\"hoverlabel\":{\"align\":\"left\"},\"paper_bgcolor\":\"white\",\"plot_bgcolor\":\"#E5ECF6\",\"polar\":{\"bgcolor\":\"#E5ECF6\",\"angularaxis\":{\"gridcolor\":\"white\",\"linecolor\":\"white\",\"ticks\":\"\"},\"radialaxis\":{\"gridcolor\":\"white\",\"linecolor\":\"white\",\"ticks\":\"\"}},\"ternary\":{\"bgcolor\":\"#E5ECF6\",\"aaxis\":{\"gridcolor\":\"white\",\"linecolor\":\"white\",\"ticks\":\"\"},\"baxis\":{\"gridcolor\":\"white\",\"linecolor\":\"white\",\"ticks\":\"\"},\"caxis\":{\"gridcolor\":\"white\",\"linecolor\":\"white\",\"ticks\":\"\"}},\"coloraxis\":{\"colorbar\":{\"outlinewidth\":0,\"ticks\":\"\"}},\"colorscale\":{\"sequential\":[[0.0,\"#0d0887\"],[0.1111111111111111,\"#46039f\"],[0.2222222222222222,\"#7201a8\"],[0.3333333333333333,\"#9c179e\"],[0.4444444444444444,\"#bd3786\"],[0.5555555555555556,\"#d8576b\"],[0.6666666666666666,\"#ed7953\"],[0.7777777777777778,\"#fb9f3a\"],[0.8888888888888888,\"#fdca26\"],[1.0,\"#f0f921\"]],\"sequentialminus\":[[0.0,\"#0d0887\"],[0.1111111111111111,\"#46039f\"],[0.2222222222222222,\"#7201a8\"],[0.3333333333333333,\"#9c179e\"],[0.4444444444444444,\"#bd3786\"],[0.5555555555555556,\"#d8576b\"],[0.6666666666666666,\"#ed7953\"],[0.7777777777777778,\"#fb9f3a\"],[0.8888888888888888,\"#fdca26\"],[1.0,\"#f0f921\"]],\"diverging\":[[0,\"#8e0152\"],[0.1,\"#c51b7d\"],[0.2,\"#de77ae\"],[0.3,\"#f1b6da\"],[0.4,\"#fde0ef\"],[0.5,\"#f7f7f7\"],[0.6,\"#e6f5d0\"],[0.7,\"#b8e186\"],[0.8,\"#7fbc41\"],[0.9,\"#4d9221\"],[1,\"#276419\"]]},\"xaxis\":{\"gridcolor\":\"white\",\"linecolor\":\"white\",\"ticks\":\"\",\"title\":{\"standoff\":15},\"zerolinecolor\":\"white\",\"automargin\":true,\"zerolinewidth\":2},\"yaxis\":{\"gridcolor\":\"white\",\"linecolor\":\"white\",\"ticks\":\"\",\"title\":{\"standoff\":15},\"zerolinecolor\":\"white\",\"automargin\":true,\"zerolinewidth\":2},\"scene\":{\"xaxis\":{\"backgroundcolor\":\"#E5ECF6\",\"gridcolor\":\"white\",\"linecolor\":\"white\",\"showbackground\":true,\"ticks\":\"\",\"zerolinecolor\":\"white\",\"gridwidth\":2},\"yaxis\":{\"backgroundcolor\":\"#E5ECF6\",\"gridcolor\":\"white\",\"linecolor\":\"white\",\"showbackground\":true,\"ticks\":\"\",\"zerolinecolor\":\"white\",\"gridwidth\":2},\"zaxis\":{\"backgroundcolor\":\"#E5ECF6\",\"gridcolor\":\"white\",\"linecolor\":\"white\",\"showbackground\":true,\"ticks\":\"\",\"zerolinecolor\":\"white\",\"gridwidth\":2}},\"shapedefaults\":{\"line\":{\"color\":\"#2a3f5f\"}},\"annotationdefaults\":{\"arrowcolor\":\"#2a3f5f\",\"arrowhead\":0,\"arrowwidth\":1},\"geo\":{\"bgcolor\":\"white\",\"landcolor\":\"#E5ECF6\",\"subunitcolor\":\"white\",\"showland\":true,\"showlakes\":true,\"lakecolor\":\"white\"},\"title\":{\"x\":0.05},\"mapbox\":{\"style\":\"light\"}}},\"xaxis\":{\"anchor\":\"y\",\"domain\":[0.0,1.0],\"title\":{\"text\":\"Olympic Year\"}},\"yaxis\":{\"anchor\":\"x\",\"domain\":[0.0,1.0],\"title\":{\"text\":\"Olympian Age\"}},\"legend\":{\"title\":{\"text\":\"Medal\"},\"tracegroupgap\":0},\"title\":{\"text\":\"Women's Two Person Dinghy\"}},                        {\"responsive\": true}                    ).then(function(){\n",
       "                            \n",
       "var gd = document.getElementById('db694043-ba23-4a01-ad0a-747cf893ffb0');\n",
       "var x = new MutationObserver(function (mutations, observer) {{\n",
       "        var display = window.getComputedStyle(gd).display;\n",
       "        if (!display || display === 'none') {{\n",
       "            console.log([gd, 'removed!']);\n",
       "            Plotly.purge(gd);\n",
       "            observer.disconnect();\n",
       "        }}\n",
       "}});\n",
       "\n",
       "// Listen for the removal of the full notebook cells\n",
       "var notebookContainer = gd.closest('#notebook-container');\n",
       "if (notebookContainer) {{\n",
       "    x.observe(notebookContainer, {childList: true});\n",
       "}}\n",
       "\n",
       "// Listen for the clearing of the current output cell\n",
       "var outputEl = gd.closest('.output');\n",
       "if (outputEl) {{\n",
       "    x.observe(outputEl, {childList: true});\n",
       "}}\n",
       "\n",
       "                        })                };                });            </script>        </div>"
      ]
     },
     "metadata": {},
     "output_type": "display_data"
    },
    {
     "data": {
      "text/plain": [
       "<Figure size 640x480 with 0 Axes>"
      ]
     },
     "metadata": {},
     "output_type": "display_data"
    }
   ],
   "source": [
    "#reviewing historical data from one of my favorite olympic events\n",
    "womens_dinghy = df[\n",
    "    (df['Event'].str.contains(\"Women's Two Person Dinghy\", case=False, na=False)) &\n",
    "    (df['Sport'] == 'Sailing') &\n",
    "    (df['Medal'].notnull())\n",
    "]\n",
    "\n",
    "#scatter plot\n",
    "fig = px.scatter(\n",
    "    womens_dinghy,\n",
    "    x=\"Year\",\n",
    "    y=\"Age\",\n",
    "    color=\"Medal\",\n",
    "    color_discrete_map={\n",
    "        \"Gold\": \"#FFD700\",\n",
    "        \"Silver\": \"#C0C0C0\",\n",
    "        \"Bronze\": \"#CD7F32\"},\n",
    "    hover_data=[\"Name\", \"Team\", \"Sex\", \"Age\", \"Medal\", \"Event\"],\n",
    "    title=\"Women's Two Person Dinghy\",\n",
    "    labels={\"Age\": \"Olympian Age\", \"Year\": \"Olympic Year\"}\n",
    ")\n",
    "\n",
    "#show and save plot\n",
    "plt.savefig('womensdinghy_medals.png', dpi=300)\n",
    "fig.show()\n"
   ]
  },
  {
   "cell_type": "code",
   "execution_count": 27,
   "id": "f3508ae7",
   "metadata": {},
   "outputs": [
    {
     "data": {
      "image/png": "[encoded data removed]",
      "text/plain": [
       "<Figure size 1000x600 with 1 Axes>"
      ]
     },
     "metadata": {},
     "output_type": "display_data"
    }
   ],
   "source": [
    "#finding how their age average age over the years\n",
    "womens_dinghy_age = df[\n",
    "    (df['Event'].str.contains(\"Women's Two Person Dinghy\", case=False, na=False)) &\n",
    "    (df['Sport'] == 'Sailing') &\n",
    "    (df['Age'].notnull())\n",
    "]\n",
    "\n",
    "\n",
    "avg_age_per_year = womens_dinghy_age.groupby('Year')['Age'].mean()\n",
    "\n",
    "\n",
    "plt.figure(figsize=(10, 6))\n",
    "plt.plot(avg_age_per_year.index, avg_age_per_year.values, marker='o', color='orange')\n",
    "plt.title(\"Average Age in Women's Two Person Dinghy\")\n",
    "plt.xlabel(\"Year\")\n",
    "plt.ylabel(\"Average Age\")\n",
    "plt.grid(True)\n",
    "plt.tight_layout()\n",
    "\n",
    "\n",
    "plt.savefig('avg_age_womens_dinghy.png', dpi=300)\n",
    "plt.show()"
   ]
  },
  {
   "cell_type": "markdown",
   "id": "88dcb7ab",
   "metadata": {},
   "source": [
    "* The Women's Two Person Dinghy event was first held in the 1988 Olympic Games. "
   ]
  },
  {
   "cell_type": "code",
   "execution_count": 28,
   "id": "38915e07",
   "metadata": {},
   "outputs": [
    {
     "name": "stdout",
     "output_type": "stream",
     "text": [
      "Team\n",
      "United States    2474\n",
      "Soviet Union     1058\n",
      "Germany           679\n",
      "Italy             535\n",
      "Great Britain     519\n",
      "Name: count, dtype: int64\n"
     ]
    }
   ],
   "source": [
    "# top 5 countries with the most gold medals\n",
    "gold_medals = df[df['Medal'] == 'Gold']\n",
    "\n",
    "# group countries\n",
    "top_gold_countries = gold_medals['Team'].value_counts().head(5)\n",
    "\n",
    "# print\n",
    "print(top_gold_countries)"
   ]
  },
  {
   "cell_type": "code",
   "execution_count": 29,
   "id": "81c52c0e",
   "metadata": {},
   "outputs": [
    {
     "data": {
      "image/png": "[encoded data removed]",
      "text/plain": [
       "<Figure size 1000x600 with 1 Axes>"
      ]
     },
     "metadata": {},
     "output_type": "display_data"
    }
   ],
   "source": [
    "#countries that hosted the olympics\n",
    "\n",
    "games = df[['Year', 'City']].drop_duplicates()\n",
    "\n",
    "#all cities the olympics have been hosted\n",
    "city_to_country = {\n",
    "    'Athina': 'Greece',\n",
    "    'Beijing': 'China',\n",
    "    'London': 'United Kingdom',\n",
    "    'Los Angeles': 'United States',\n",
    "    'Rio de Janeiro': 'Brazil',\n",
    "    'Tokyo': 'Japan',\n",
    "    'Sydney': 'Australia',\n",
    "    'Atlanta': 'United States',\n",
    "    'Seoul': 'South Korea',\n",
    "    'Barcelona': 'Spain',\n",
    "    'Sochi': 'Russia',\n",
    "    'Vancouver': 'Canada',\n",
    "    'Salt Lake City': 'United States',\n",
    "    'Torino': 'Italy',\n",
    "    'Nagano': 'Japan',\n",
    "    'Lillehammer': 'Norway',\n",
    "    'Albertville': 'France',\n",
    "    'Calgary': 'Canada',\n",
    "    'Lake Placid': 'United States',\n",
    "    'Munich': 'Germany',\n",
    "    'Montreal': 'Canada',\n",
    "    'Moscow': 'Russia',\n",
    "    'Rome': 'Italy',\n",
    "    'Berlin': 'Germany',\n",
    "    'Paris': 'France',\n",
    "    'Stockholm': 'Sweden',\n",
    "    'Helsinki': 'Finland',\n",
    "    'Oslo': 'Norway',\n",
    "    'St. Louis': 'United States',\n",
    "    'Melbourne': 'Australia',\n",
    "    'Innsbruck': 'Austria',\n",
    "    'Antwerp': 'Belgium',\n",
    "    'Amsterdam': 'Netherlands',\n",
    "    'Chamonix': 'France',\n",
    "}\n",
    "\n",
    "#connect city to country\n",
    "games['Country'] = games['City'].map(city_to_country)\n",
    "\n",
    "# count how many times a country has hosted\n",
    "host_counts = games['Country'].value_counts()\n",
    "\n",
    "# make plot\n",
    "plt.figure(figsize=(10, 6))\n",
    "host_counts.sort_values().plot(kind='barh', color='green')\n",
    "plt.title('Countries That Have Hosted the Olympics')\n",
    "plt.xlabel('Number of Times Hosted')\n",
    "plt.ylabel('Country')\n",
    "plt.tight_layout()\n",
    "\n",
    "\n",
    "plt.savefig('timeshosted.png')\n",
    "plt.show()"
   ]
  },
  {
   "cell_type": "code",
   "execution_count": null,
   "id": "ee19a38a",
   "metadata": {},
   "outputs": [],
   "source": []
  },
  {
   "cell_type": "code",
   "execution_count": null,
   "id": "8ebf6a42",
   "metadata": {},
   "outputs": [],
   "source": []
  }
 ],
 "metadata": {
  "kernelspec": {
   "display_name": "Python 3 (ipykernel)",
   "language": "python",
   "name": "python3"
  },
  "language_info": {
   "codemirror_mode": {
    "name": "ipython",
    "version": 3
   },
   "file_extension": ".py",
   "mimetype": "text/x-python",
   "name": "python",
   "nbconvert_exporter": "python",
   "pygments_lexer": "ipython3",
   "version": "3.11.5"
  }
 },
 "nbformat": 4,
 "nbformat_minor": 5
}

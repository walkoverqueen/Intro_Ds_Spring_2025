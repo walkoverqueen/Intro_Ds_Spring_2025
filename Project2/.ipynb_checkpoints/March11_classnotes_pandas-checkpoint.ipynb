{
 "cells": [
  {
   "cell_type": "markdown",
   "id": "973f3cc7-7ccd-430c-9a06-195200c90eca",
   "metadata": {},
   "source": [
    "# Introduction to Pandas\n",
    "March 11, 2025"
   ]
  },
  {
   "cell_type": "code",
   "execution_count": 1,
   "id": "d48dd155-9c9d-4ee3-951c-dd8c22d92274",
   "metadata": {},
   "outputs": [],
   "source": [
    "import numpy as np\n",
    "import pandas as pd"
   ]
  },
  {
   "cell_type": "markdown",
   "id": "c7ad770d-d534-42e8-934b-ca370c785bc5",
   "metadata": {},
   "source": [
    "#### Pandas\n",
    "\n",
    "Pandas is a Python library used for data manipulation and analysis. Built on top of NumPy, it provides easy- \n",
    "   to-use structures like: \n",
    "* **Series:** 1D array (like a column)\n",
    "* **DataFrame:** 2D table like a spreadsheet)"
   ]
  },
  {
   "cell_type": "markdown",
   "id": "7ea0ff74-43fa-4e90-9911-efe07d9924c9",
   "metadata": {},
   "source": [
    "**Series**"
   ]
  },
  {
   "cell_type": "code",
   "execution_count": 2,
   "id": "56c58788-25fa-4f6b-99ad-dbacd7e0811e",
   "metadata": {},
   "outputs": [
    {
     "name": "stdout",
     "output_type": "stream",
     "text": [
      "0    10\n",
      "1    20\n",
      "2    30\n",
      "3    40\n",
      "dtype: int64\n"
     ]
    }
   ],
   "source": [
    "s = pd.Series([10, 20, 30, 40])\n",
    "print(s)"
   ]
  },
  {
   "cell_type": "markdown",
   "id": "b12b2448-7aac-4730-a473-c6896795918a",
   "metadata": {},
   "source": [
    "**Index:** The set of labels used for identifying rows in a DataFrame."
   ]
  },
  {
   "cell_type": "code",
   "execution_count": 3,
   "id": "6bdc4e0d-59fc-4be5-87f1-e641afe99265",
   "metadata": {},
   "outputs": [
    {
     "name": "stdout",
     "output_type": "stream",
     "text": [
      "a    10\n",
      "b    20\n",
      "c    30\n",
      "d    40\n",
      "dtype: int64\n"
     ]
    }
   ],
   "source": [
    "s=pd.Series([10, 20, 30, 40], index=['a','b','c','d']) \n",
    "print(s)"
   ]
  },
  {
   "cell_type": "markdown",
   "id": "adcc1824-f81e-4307-b5f2-b28a6b229741",
   "metadata": {},
   "source": [
    "The index is then customized to use labels ('a', 'b', 'c') instead of the default numbers. This index serves as row identifiers, making it easier to reference and manipulate specific rows."
   ]
  },
  {
   "cell_type": "markdown",
   "id": "9264a4bc-5e03-41ac-b4ba-e67a8cc944f6",
   "metadata": {},
   "source": [
    "**DataFrame**"
   ]
  },
  {
   "cell_type": "code",
   "execution_count": 4,
   "id": "15e89a3e-5d63-40ac-9848-69c7012e8d98",
   "metadata": {},
   "outputs": [
    {
     "name": "stdout",
     "output_type": "stream",
     "text": [
      "Dictionary: \n",
      "{'Name': ['Alice', 'Bob', 'Charlie'], 'Age': [25, 30, 35], 'City': ['New York', 'Los Angeles', 'Chicago']}\n",
      "\n"
     ]
    }
   ],
   "source": [
    "# Create a dictionary of data\n",
    "data = {'Name':['Alice','Bob','Charlie'],\n",
    "       'Age':[25, 30, 35],\n",
    "        'City':['New York','Los Angeles','Chicago']\n",
    "       }\n",
    "print(f\"Dictionary: \\n{data}\\n\")"
   ]
  },
  {
   "cell_type": "code",
   "execution_count": 5,
   "id": "6630ca38-4021-42f8-8ad1-e77f5a0ffe2b",
   "metadata": {},
   "outputs": [
    {
     "name": "stdout",
     "output_type": "stream",
     "text": [
      "DataFrame with default index:\n",
      "\n",
      "      Name  Age         City\n",
      "0    Alice   25     New York\n",
      "1      Bob   30  Los Angeles\n",
      "2  Charlie   35      Chicago\n"
     ]
    }
   ],
   "source": [
    "# Create a DataFrame from the dictionary\n",
    "df = pd.DataFrame(data)\n",
    "print(\"DataFrame with default index:\\n\")\n",
    "print(df)\n"
   ]
  },
  {
   "cell_type": "code",
   "execution_count": 6,
   "id": "84c09f90-2171-431f-8287-a4fb7cf0ab61",
   "metadata": {},
   "outputs": [
    {
     "name": "stdout",
     "output_type": "stream",
     "text": [
      "\n",
      "DataFrame with custom index:\n",
      "\n",
      "      Name  Age         City\n",
      "a    Alice   25     New York\n",
      "b      Bob   30  Los Angeles\n",
      "c  Charlie   35      Chicago\n"
     ]
    }
   ],
   "source": [
    "# Set a custom index\n",
    "df.index = ['a', 'b', 'c']\n",
    "print(\"\\nDataFrame with custom index:\\n\")\n",
    "print(df)"
   ]
  },
  {
   "cell_type": "code",
   "execution_count": 7,
   "id": "9a6c8d6c-a10b-448c-8752-574eca8ca28f",
   "metadata": {},
   "outputs": [
    {
     "name": "stdout",
     "output_type": "stream",
     "text": [
      "<class 'dict'>\n"
     ]
    }
   ],
   "source": [
    "print(type(data))"
   ]
  },
  {
   "cell_type": "code",
   "execution_count": 8,
   "id": "062f2647-adbf-4c4e-be8b-e926f3f31942",
   "metadata": {},
   "outputs": [
    {
     "name": "stdout",
     "output_type": "stream",
     "text": [
      "<class 'pandas.core.frame.DataFrame'>\n"
     ]
    }
   ],
   "source": [
    "print(type(df))"
   ]
  },
  {
   "cell_type": "markdown",
   "id": "c67313e8-86b9-4906-a644-4aaf252aa305",
   "metadata": {},
   "source": [
    "#### **Other Formats to Create Pandas DataFrames**"
   ]
  },
  {
   "cell_type": "markdown",
   "id": "05dac236-9da0-4471-b071-d43c462965f1",
   "metadata": {},
   "source": [
    "* **From a list of lists:**"
   ]
  },
  {
   "cell_type": "code",
   "execution_count": 9,
   "id": "b810deb9-a8ed-4154-9787-2444db57cc2d",
   "metadata": {},
   "outputs": [
    {
     "name": "stdout",
     "output_type": "stream",
     "text": [
      "      Name  Age  Salary\n",
      "0    Alice   25   50000\n",
      "1      Bob   30   60000\n",
      "2  Charlie   35   70000\n"
     ]
    }
   ],
   "source": [
    "data_list = [\n",
    "    [\"Alice\", 25, 50000],\n",
    "    [\"Bob\", 30, 60000],\n",
    "    [\"Charlie\", 35, 70000]\n",
    "]\n",
    "df_list = pd.DataFrame(data_list, columns=[\"Name\", \"Age\", \"Salary\"])\n",
    "print(df_list)"
   ]
  },
  {
   "cell_type": "markdown",
   "id": "dbd37413-4c81-48af-ab12-aeec5f2535f5",
   "metadata": {},
   "source": [
    "* **From a CSV file:**\n",
    "```\n",
    "df = pd.read_csv(\"data.csv\")\n",
    "```"
   ]
  },
  {
   "cell_type": "markdown",
   "id": "e03dba70-4e0c-41bf-945b-9faf6d5a4f7c",
   "metadata": {},
   "source": [
    "* **From an Excel file:**\n",
    "```\n",
    "df = pd.read_excel(\"data.xlsx\")\n",
    "```"
   ]
  },
  {
   "cell_type": "code",
   "execution_count": 10,
   "id": "19853736-f11f-42d9-9a5a-22dffe89982c",
   "metadata": {},
   "outputs": [],
   "source": [
    "df = pd.read_csv(\"data.csv\")"
   ]
  },
  {
   "cell_type": "code",
   "execution_count": 11,
   "id": "21f81fd5-f2ef-48e8-84fa-8b7ee83ec7f2",
   "metadata": {},
   "outputs": [
    {
     "name": "stdout",
     "output_type": "stream",
     "text": [
      "            Name  Gender  Physics  Chemistry  Maths  English\n",
      "0  Katherine      Female      100         55    100       60\n",
      "1    Neil           Male       60         55     50       60\n",
      "2  Sushana        Female       85         88     99       80\n",
      "3    Tejas          Male       65         75     79       70\n"
     ]
    }
   ],
   "source": [
    "print(df)"
   ]
  },
  {
   "cell_type": "markdown",
   "id": "8f3e4ba3-cc96-49ca-930f-4b33445b531d",
   "metadata": {},
   "source": [
    "#### **Data Understanding and Preparation**\n",
    "##### **Checking Basic Information**\n",
    "##### **Preview the data:**"
   ]
  },
  {
   "cell_type": "code",
   "execution_count": null,
   "id": "097a520b-8e97-4f5b-8361-86f0355a3aa4",
   "metadata": {},
   "outputs": [],
   "source": [
    "print(df.head())  # First 5 rows"
   ]
  },
  {
   "cell_type": "code",
   "execution_count": null,
   "id": "e989097f-7727-4dfd-98f9-00e49effe208",
   "metadata": {},
   "outputs": [],
   "source": [
    "print(df.head(3))  # First 3 rows"
   ]
  },
  {
   "cell_type": "code",
   "execution_count": null,
   "id": "982c3e02-27af-4e17-8e8a-85934d50caa5",
   "metadata": {},
   "outputs": [],
   "source": [
    "print(df.tail())  # Last 5 rows"
   ]
  },
  {
   "cell_type": "markdown",
   "id": "f74e6423-de95-474c-9876-a716cb36c6ac",
   "metadata": {},
   "source": [
    "---\n",
    "##### **Get dataset summary:**"
   ]
  },
  {
   "cell_type": "code",
   "execution_count": null,
   "id": "fe4a2e56-c76a-4f4e-9002-942299367bb4",
   "metadata": {},
   "outputs": [],
   "source": [
    "print(df.info())  # General information about columns and data types"
   ]
  },
  {
   "cell_type": "code",
   "execution_count": null,
   "id": "677760a1-0a25-46c4-818c-9e8c85b86bd6",
   "metadata": {},
   "outputs": [],
   "source": [
    "print(df.describe())  # Summary statistics for numerical columns"
   ]
  },
  {
   "cell_type": "markdown",
   "id": "69ee277d-7dbc-45ee-bfa4-85d13bbd79a8",
   "metadata": {},
   "source": [
    "---\n",
    "##### **Get column names:**"
   ]
  },
  {
   "cell_type": "code",
   "execution_count": null,
   "id": "f0905a5e-c1b3-4fab-abed-12f1f6ab8851",
   "metadata": {},
   "outputs": [],
   "source": [
    "print(df.columns)"
   ]
  },
  {
   "cell_type": "markdown",
   "id": "88ad2503-5f37-4541-9404-ce4e830ed00f",
   "metadata": {},
   "source": [
    "---\n",
    "##### **Get number of rows and columns:**\n"
   ]
  },
  {
   "cell_type": "code",
   "execution_count": null,
   "id": "f6a8d695-a755-428b-8463-22890c05b556",
   "metadata": {},
   "outputs": [],
   "source": [
    "print(df.shape)  # (rows, columns)"
   ]
  },
  {
   "cell_type": "markdown",
   "id": "98d49f7b-04ef-4ea4-9d05-3cd1dc90e9a5",
   "metadata": {},
   "source": [
    "---\n",
    "#### **Indexers in Pandas**"
   ]
  },
  {
   "cell_type": "markdown",
   "id": "ff6a09b0-2207-4dcd-902b-34a8a21f0b7a",
   "metadata": {},
   "source": [
    "##### **Selecting Columns**\n",
    "* **Using column names:**"
   ]
  },
  {
   "cell_type": "code",
   "execution_count": null,
   "id": "5853f635-3d70-4e3f-be9f-d13e86651fec",
   "metadata": {},
   "outputs": [],
   "source": [
    "print(df[\"Name\"])  # Selecting Columns"
   ]
  },
  {
   "cell_type": "code",
   "execution_count": null,
   "id": "07e6e9c2-fe30-49d1-a006-c1e40e94873f",
   "metadata": {},
   "outputs": [],
   "source": [
    "print(df[[\"Name\", \"Maths\"]])  # Select multiple columns"
   ]
  },
  {
   "cell_type": "markdown",
   "id": "230f973e-6e58-47db-a27a-67e942f27cf9",
   "metadata": {},
   "source": [
    "##### **Selecting Rows**\n",
    "* **Using index numbers:**"
   ]
  },
  {
   "cell_type": "code",
   "execution_count": null,
   "id": "6c590f9f-36d5-4e9b-b417-8adece880fde",
   "metadata": {},
   "outputs": [],
   "source": [
    "print(df.iloc[0])  # First row"
   ]
  },
  {
   "cell_type": "code",
   "execution_count": null,
   "id": "e4171c8e-25b8-41c1-a6be-100840d5ecfb",
   "metadata": {},
   "outputs": [],
   "source": [
    "print(df.iloc[0])  # First row\n",
    "print(\"\\n\")\n",
    "print(df.iloc[1:3])  # Rows from index 1 to 2"
   ]
  },
  {
   "cell_type": "markdown",
   "id": "5b7c4dc6-502f-456b-91f9-13196fc7432b",
   "metadata": {},
   "source": [
    "* **Using labels:**"
   ]
  },
  {
   "cell_type": "code",
   "execution_count": null,
   "id": "c96fa709-0b84-4b70-8a8d-04b008891c20",
   "metadata": {},
   "outputs": [],
   "source": [
    "print(df.loc[0])  # First row if index is numeric"
   ]
  },
  {
   "cell_type": "code",
   "execution_count": null,
   "id": "bcb86bea-c172-48fb-81b5-4a0f37b919e5",
   "metadata": {},
   "outputs": [],
   "source": [
    "df.loc[1:3]"
   ]
  },
  {
   "cell_type": "code",
   "execution_count": null,
   "id": "a130f38b-99f1-4d53-97d4-8b7168fd5c65",
   "metadata": {},
   "outputs": [],
   "source": [
    "df.iloc[1:3]"
   ]
  },
  {
   "cell_type": "markdown",
   "id": "c69025b4-12cd-43f8-a175-beeacb22bbd8",
   "metadata": {},
   "source": [
    "---\n",
    "#### **Handling Missing Values**"
   ]
  },
  {
   "cell_type": "markdown",
   "id": "0af31856-b384-440d-adc8-ee14ce903c00",
   "metadata": {},
   "source": [
    "##### **Checking for Missing Values**"
   ]
  },
  {
   "cell_type": "code",
   "execution_count": null,
   "id": "c29a890a-bfa1-403d-9007-b5d6ae8f465c",
   "metadata": {},
   "outputs": [],
   "source": [
    "print(df.isnull())"
   ]
  },
  {
   "cell_type": "code",
   "execution_count": null,
   "id": "3eb36bfc-d6d4-42e9-bd83-63fb1234658e",
   "metadata": {},
   "outputs": [],
   "source": [
    "print(df.isnull().sum()) # Count missing values in each column"
   ]
  },
  {
   "cell_type": "markdown",
   "id": "3f668f42-89c6-462b-9b7d-bb4ebd2f5233",
   "metadata": {},
   "source": [
    "##### **Filling Missing Values**\n",
    "* Replace missing values with a specific number:"
   ]
  },
  {
   "cell_type": "code",
   "execution_count": null,
   "id": "6c45c28b-dd65-466e-8885-1a9d073dc209",
   "metadata": {},
   "outputs": [],
   "source": [
    "df.fillna(0, inplace=True)  # Replace all NaN values with 0"
   ]
  },
  {
   "cell_type": "markdown",
   "id": "c6503cfd-84b3-4a60-84fd-1aa453523a4d",
   "metadata": {},
   "source": [
    "* Fill missing values with column mean (for numerical columns):"
   ]
  },
  {
   "cell_type": "code",
   "execution_count": null,
   "id": "ac43b349-9180-490d-ab55-d010facc0bb9",
   "metadata": {},
   "outputs": [],
   "source": [
    "df[\"Physics\"]= df[\"Physics\"].fillna(df[\"Physics\"].mean())"
   ]
  },
  {
   "cell_type": "code",
   "execution_count": null,
   "id": "92774db1-0111-4b6f-bbd6-3b37ecf82a23",
   "metadata": {},
   "outputs": [],
   "source": [
    "df"
   ]
  },
  {
   "cell_type": "markdown",
   "id": "8e38a14c-b04e-43f5-baf2-4a50fdfe162a",
   "metadata": {},
   "source": [
    "##### **Removing Missing Values**\n",
    "* Remove rows with missing values:"
   ]
  },
  {
   "cell_type": "code",
   "execution_count": null,
   "id": "64639d48-1b9e-43bd-8b30-9e62b528d418",
   "metadata": {},
   "outputs": [],
   "source": [
    "df.dropna(inplace=True)"
   ]
  },
  {
   "cell_type": "markdown",
   "id": "4a2878a2-aa68-4385-ad3d-574f1e846e68",
   "metadata": {},
   "source": [
    "* Remove columns with missing values:"
   ]
  },
  {
   "cell_type": "code",
   "execution_count": null,
   "id": "e84b57d5-1e19-49c5-b3d8-54fcc559aae9",
   "metadata": {},
   "outputs": [],
   "source": [
    "df.dropna(axis=1, inplace=True)"
   ]
  },
  {
   "cell_type": "markdown",
   "id": "34a08e97-34e6-4996-af80-891bd35782c7",
   "metadata": {},
   "source": [
    "#### **Examining Numerical and Categorical Data**\n",
    "##### **Numerical Data**"
   ]
  },
  {
   "cell_type": "code",
   "execution_count": null,
   "id": "e8c5982b-1c6f-4df0-b087-e36e5b2fe939",
   "metadata": {},
   "outputs": [],
   "source": [
    "print(df.describe())  # Summary of numerical data"
   ]
  },
  {
   "cell_type": "code",
   "execution_count": null,
   "id": "37d465da-e319-4ef7-b2b5-167675f98328",
   "metadata": {},
   "outputs": [],
   "source": [
    "print(\"Mean of Phyiscs score:\",df[\"Physics\"].mean())  # Mean salary\n",
    "print(\"Median of Phyiscs score:\",df[\"Physics\"].median())  # Median salary\n",
    "print(\"Standard deviation of Phyiscs score:\",df[\"Physics\"].std())  # Standard deviationPhysics"
   ]
  },
  {
   "cell_type": "markdown",
   "id": "e854c75a-00bc-46fb-b3fb-b39e4c040d66",
   "metadata": {},
   "source": [
    "##### **Categorical Data**"
   ]
  },
  {
   "cell_type": "code",
   "execution_count": null,
   "id": "40a298bc-b96c-4677-9b32-685f35f7a1b9",
   "metadata": {},
   "outputs": [],
   "source": [
    "#Get unique categories:\n",
    "print(df[\"Name\"].unique())"
   ]
  },
  {
   "cell_type": "code",
   "execution_count": null,
   "id": "5c88fec0-f8e2-49ae-9b0c-aa85b60f99e7",
   "metadata": {},
   "outputs": [],
   "source": [
    "#Count occurrences of each category:\n",
    "print(df[\"Name\"].value_counts())"
   ]
  },
  {
   "cell_type": "code",
   "execution_count": null,
   "id": "138a1954-7dd9-4ca3-b402-13c3aa2da7c7",
   "metadata": {},
   "outputs": [],
   "source": [
    "#Convert categorical data into numerical format (Encoding):\n",
    "df[\"Gender\"] = df[\"Gender\"].map({\"Male\": 0, \"Female\": 1})\n",
    "df"
   ]
  },
  {
   "cell_type": "code",
   "execution_count": null,
   "id": "51278061-1313-4b8f-968b-36b95ac2c40f",
   "metadata": {},
   "outputs": [],
   "source": [
    "df"
   ]
  },
  {
   "cell_type": "markdown",
   "id": "70f38907-e7ed-4426-9ed6-00baa4718dfe",
   "metadata": {},
   "source": []
  },
  {
   "cell_type": "code",
   "execution_count": null,
   "id": "7bd1aa2e-0742-4e2f-b931-5163c47010b5",
   "metadata": {},
   "outputs": [],
   "source": []
  },
  {
   "cell_type": "code",
   "execution_count": null,
   "id": "bdfbd24d-6d5e-4e50-a27c-280e177ca015",
   "metadata": {},
   "outputs": [],
   "source": []
  }
 ],
 "metadata": {
  "kernelspec": {
   "display_name": "Python 3 (ipykernel)",
   "language": "python",
   "name": "python3"
  },
  "language_info": {
   "codemirror_mode": {
    "name": "ipython",
    "version": 3
   },
   "file_extension": ".py",
   "mimetype": "text/x-python",
   "name": "python",
   "nbconvert_exporter": "python",
   "pygments_lexer": "ipython3",
   "version": "3.11.5"
  }
 },
 "nbformat": 4,
 "nbformat_minor": 5
}
